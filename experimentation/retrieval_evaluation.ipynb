{
 "cells": [
  {
   "cell_type": "markdown",
   "id": "866b28b7-1fe7-483b-868f-d6ff69bbfb53",
   "metadata": {},
   "source": [
    "# Retrieval Evaluation\n",
    "\n",
    "Using `ground-truth-data.csv`, the following search methods are evaluated in order to find the most suitable search method for the final application.\n",
    "\n",
    "* text search/lexical search\n",
    "* vector search/semantic search\n",
    "* hybrid search\n",
    "\n",
    "These evaluation metrics will be applied to each search method:\n",
    "* Hit Rate (HR)\n",
    "* Mean Reciprocal Rank (MRR)\n",
    "\n",
    "The final search method is decided by taking the highest scorer in both HR and MRR results."
   ]
  },
  {
   "cell_type": "code",
   "execution_count": 1,
   "id": "162048f0-0538-43ac-9257-d270dbcea179",
   "metadata": {},
   "outputs": [],
   "source": [
    "import os\n",
    "import json\n",
    "import pandas as pd\n",
    "import numpy as np\n",
    "\n",
    "from elasticsearch import Elasticsearch\n",
    "from tqdm.auto import tqdm\n",
    "from sentence_transformers import SentenceTransformer"
   ]
  },
  {
   "cell_type": "markdown",
   "id": "0e350a8f-5d70-4fac-beb2-4625618da8ee",
   "metadata": {},
   "source": [
    "## Index data into Elasticsearch\n",
    "\n",
    "The preprocessed data in `az900_notes_with_vectors.pkl` would be first indexed into Elasticsearch in preparation for the search methods.\n",
    "\n",
    "**NOTE**: Elasticsearch container must be running in Docker before executing the following code blocks."
   ]
  },
  {
   "cell_type": "code",
   "execution_count": 2,
   "id": "56bea921-132f-4b73-a89b-9c78a753bf31",
   "metadata": {},
   "outputs": [],
   "source": [
    "folder = \"../data/\"\n",
    "documents_file = \"az900_notes_with_vectors.pkl\""
   ]
  },
  {
   "cell_type": "code",
   "execution_count": 3,
   "id": "5cfad3e7-5572-4733-9512-5405775233d6",
   "metadata": {},
   "outputs": [
    {
     "name": "stdout",
     "output_type": "stream",
     "text": [
      "<class 'pandas.core.frame.DataFrame'>\n",
      "RangeIndex: 385 entries, 0 to 384\n",
      "Data columns (total 8 columns):\n",
      " #   Column         Non-Null Count  Dtype \n",
      "---  ------         --------------  ----- \n",
      " 0   doc_id         385 non-null    object\n",
      " 1   header         385 non-null    object\n",
      " 2   subheader      385 non-null    object\n",
      " 3   document       385 non-null    object\n",
      " 4   doc_text       385 non-null    object\n",
      " 5   header_vec     385 non-null    object\n",
      " 6   subheader_vec  385 non-null    object\n",
      " 7   doc_text_vec   385 non-null    object\n",
      "dtypes: object(8)\n",
      "memory usage: 24.2+ KB\n"
     ]
    }
   ],
   "source": [
    "df = pd.read_pickle(f\"{folder}{documents_file}\")\n",
    "df.info()"
   ]
  },
  {
   "cell_type": "code",
   "execution_count": 4,
   "id": "0bcf6c29-7b15-4e06-a9cd-6522b3ad2f6b",
   "metadata": {},
   "outputs": [],
   "source": [
    "# set doc_id as index since it will be used as keyword type in Elasticsearch\n",
    "df = df.set_index(\"doc_id\")"
   ]
  },
  {
   "cell_type": "code",
   "execution_count": 5,
   "id": "f4763cb3-684a-42fe-bd02-c7d2b91f77ef",
   "metadata": {},
   "outputs": [
    {
     "name": "stderr",
     "output_type": "stream",
     "text": [
      "/Users/viviensiew/.local/share/virtualenvs/LLM-project-84bUGCVP/lib/python3.12/site-packages/transformers/tokenization_utils_base.py:1601: FutureWarning: `clean_up_tokenization_spaces` was not set. It will be set to `True` by default. This behavior will be depracted in transformers v4.45, and will be then set to `False` by default. For more details check this issue: https://github.com/huggingface/transformers/issues/31884\n",
      "  warnings.warn(\n"
     ]
    },
    {
     "data": {
      "text/plain": [
       "384"
      ]
     },
     "execution_count": 5,
     "metadata": {},
     "output_type": "execute_result"
    }
   ],
   "source": [
    "model_name = 'sentence-transformers/all-MiniLM-L12-v2'\n",
    "vec_dim = SentenceTransformer(model_name).get_sentence_embedding_dimension()\n",
    "vec_dim"
   ]
  },
  {
   "cell_type": "code",
   "execution_count": 6,
   "id": "5e5ef1e2-90ff-4783-a086-fa20715c7f0b",
   "metadata": {},
   "outputs": [],
   "source": [
    "def infer_es_mapping(df, vec_dim):\n",
    "    '''\n",
    "    Accepts a pandas dataframe and vector embedding dimension and generates elasticsearch index mapping properties dynamically.\n",
    "    Index is keyword type.\n",
    "    Fields end with \"_vec\" are dense vector types, while others are text types.\n",
    "    '''\n",
    "    similarity = 'cosine'    \n",
    "    es_mapping = {}\n",
    "\n",
    "    if type(df.index) == pd.Index :\n",
    "        es_mapping[df.index.name] = {'type': 'keyword'}\n",
    "        \n",
    "    # for col, dtype in df.dtypes.iteritems():\n",
    "    for col in df.columns:\n",
    "        if col.endswith(\"_vec\"):\n",
    "            es_mapping[col] = {'type': 'dense_vector', 'dims': vec_dim, 'index': True, 'similarity':similarity}\n",
    "        else:\n",
    "            es_mapping[col] = {'type': 'text'}\n",
    "    return es_mapping"
   ]
  },
  {
   "cell_type": "code",
   "execution_count": 7,
   "id": "e4046aa3-7005-4116-b520-ab0a973f9e95",
   "metadata": {},
   "outputs": [
    {
     "data": {
      "text/plain": [
       "{'doc_id': {'type': 'keyword'},\n",
       " 'header': {'type': 'text'},\n",
       " 'subheader': {'type': 'text'},\n",
       " 'document': {'type': 'text'},\n",
       " 'doc_text': {'type': 'text'},\n",
       " 'header_vec': {'type': 'dense_vector',\n",
       "  'dims': 384,\n",
       "  'index': True,\n",
       "  'similarity': 'cosine'},\n",
       " 'subheader_vec': {'type': 'dense_vector',\n",
       "  'dims': 384,\n",
       "  'index': True,\n",
       "  'similarity': 'cosine'},\n",
       " 'doc_text_vec': {'type': 'dense_vector',\n",
       "  'dims': 384,\n",
       "  'index': True,\n",
       "  'similarity': 'cosine'}}"
      ]
     },
     "execution_count": 7,
     "metadata": {},
     "output_type": "execute_result"
    }
   ],
   "source": [
    "es_mapping_properties = infer_es_mapping(df, vec_dim)\n",
    "es_mapping_properties"
   ]
  },
  {
   "cell_type": "markdown",
   "id": "4504a66c-bb3e-4631-bede-3e6bfbea73c9",
   "metadata": {},
   "source": [
    "Create elasticsearch index `az900_course_notes`. If this index already exists, delete existing index and replace with new one."
   ]
  },
  {
   "cell_type": "code",
   "execution_count": 8,
   "id": "72be6e9c-03cc-4762-858c-0a1b29ddb73a",
   "metadata": {},
   "outputs": [],
   "source": [
    "es_client = Elasticsearch('http://localhost:9200') "
   ]
  },
  {
   "cell_type": "code",
   "execution_count": 9,
   "id": "cc36490f-d9fb-463a-9e02-ec342ffd0942",
   "metadata": {},
   "outputs": [],
   "source": [
    "def create_es_index(es_mapping_properties, index_name):\n",
    "    index_settings = {\n",
    "        \"settings\": {\n",
    "            \"number_of_shards\": 1,\n",
    "            \"number_of_replicas\": 0\n",
    "        },\n",
    "        \"mappings\": {\n",
    "            \"properties\": es_mapping_properties\n",
    "        }\n",
    "    }\n",
    "\n",
    "    es_client.indices.delete(index=index_name, ignore_unavailable=True)\n",
    "    es_client.indices.create(index=index_name, body=index_settings)"
   ]
  },
  {
   "cell_type": "code",
   "execution_count": 10,
   "id": "aa5f8d67-4252-4db4-bfcd-a50c73c98780",
   "metadata": {},
   "outputs": [],
   "source": [
    "es_index_name = \"az900_course_notes\"\n",
    "create_es_index(es_mapping_properties, es_index_name)"
   ]
  },
  {
   "cell_type": "markdown",
   "id": "fd242ae1-90e5-41ef-8e5d-8b30832ad68d",
   "metadata": {},
   "source": [
    "Transform data from `az900_notes_with_vectors.pkl` into JSON format and index into elasticsearch index `az900_course_notes`"
   ]
  },
  {
   "cell_type": "code",
   "execution_count": 11,
   "id": "f6b76d42-239a-4771-84e3-a888add3209c",
   "metadata": {},
   "outputs": [],
   "source": [
    "documents = pd.read_pickle(f\"{folder}{documents_file}\").to_dict(orient=\"records\")"
   ]
  },
  {
   "cell_type": "code",
   "execution_count": 12,
   "id": "350fc242-5597-43a6-b5ba-a2d693a9d05a",
   "metadata": {},
   "outputs": [
    {
     "data": {
      "text/plain": [
       "385"
      ]
     },
     "execution_count": 12,
     "metadata": {},
     "output_type": "execute_result"
    }
   ],
   "source": [
    "len(documents)"
   ]
  },
  {
   "cell_type": "code",
   "execution_count": 13,
   "id": "5cc29839-98e1-4f69-899e-98d074a00bb4",
   "metadata": {},
   "outputs": [
    {
     "data": {
      "application/vnd.jupyter.widget-view+json": {
       "model_id": "89b6ffae075d481b9d81a10da52ba06e",
       "version_major": 2,
       "version_minor": 0
      },
      "text/plain": [
       "  0%|          | 0/385 [00:00<?, ?it/s]"
      ]
     },
     "metadata": {},
     "output_type": "display_data"
    }
   ],
   "source": [
    "for doc in tqdm(documents):\n",
    "    es_client.index(index=es_index_name, document=doc)"
   ]
  },
  {
   "cell_type": "markdown",
   "id": "95cb9286-7b34-4555-85c1-1bf58ffc6942",
   "metadata": {},
   "source": [
    "### Load Ground Truth data"
   ]
  },
  {
   "cell_type": "code",
   "execution_count": 14,
   "id": "f557bf64-e90b-4f3f-b8d5-1fdd9a23c496",
   "metadata": {},
   "outputs": [],
   "source": [
    "ground_truth_file = \"ground-truth-data.pkl\"\n",
    "ground_truth = pd.read_pickle(f\"{folder}{ground_truth_file}\").to_dict(orient=\"records\")"
   ]
  },
  {
   "cell_type": "code",
   "execution_count": 15,
   "id": "6d34b4b0-6aa5-48e6-841d-adc3b0d0e418",
   "metadata": {},
   "outputs": [
    {
     "data": {
      "text/plain": [
       "dict_keys(['doc_id', 'question', 'question_vec'])"
      ]
     },
     "execution_count": 15,
     "metadata": {},
     "output_type": "execute_result"
    }
   ],
   "source": [
    "ground_truth[0].keys()"
   ]
  },
  {
   "cell_type": "markdown",
   "id": "7dbb8984-83ff-43ef-a671-f75fb8663672",
   "metadata": {},
   "source": [
    "### Setup Evaluation Metrics\n",
    "\n",
    "### Hit Rate (HR) or Recall at k:\n",
    "* Measures the proportion of queries for which at least one relevant document is retrieved in the top k results.\n",
    "* Formula: HR@k $= \\displaystyle\\frac{(\\text{\\#queries with at least one relevant document in top k})}{|Q|}$ where $|Q|$: total number of queries.\n",
    "* Example, if there are 3 questions and each question has 5 search results, if only question 1 has at least one relevant document in its search results, while none of question 2's and question 3's results are relevant, then Hit Rate would be $\\frac{1}{3}$."
   ]
  },
  {
   "cell_type": "code",
   "execution_count": 16,
   "id": "e8a89c13-f5cf-40da-8388-5ecb3dae1058",
   "metadata": {},
   "outputs": [],
   "source": [
    "def hit_rate(relevance_total):\n",
    "    relevant_count = 0\n",
    "\n",
    "    for line in relevance_total:\n",
    "        if True in line:\n",
    "            relevant_count = relevant_count + 1\n",
    "\n",
    "    return relevant_count / len(relevance_total)"
   ]
  },
  {
   "cell_type": "markdown",
   "id": "9f995c4e-69ea-421b-9adc-73b65f9928c2",
   "metadata": {},
   "source": [
    "### Mean Reciprocal Rank (MRR):\n",
    "* For each query, evaluates the rank position of the first relevant document. Then evaluates the mean of those rank positions.\n",
    "* If there is no relevant document in the query result, evaluate as 0.\n",
    "* Formula: MRR $ \\displaystyle = \\frac{1}{|Q|} \\sum_{q=1}^{|Q|} (\\frac{i}{\\text{rank } i})$  where $|Q|$: total number of queries, $i = 1$: first relevant document, else $i=0$ if no relevant document.\n",
    "* Example, for a question's 5 search results, if the first relevant document is the 3rd top result then we get $\\frac{1}{3}$ for $\\frac{i}{\\text{rank } i}$.\n",
    "* [Mean Reciprocal Rank (MRR) explained](https://www.evidentlyai.com/ranking-metrics/mean-reciprocal-rank-mrr)"
   ]
  },
  {
   "cell_type": "code",
   "execution_count": 17,
   "id": "57ef426f-f9de-4413-862e-ae32671bb3c6",
   "metadata": {},
   "outputs": [],
   "source": [
    "def mrr(relevance_total):\n",
    "    total_score = 0.0\n",
    "\n",
    "    for line in relevance_total:\n",
    "        for rank in range(len(line)):\n",
    "            if line[rank] == True:\n",
    "                total_score = total_score + 1 / (rank + 1)\n",
    "                break\n",
    "\n",
    "    return total_score / len(relevance_total)"
   ]
  },
  {
   "cell_type": "markdown",
   "id": "33e1eb14-32e0-4b8f-b36a-b254ac1fb8e3",
   "metadata": {},
   "source": [
    "### Stores evaluations into a DataFrame\n",
    "Setup a dictionary to store Hit Rate and MRR of each evaluation method"
   ]
  },
  {
   "cell_type": "code",
   "execution_count": 18,
   "id": "7e1846a6-4573-4879-95e5-a489b1afc345",
   "metadata": {},
   "outputs": [],
   "source": [
    "evaluation_dict = {}"
   ]
  },
  {
   "cell_type": "markdown",
   "id": "79f16bba-8ebc-43c5-8d2d-7368a803ff88",
   "metadata": {},
   "source": [
    "### Setup text-based search\n",
    "\n",
    "Given a text-based query, perform a text-based search that retrieves best results that matches the query at fields `header`, `subheader`, and `doc_text`. Note that `doc_text` is given 3 times of weights (importance) as this field contains more information compared to `header` and `subheader`."
   ]
  },
  {
   "cell_type": "code",
   "execution_count": 19,
   "id": "7b31e7a9-4947-4b06-88fa-38bae41fa4ef",
   "metadata": {},
   "outputs": [],
   "source": [
    "def es_text_search(question, fields, index_name):\n",
    "    search_query = {\n",
    "        \"size\": 5,\n",
    "        \"query\": {\n",
    "            \"bool\": {\n",
    "                \"must\": {\n",
    "                    \"multi_match\": {\n",
    "                        \"query\": question,\n",
    "                        \"fields\": fields,\n",
    "                        \"type\": \"best_fields\"\n",
    "                    }\n",
    "                },\n",
    "            }\n",
    "        }\n",
    "    }\n",
    "\n",
    "    response = es_client.search(index=index_name, body=search_query)\n",
    "    \n",
    "    result_docs = []\n",
    "    \n",
    "    for hit in response['hits']['hits']:\n",
    "        result_docs.append(hit['_source'])\n",
    "    \n",
    "    return result_docs"
   ]
  },
  {
   "cell_type": "markdown",
   "id": "df2a4766-89cb-423f-982d-7c874e6e6d88",
   "metadata": {},
   "source": [
    "### Evaluate text-based search\n",
    "* Evaluate text-based search using ground truth data.\n",
    "* Save evaluation results for comparison later."
   ]
  },
  {
   "cell_type": "markdown",
   "id": "461a108e-4f40-403c-b620-78f74fcd4a43",
   "metadata": {},
   "source": [
    "Using keyword fields `header`, `subheader`, `doc_text` with equal weights."
   ]
  },
  {
   "cell_type": "code",
   "execution_count": 20,
   "id": "39bd6c6c-fbce-48e8-99c2-8a7b62b1472b",
   "metadata": {},
   "outputs": [
    {
     "data": {
      "application/vnd.jupyter.widget-view+json": {
       "model_id": "0b65ac76c23841118fc49625af16d240",
       "version_major": 2,
       "version_minor": 0
      },
      "text/plain": [
       "  0%|          | 0/1925 [00:00<?, ?it/s]"
      ]
     },
     "metadata": {},
     "output_type": "display_data"
    }
   ],
   "source": [
    "relevance_total = []\n",
    "fields = [\"header\", \"subheader\", \"doc_text\"]\n",
    "\n",
    "for q in tqdm(ground_truth):\n",
    "    doc_id = q['doc_id']\n",
    "    results = es_text_search(question=q['question'], fields = fields, index_name=es_index_name)\n",
    "    relevance = [d['doc_id'] == doc_id for d in results]\n",
    "    relevance_total.append(relevance)"
   ]
  },
  {
   "cell_type": "code",
   "execution_count": 21,
   "id": "be0064dd-4ede-4ef9-8cb9-9cfee4a91e56",
   "metadata": {},
   "outputs": [],
   "source": [
    "text_base_hit_rate = hit_rate(relevance_total)\n",
    "text_base_mrr = mrr(relevance_total)\n",
    "\n",
    "evaluation_dict['text_search_baseline'] = { 'hit_rate': text_base_hit_rate,\n",
    "                                         'mrr': text_base_mrr}"
   ]
  },
  {
   "cell_type": "markdown",
   "id": "e3317655-bf51-4161-8d97-960996fb6614",
   "metadata": {},
   "source": [
    "Using keyword fields `header`, `subheader`, `doc_text`, boost `doc_text` by 3."
   ]
  },
  {
   "cell_type": "code",
   "execution_count": 22,
   "id": "cb71e3c8-3f02-4912-b2ec-8d2085fc0a57",
   "metadata": {},
   "outputs": [
    {
     "data": {
      "application/vnd.jupyter.widget-view+json": {
       "model_id": "8633d0a3aa274d3fb07d0895027acd2c",
       "version_major": 2,
       "version_minor": 0
      },
      "text/plain": [
       "  0%|          | 0/1925 [00:00<?, ?it/s]"
      ]
     },
     "metadata": {},
     "output_type": "display_data"
    }
   ],
   "source": [
    "relevance_total = []\n",
    "fields = [\"header\", \"subheader\", \"doc_text^3\"]\n",
    "\n",
    "for q in tqdm(ground_truth):\n",
    "    doc_id = q['doc_id']\n",
    "    results = es_text_search(question=q['question'], fields = fields, index_name=es_index_name)\n",
    "    relevance = [d['doc_id'] == doc_id for d in results]\n",
    "    relevance_total.append(relevance)"
   ]
  },
  {
   "cell_type": "code",
   "execution_count": 23,
   "id": "3a79bede-6c3b-4437-b80c-e468db44dc72",
   "metadata": {},
   "outputs": [],
   "source": [
    "text_1_hit_rate = hit_rate(relevance_total)\n",
    "text_1_mrr = mrr(relevance_total)\n",
    "\n",
    "evaluation_dict['text_search_1'] = { 'hit_rate': text_1_hit_rate,\n",
    "                                         'mrr': text_1_mrr}"
   ]
  },
  {
   "cell_type": "markdown",
   "id": "7a0be220-de3e-4718-9e75-a945f64af7c5",
   "metadata": {},
   "source": [
    "Using keyword fields `subheader`, `doc_text`, boost `doc_text` by 3."
   ]
  },
  {
   "cell_type": "code",
   "execution_count": 24,
   "id": "5ceee9a2-0be9-4dba-a06a-e1f498268f0a",
   "metadata": {},
   "outputs": [
    {
     "data": {
      "application/vnd.jupyter.widget-view+json": {
       "model_id": "7fc2094b42e949d18a0bde11e170fed4",
       "version_major": 2,
       "version_minor": 0
      },
      "text/plain": [
       "  0%|          | 0/1925 [00:00<?, ?it/s]"
      ]
     },
     "metadata": {},
     "output_type": "display_data"
    }
   ],
   "source": [
    "relevance_total = []\n",
    "fields = [\"subheader\", \"doc_text^3\"]\n",
    "\n",
    "for q in tqdm(ground_truth):\n",
    "    doc_id = q['doc_id']\n",
    "    results = es_text_search(question=q['question'], fields = fields, index_name=es_index_name)\n",
    "    relevance = [d['doc_id'] == doc_id for d in results]\n",
    "    relevance_total.append(relevance)"
   ]
  },
  {
   "cell_type": "code",
   "execution_count": 25,
   "id": "00ecbef5-a0c1-44e6-a5b9-9ea50f8a574f",
   "metadata": {},
   "outputs": [],
   "source": [
    "text_2_hit_rate = hit_rate(relevance_total)\n",
    "text_2_mrr = mrr(relevance_total)\n",
    "\n",
    "evaluation_dict['text_search_2'] = { 'hit_rate': text_2_hit_rate,\n",
    "                                         'mrr': text_2_mrr}"
   ]
  },
  {
   "cell_type": "markdown",
   "id": "d718fb40-3831-4194-99b6-065cbf1c1ca0",
   "metadata": {},
   "source": [
    "Using keyword fields `subheader`, `doc_text`, boost `subheader` by 0.5 (less important), `doc_text` by 3."
   ]
  },
  {
   "cell_type": "code",
   "execution_count": 26,
   "id": "1fed86bf-f543-4f71-9e24-fa1155b3cfe3",
   "metadata": {},
   "outputs": [
    {
     "data": {
      "application/vnd.jupyter.widget-view+json": {
       "model_id": "d6552990ea134ba6ae18b0a36c64e989",
       "version_major": 2,
       "version_minor": 0
      },
      "text/plain": [
       "  0%|          | 0/1925 [00:00<?, ?it/s]"
      ]
     },
     "metadata": {},
     "output_type": "display_data"
    }
   ],
   "source": [
    "relevance_total = []\n",
    "fields = [\"subheader^0.5\", \"doc_text^3\"]\n",
    "\n",
    "for q in tqdm(ground_truth):\n",
    "    doc_id = q['doc_id']\n",
    "    results = es_text_search(question=q['question'], fields = fields, index_name=es_index_name)\n",
    "    relevance = [d['doc_id'] == doc_id for d in results]\n",
    "    relevance_total.append(relevance)"
   ]
  },
  {
   "cell_type": "code",
   "execution_count": 27,
   "id": "074fd204-7f0d-416c-88e6-e9a615fa3f64",
   "metadata": {},
   "outputs": [],
   "source": [
    "text_3_hit_rate = hit_rate(relevance_total)\n",
    "text_3_mrr = mrr(relevance_total)\n",
    "\n",
    "evaluation_dict['text_search_3'] = { 'hit_rate': text_3_hit_rate,\n",
    "                                         'mrr': text_3_mrr}"
   ]
  },
  {
   "cell_type": "markdown",
   "id": "0c6b414e-8ce6-4670-b8f8-80b5f93e82ca",
   "metadata": {},
   "source": [
    "### Setup vector-based search (one vector field)\n",
    "\n",
    "Given an embedded question `question_vec`, perform a vector-based search that retrieves best results that matches `doc_text_vec` field.\n",
    "\n",
    "The fields in results are specified in `result_fields` parameter."
   ]
  },
  {
   "cell_type": "code",
   "execution_count": 28,
   "id": "067a826e-52c7-4cde-8777-4301b2780b2a",
   "metadata": {},
   "outputs": [],
   "source": [
    "def es_vector_search_one(question_vec, index_name, result_fields):\n",
    "    knn = {\n",
    "        \"field\": \"doc_text_vec\",\n",
    "        \"query_vector\": question_vec,\n",
    "        \"k\": 5,\n",
    "        \"num_candidates\": 10000,\n",
    "    }\n",
    "\n",
    "    search_query = {\n",
    "        \"knn\": knn,\n",
    "        \"_source\": result_fields\n",
    "    }\n",
    "\n",
    "    es_results = es_client.search(\n",
    "        index=index_name,\n",
    "        body=search_query\n",
    "    )\n",
    "    \n",
    "    result_docs = []\n",
    "    \n",
    "    for hit in es_results['hits']['hits']:\n",
    "        result_docs.append(hit['_source'])\n",
    "\n",
    "    return result_docs"
   ]
  },
  {
   "cell_type": "markdown",
   "id": "975aba3d-f0f9-4def-aef9-f43faaf66f0f",
   "metadata": {},
   "source": [
    "### Evaluate vector-based search (one vector field)\n",
    "* Evaluate vector-based search using ground truth data and one vector field `doc_text_vec`.\n",
    "* Save evaluation results for comparison later."
   ]
  },
  {
   "cell_type": "code",
   "execution_count": 29,
   "id": "ae17be1b-ab65-43f3-9976-1d09f15e661d",
   "metadata": {},
   "outputs": [],
   "source": [
    "result_fields = ['doc_id', 'header', 'suheader', 'document', 'doc_text']"
   ]
  },
  {
   "cell_type": "code",
   "execution_count": 30,
   "id": "fe0da98e-7084-4ce5-8b10-3dc3a24319ad",
   "metadata": {},
   "outputs": [
    {
     "data": {
      "application/vnd.jupyter.widget-view+json": {
       "model_id": "f66b5b73a67443c596bdca7cfb4bc090",
       "version_major": 2,
       "version_minor": 0
      },
      "text/plain": [
       "  0%|          | 0/1925 [00:00<?, ?it/s]"
      ]
     },
     "metadata": {},
     "output_type": "display_data"
    }
   ],
   "source": [
    "relevance_total = []\n",
    "\n",
    "for q in tqdm(ground_truth):\n",
    "    doc_id = q['doc_id']\n",
    "    results = es_vector_search_one(question_vec=q['question_vec'], index_name=es_index_name, result_fields=result_fields)\n",
    "    relevance = [d['doc_id'] == doc_id for d in results]\n",
    "    relevance_total.append(relevance)"
   ]
  },
  {
   "cell_type": "code",
   "execution_count": 31,
   "id": "7725c597-a00c-434e-910c-331d156bb1e6",
   "metadata": {},
   "outputs": [],
   "source": [
    "vec_1_hit_rate = hit_rate(relevance_total)\n",
    "vec_1_mrr = mrr(relevance_total)\n",
    "evaluation_dict['vec_search_1'] = { 'hit_rate': vec_1_hit_rate,\n",
    "                                         'mrr': vec_1_mrr}"
   ]
  },
  {
   "cell_type": "markdown",
   "id": "9db595e0-99d0-4716-82a3-c196170e9820",
   "metadata": {},
   "source": [
    "### Setup vector-based search (2 vector fields) baseline\n",
    "\n",
    "Given an embedded question `question_vec`, perform a vector-based search that retrieves best results that matches the query at fields `subheader_vec`, and `doc_text_vec`. \n",
    "\n",
    "The fields in results are specified in `result_fields` parameter.\n",
    "\n",
    "**NOTE**: \n",
    "* Equal weights are assigned to `subheader_vec` and `doc_text_vec`.\n",
    "* $+ 1$ is required in script to eliminate BadRequestException caused by the negative scores from cosineSimilarity."
   ]
  },
  {
   "cell_type": "code",
   "execution_count": 32,
   "id": "5c9b0d14-1be3-4ea0-82d5-34e34fdd46b6",
   "metadata": {},
   "outputs": [],
   "source": [
    "def es_vector_search_two_baseline(question_vec, index_name, result_fields):\n",
    "    search_query = {\n",
    "        \"size\": 5,\n",
    "        \"query\": {\n",
    "            \"bool\": {\n",
    "                \"must\": [\n",
    "                    {\n",
    "                        \"script_score\": {\n",
    "                            \"query\": {\n",
    "                                \"match_all\": {},\n",
    "                            },\n",
    "                            \"script\": {\n",
    "                                \"source\": \"\"\"\n",
    "                                    cosineSimilarity(params.query_vector, 'subheader_vec') + \n",
    "                                    cosineSimilarity(params.query_vector, 'doc_text_vec') + 1\n",
    "                                \"\"\",\n",
    "                                \"params\": {\n",
    "                                    \"query_vector\": question_vec\n",
    "                                }\n",
    "                            }\n",
    "                        }\n",
    "                    }\n",
    "                ],\n",
    "            }\n",
    "        },\n",
    "        \"_source\": result_fields\n",
    "    }\n",
    "\n",
    "    es_results = es_client.search(\n",
    "        index=index_name,\n",
    "        body=search_query\n",
    "    )\n",
    "    \n",
    "    result_docs = []\n",
    "    \n",
    "    for hit in es_results['hits']['hits']:\n",
    "        result_docs.append(hit['_source'])\n",
    "\n",
    "    return result_docs"
   ]
  },
  {
   "cell_type": "code",
   "execution_count": 33,
   "id": "520601bc-3273-444b-8341-e831b0c2a3c1",
   "metadata": {},
   "outputs": [
    {
     "data": {
      "application/vnd.jupyter.widget-view+json": {
       "model_id": "d0b21ff95d264617a8c1db0ea98460b4",
       "version_major": 2,
       "version_minor": 0
      },
      "text/plain": [
       "  0%|          | 0/1925 [00:00<?, ?it/s]"
      ]
     },
     "metadata": {},
     "output_type": "display_data"
    }
   ],
   "source": [
    "relevance_total = []\n",
    "\n",
    "for q in tqdm(ground_truth):\n",
    "    doc_id = q['doc_id']\n",
    "    results = es_vector_search_two_baseline(question_vec=q['question_vec'], index_name=es_index_name, result_fields=result_fields)\n",
    "    relevance = [d['doc_id'] == doc_id for d in results]\n",
    "    relevance_total.append(relevance)"
   ]
  },
  {
   "cell_type": "code",
   "execution_count": 34,
   "id": "66848e52-06bf-453e-b1e3-b5ea46e608a2",
   "metadata": {},
   "outputs": [],
   "source": [
    "vec_2_baseline_hit_rate = hit_rate(relevance_total)\n",
    "vec_2_baseline_mrr = mrr(relevance_total)\n",
    "evaluation_dict['vec_search_2_baseline'] = { 'hit_rate': vec_2_baseline_hit_rate,\n",
    "                                         'mrr': vec_2_baseline_mrr}"
   ]
  },
  {
   "cell_type": "markdown",
   "id": "cac60396-4944-4140-99d3-d40c3c6e51d3",
   "metadata": {},
   "source": [
    "### Setup vector-based search (2 vector fields)\n",
    "\n",
    "Given an embedded question `question_vec`, perform a vector-based search that retrieves best results that matches the query at fields `subheader_vec`, and `doc_text_vec`. \n",
    "\n",
    "The fields in results are specified in `result_fields` parameter.\n",
    "\n",
    "**NOTE**: \n",
    "* 3 times weights is assigned to `doc_text_vec`.\n",
    "* $+ 1$ is required in script to eliminate BadRequestException caused by the negative scores from cosineSimilarity."
   ]
  },
  {
   "cell_type": "code",
   "execution_count": 35,
   "id": "f8af4b10-804d-4c24-8952-a2394ffa39ae",
   "metadata": {},
   "outputs": [],
   "source": [
    "def es_vector_search_two(question_vec, index_name, result_fields):\n",
    "    search_query = {\n",
    "        \"size\": 5,\n",
    "        \"query\": {\n",
    "            \"bool\": {\n",
    "                \"must\": [\n",
    "                    {\n",
    "                        \"script_score\": {\n",
    "                            \"query\": {\n",
    "                                \"match_all\": {},\n",
    "                            },\n",
    "                            \"script\": {\n",
    "                                \"source\": \"\"\"\n",
    "                                    cosineSimilarity(params.query_vector, 'subheader_vec') + \n",
    "                                    3 * cosineSimilarity(params.query_vector, 'doc_text_vec') + 1\n",
    "                                \"\"\",\n",
    "                                \"params\": {\n",
    "                                    \"query_vector\": question_vec\n",
    "                                }\n",
    "                            }\n",
    "                        }\n",
    "                    }\n",
    "                ],\n",
    "            }\n",
    "        },\n",
    "        \"_source\": result_fields\n",
    "    }\n",
    "\n",
    "    es_results = es_client.search(\n",
    "        index=index_name,\n",
    "        body=search_query\n",
    "    )\n",
    "    \n",
    "    result_docs = []\n",
    "    \n",
    "    for hit in es_results['hits']['hits']:\n",
    "        result_docs.append(hit['_source'])\n",
    "\n",
    "    return result_docs"
   ]
  },
  {
   "cell_type": "code",
   "execution_count": 36,
   "id": "1132a935-2842-44e8-a9d3-0d65f90e6369",
   "metadata": {},
   "outputs": [
    {
     "data": {
      "application/vnd.jupyter.widget-view+json": {
       "model_id": "df84c597c74b49f9b62ebfbd3e091411",
       "version_major": 2,
       "version_minor": 0
      },
      "text/plain": [
       "  0%|          | 0/1925 [00:00<?, ?it/s]"
      ]
     },
     "metadata": {},
     "output_type": "display_data"
    }
   ],
   "source": [
    "relevance_total = []\n",
    "\n",
    "for q in tqdm(ground_truth):\n",
    "    doc_id = q['doc_id']\n",
    "    results = es_vector_search_two(question_vec=q['question_vec'], index_name=es_index_name, result_fields=result_fields)\n",
    "    relevance = [d['doc_id'] == doc_id for d in results]\n",
    "    relevance_total.append(relevance)"
   ]
  },
  {
   "cell_type": "code",
   "execution_count": 37,
   "id": "e14da931-e1c9-457b-924c-2e113cb3a399",
   "metadata": {},
   "outputs": [],
   "source": [
    "vec_2_hit_rate = hit_rate(relevance_total)\n",
    "vec_2_mrr = mrr(relevance_total)\n",
    "evaluation_dict['vec_search_2'] = { 'hit_rate': vec_2_hit_rate,\n",
    "                                         'mrr': vec_2_mrr}"
   ]
  },
  {
   "cell_type": "markdown",
   "id": "73e133e2-8ded-4ddf-b87f-812ef54b1e21",
   "metadata": {},
   "source": [
    "### Setup vector-based search (3 vector fields)\n",
    "\n",
    "Given an embedded question `question_vec`, perform a vector-based search that retrieves best results that matches the query at fields `header_vec`, `subheader_vec`, and `doc_text_vec`. \n",
    "\n",
    "The fields in results are specified in `result_fields` parameter.\n",
    "\n",
    "**NOTE**: \n",
    "* Equal weights are assigned to `header_vec`, `subheader_vec`, and `doc_text_vec`. \n",
    "* $+ 1$ is required in script to eliminate BadRequestException caused by the negative scores from cosineSimilarity."
   ]
  },
  {
   "cell_type": "code",
   "execution_count": 38,
   "id": "ec6d1d3f-bf35-4d9d-b225-c74106cb1fe8",
   "metadata": {},
   "outputs": [],
   "source": [
    "def es_vector_search_three_baseline(question_vec, index_name, result_fields):\n",
    "    search_query = {\n",
    "        \"size\": 5,\n",
    "        \"query\": {\n",
    "            \"bool\": {\n",
    "                \"must\": [\n",
    "                    {\n",
    "                        \"script_score\": {\n",
    "                            \"query\": {\n",
    "                                \"match_all\": {},\n",
    "                            },\n",
    "                            \"script\": {\n",
    "                                \"source\": \"\"\"\n",
    "                                    cosineSimilarity(params.query_vector, 'header_vec') + \n",
    "                                    cosineSimilarity(params.query_vector, 'subheader_vec') + \n",
    "                                    cosineSimilarity(params.query_vector, 'doc_text_vec') + 1\n",
    "                                \"\"\",\n",
    "                                \"params\": {\n",
    "                                    \"query_vector\": question_vec\n",
    "                                }\n",
    "                            }\n",
    "                        }\n",
    "                    }\n",
    "                ],\n",
    "            }\n",
    "        },\n",
    "        \"_source\": result_fields\n",
    "    }\n",
    "\n",
    "    es_results = es_client.search(\n",
    "        index=index_name,\n",
    "        body=search_query\n",
    "    )\n",
    "    \n",
    "    result_docs = []\n",
    "    \n",
    "    for hit in es_results['hits']['hits']:\n",
    "        result_docs.append(hit['_source'])\n",
    "\n",
    "    return result_docs"
   ]
  },
  {
   "cell_type": "markdown",
   "id": "b0ccca9c-30cc-4cb9-91d9-5fb1591808f4",
   "metadata": {},
   "source": [
    "### Evaluate vector-based search (three vector field) baseline\n",
    "* Evaluate vector-based search using ground truth data and 3 vector fields `header_vec`, `subheader_vec`, `doc_text_vec`.\n",
    "* Save evaluation results for comparison later."
   ]
  },
  {
   "cell_type": "code",
   "execution_count": 39,
   "id": "3f515659-76f9-449b-a196-5ea8a1968941",
   "metadata": {},
   "outputs": [
    {
     "data": {
      "application/vnd.jupyter.widget-view+json": {
       "model_id": "63249aa3eebf460f9aa814c5330bb8b1",
       "version_major": 2,
       "version_minor": 0
      },
      "text/plain": [
       "  0%|          | 0/1925 [00:00<?, ?it/s]"
      ]
     },
     "metadata": {},
     "output_type": "display_data"
    }
   ],
   "source": [
    "relevance_total = []\n",
    "\n",
    "for q in tqdm(ground_truth):\n",
    "    doc_id = q['doc_id']\n",
    "    results = es_vector_search_three_baseline(question_vec=q['question_vec'], index_name=es_index_name, result_fields=result_fields)\n",
    "    relevance = [d['doc_id'] == doc_id for d in results]\n",
    "    relevance_total.append(relevance)"
   ]
  },
  {
   "cell_type": "code",
   "execution_count": 40,
   "id": "ae5c1bc7-186c-41f2-8e7c-aeab3401eb2d",
   "metadata": {},
   "outputs": [],
   "source": [
    "vec_3_baseline_hit_rate = hit_rate(relevance_total)\n",
    "vec_3_baseline_three_mrr = mrr(relevance_total)\n",
    "evaluation_dict['vec_search_3_baseline'] = { 'hit_rate': vec_3_baseline_hit_rate,\n",
    "                                         'mrr': vec_3_baseline_three_mrr}"
   ]
  },
  {
   "cell_type": "markdown",
   "id": "151afb98-b773-43df-ad59-f042f1448f31",
   "metadata": {},
   "source": [
    "### Setup vector-based search (3 vector fields)\n",
    "\n",
    "Given an embedded question `question_vec`, perform a vector-based search that retrieves best results that matches the query at fields `header_vec`, `subheader_vec`, and `doc_text_vec`. \n",
    "\n",
    "The fields in results are specified in `result_fields` parameter.\n",
    "\n",
    "**NOTE**: \n",
    "* The weights are assigned to give `doc_text_vec` 3 times more importance than `header_vec` and `subheader_vec`.\n",
    "* $+ 1$ is required in script to eliminate BadRequestException caused by the negative scores from cosineSimilarity."
   ]
  },
  {
   "cell_type": "code",
   "execution_count": 41,
   "id": "3dfa0c04-5c02-411b-9242-12e92ec15301",
   "metadata": {},
   "outputs": [],
   "source": [
    "def es_vector_search_three(question_vec, index_name, result_fields):\n",
    "    search_query = {\n",
    "        \"size\": 5,\n",
    "        \"query\": {\n",
    "            \"bool\": {\n",
    "                \"must\": [\n",
    "                    {\n",
    "                        \"script_score\": {\n",
    "                            \"query\": {\n",
    "                                \"match_all\": {},\n",
    "                            },\n",
    "                            \"script\": {\n",
    "                                \"source\": \"\"\"\n",
    "                                    0.2 * cosineSimilarity(params.query_vector, 'header_vec') + \n",
    "                                    0.2 * cosineSimilarity(params.query_vector, 'subheader_vec') + \n",
    "                                    0.6 * cosineSimilarity(params.query_vector, 'doc_text_vec') + 1\n",
    "                                \"\"\",\n",
    "                                \"params\": {\n",
    "                                    \"query_vector\": question_vec\n",
    "                                }\n",
    "                            }\n",
    "                        }\n",
    "                    }\n",
    "                ],\n",
    "            }\n",
    "        },\n",
    "        \"_source\": result_fields\n",
    "    }\n",
    "\n",
    "    es_results = es_client.search(\n",
    "        index=index_name,\n",
    "        body=search_query\n",
    "    )\n",
    "    \n",
    "    result_docs = []\n",
    "    \n",
    "    for hit in es_results['hits']['hits']:\n",
    "        result_docs.append(hit['_source'])\n",
    "\n",
    "    return result_docs"
   ]
  },
  {
   "cell_type": "code",
   "execution_count": 42,
   "id": "a88b7eb5-09ce-4e05-8de0-9738114b5da0",
   "metadata": {},
   "outputs": [
    {
     "data": {
      "application/vnd.jupyter.widget-view+json": {
       "model_id": "e63e4ca48b504e5b9990974a081df00c",
       "version_major": 2,
       "version_minor": 0
      },
      "text/plain": [
       "  0%|          | 0/1925 [00:00<?, ?it/s]"
      ]
     },
     "metadata": {},
     "output_type": "display_data"
    }
   ],
   "source": [
    "relevance_total = []\n",
    "\n",
    "for q in tqdm(ground_truth):\n",
    "    doc_id = q['doc_id']\n",
    "    results = es_vector_search_three(question_vec=q['question_vec'], index_name=es_index_name, result_fields=result_fields)\n",
    "    relevance = [d['doc_id'] == doc_id for d in results]\n",
    "    relevance_total.append(relevance)"
   ]
  },
  {
   "cell_type": "code",
   "execution_count": 43,
   "id": "5c28b98d-0a54-4d21-82ee-26b6e4798751",
   "metadata": {},
   "outputs": [],
   "source": [
    "vec_3_hit_rate = hit_rate(relevance_total)\n",
    "vec_3_mrr = mrr(relevance_total)\n",
    "evaluation_dict['vec_search_3'] = { 'hit_rate': vec_3_hit_rate,\n",
    "                                         'mrr': vec_3_mrr}"
   ]
  },
  {
   "cell_type": "markdown",
   "id": "e8b93718-a745-40d8-85f5-c374dd56e5b9",
   "metadata": {},
   "source": [
    "### Evaluation Results 1"
   ]
  },
  {
   "cell_type": "code",
   "execution_count": 44,
   "id": "5c063fc0-c564-444b-8e50-4c96bda1f3d3",
   "metadata": {},
   "outputs": [
    {
     "data": {
      "text/html": [
       "<div>\n",
       "<style scoped>\n",
       "    .dataframe tbody tr th:only-of-type {\n",
       "        vertical-align: middle;\n",
       "    }\n",
       "\n",
       "    .dataframe tbody tr th {\n",
       "        vertical-align: top;\n",
       "    }\n",
       "\n",
       "    .dataframe thead th {\n",
       "        text-align: right;\n",
       "    }\n",
       "</style>\n",
       "<table border=\"1\" class=\"dataframe\">\n",
       "  <thead>\n",
       "    <tr style=\"text-align: right;\">\n",
       "      <th></th>\n",
       "      <th>index</th>\n",
       "      <th>hit_rate</th>\n",
       "      <th>mrr</th>\n",
       "    </tr>\n",
       "  </thead>\n",
       "  <tbody>\n",
       "    <tr>\n",
       "      <th>8</th>\n",
       "      <td>vec_search_3</td>\n",
       "      <td>0.770909</td>\n",
       "      <td>0.584442</td>\n",
       "    </tr>\n",
       "    <tr>\n",
       "      <th>5</th>\n",
       "      <td>vec_search_2_baseline</td>\n",
       "      <td>0.767792</td>\n",
       "      <td>0.562771</td>\n",
       "    </tr>\n",
       "    <tr>\n",
       "      <th>6</th>\n",
       "      <td>vec_search_2</td>\n",
       "      <td>0.766753</td>\n",
       "      <td>0.584190</td>\n",
       "    </tr>\n",
       "    <tr>\n",
       "      <th>7</th>\n",
       "      <td>vec_search_3_baseline</td>\n",
       "      <td>0.758961</td>\n",
       "      <td>0.553801</td>\n",
       "    </tr>\n",
       "    <tr>\n",
       "      <th>0</th>\n",
       "      <td>text_search_baseline</td>\n",
       "      <td>0.756364</td>\n",
       "      <td>0.605351</td>\n",
       "    </tr>\n",
       "    <tr>\n",
       "      <th>4</th>\n",
       "      <td>vec_search_1</td>\n",
       "      <td>0.728312</td>\n",
       "      <td>0.570017</td>\n",
       "    </tr>\n",
       "    <tr>\n",
       "      <th>1</th>\n",
       "      <td>text_search_1</td>\n",
       "      <td>0.709610</td>\n",
       "      <td>0.585229</td>\n",
       "    </tr>\n",
       "    <tr>\n",
       "      <th>2</th>\n",
       "      <td>text_search_2</td>\n",
       "      <td>0.709610</td>\n",
       "      <td>0.585229</td>\n",
       "    </tr>\n",
       "    <tr>\n",
       "      <th>3</th>\n",
       "      <td>text_search_3</td>\n",
       "      <td>0.709610</td>\n",
       "      <td>0.585229</td>\n",
       "    </tr>\n",
       "  </tbody>\n",
       "</table>\n",
       "</div>"
      ],
      "text/plain": [
       "                   index  hit_rate       mrr\n",
       "8           vec_search_3  0.770909  0.584442\n",
       "5  vec_search_2_baseline  0.767792  0.562771\n",
       "6           vec_search_2  0.766753  0.584190\n",
       "7  vec_search_3_baseline  0.758961  0.553801\n",
       "0   text_search_baseline  0.756364  0.605351\n",
       "4           vec_search_1  0.728312  0.570017\n",
       "1          text_search_1  0.709610  0.585229\n",
       "2          text_search_2  0.709610  0.585229\n",
       "3          text_search_3  0.709610  0.585229"
      ]
     },
     "execution_count": 44,
     "metadata": {},
     "output_type": "execute_result"
    }
   ],
   "source": [
    "df_eval = pd.DataFrame(evaluation_dict).T\n",
    "df_eval.reset_index().sort_values(by=['hit_rate','mrr'], ascending=False)"
   ]
  },
  {
   "cell_type": "code",
   "execution_count": 45,
   "id": "361416bd-8e9a-404a-8cc4-3d30ed08ea68",
   "metadata": {},
   "outputs": [
    {
     "data": {
      "text/html": [
       "<div>\n",
       "<style scoped>\n",
       "    .dataframe tbody tr th:only-of-type {\n",
       "        vertical-align: middle;\n",
       "    }\n",
       "\n",
       "    .dataframe tbody tr th {\n",
       "        vertical-align: top;\n",
       "    }\n",
       "\n",
       "    .dataframe thead th {\n",
       "        text-align: right;\n",
       "    }\n",
       "</style>\n",
       "<table border=\"1\" class=\"dataframe\">\n",
       "  <thead>\n",
       "    <tr style=\"text-align: right;\">\n",
       "      <th></th>\n",
       "      <th>index</th>\n",
       "      <th>hit_rate</th>\n",
       "      <th>mrr</th>\n",
       "    </tr>\n",
       "  </thead>\n",
       "  <tbody>\n",
       "    <tr>\n",
       "      <th>8</th>\n",
       "      <td>vec_search_3</td>\n",
       "      <td>0.770909</td>\n",
       "      <td>0.584442</td>\n",
       "    </tr>\n",
       "    <tr>\n",
       "      <th>5</th>\n",
       "      <td>vec_search_2_baseline</td>\n",
       "      <td>0.767792</td>\n",
       "      <td>0.562771</td>\n",
       "    </tr>\n",
       "    <tr>\n",
       "      <th>6</th>\n",
       "      <td>vec_search_2</td>\n",
       "      <td>0.766753</td>\n",
       "      <td>0.584190</td>\n",
       "    </tr>\n",
       "    <tr>\n",
       "      <th>7</th>\n",
       "      <td>vec_search_3_baseline</td>\n",
       "      <td>0.758961</td>\n",
       "      <td>0.553801</td>\n",
       "    </tr>\n",
       "    <tr>\n",
       "      <th>0</th>\n",
       "      <td>text_search_baseline</td>\n",
       "      <td>0.756364</td>\n",
       "      <td>0.605351</td>\n",
       "    </tr>\n",
       "    <tr>\n",
       "      <th>4</th>\n",
       "      <td>vec_search_1</td>\n",
       "      <td>0.728312</td>\n",
       "      <td>0.570017</td>\n",
       "    </tr>\n",
       "    <tr>\n",
       "      <th>1</th>\n",
       "      <td>text_search_1</td>\n",
       "      <td>0.709610</td>\n",
       "      <td>0.585229</td>\n",
       "    </tr>\n",
       "    <tr>\n",
       "      <th>2</th>\n",
       "      <td>text_search_2</td>\n",
       "      <td>0.709610</td>\n",
       "      <td>0.585229</td>\n",
       "    </tr>\n",
       "    <tr>\n",
       "      <th>3</th>\n",
       "      <td>text_search_3</td>\n",
       "      <td>0.709610</td>\n",
       "      <td>0.585229</td>\n",
       "    </tr>\n",
       "  </tbody>\n",
       "</table>\n",
       "</div>"
      ],
      "text/plain": [
       "                   index  hit_rate       mrr\n",
       "8           vec_search_3  0.770909  0.584442\n",
       "5  vec_search_2_baseline  0.767792  0.562771\n",
       "6           vec_search_2  0.766753  0.584190\n",
       "7  vec_search_3_baseline  0.758961  0.553801\n",
       "0   text_search_baseline  0.756364  0.605351\n",
       "4           vec_search_1  0.728312  0.570017\n",
       "1          text_search_1  0.709610  0.585229\n",
       "2          text_search_2  0.709610  0.585229\n",
       "3          text_search_3  0.709610  0.585229"
      ]
     },
     "execution_count": 45,
     "metadata": {},
     "output_type": "execute_result"
    }
   ],
   "source": [
    "df_eval.reset_index().sort_values(by=['hit_rate'], ascending=False)"
   ]
  },
  {
   "cell_type": "code",
   "execution_count": 46,
   "id": "5e32dcf8-4f3d-41f1-a0ac-d03d50615eda",
   "metadata": {},
   "outputs": [
    {
     "data": {
      "text/html": [
       "<div>\n",
       "<style scoped>\n",
       "    .dataframe tbody tr th:only-of-type {\n",
       "        vertical-align: middle;\n",
       "    }\n",
       "\n",
       "    .dataframe tbody tr th {\n",
       "        vertical-align: top;\n",
       "    }\n",
       "\n",
       "    .dataframe thead th {\n",
       "        text-align: right;\n",
       "    }\n",
       "</style>\n",
       "<table border=\"1\" class=\"dataframe\">\n",
       "  <thead>\n",
       "    <tr style=\"text-align: right;\">\n",
       "      <th></th>\n",
       "      <th>index</th>\n",
       "      <th>hit_rate</th>\n",
       "      <th>mrr</th>\n",
       "    </tr>\n",
       "  </thead>\n",
       "  <tbody>\n",
       "    <tr>\n",
       "      <th>0</th>\n",
       "      <td>text_search_baseline</td>\n",
       "      <td>0.756364</td>\n",
       "      <td>0.605351</td>\n",
       "    </tr>\n",
       "    <tr>\n",
       "      <th>1</th>\n",
       "      <td>text_search_1</td>\n",
       "      <td>0.709610</td>\n",
       "      <td>0.585229</td>\n",
       "    </tr>\n",
       "    <tr>\n",
       "      <th>2</th>\n",
       "      <td>text_search_2</td>\n",
       "      <td>0.709610</td>\n",
       "      <td>0.585229</td>\n",
       "    </tr>\n",
       "    <tr>\n",
       "      <th>3</th>\n",
       "      <td>text_search_3</td>\n",
       "      <td>0.709610</td>\n",
       "      <td>0.585229</td>\n",
       "    </tr>\n",
       "    <tr>\n",
       "      <th>8</th>\n",
       "      <td>vec_search_3</td>\n",
       "      <td>0.770909</td>\n",
       "      <td>0.584442</td>\n",
       "    </tr>\n",
       "    <tr>\n",
       "      <th>6</th>\n",
       "      <td>vec_search_2</td>\n",
       "      <td>0.766753</td>\n",
       "      <td>0.584190</td>\n",
       "    </tr>\n",
       "    <tr>\n",
       "      <th>4</th>\n",
       "      <td>vec_search_1</td>\n",
       "      <td>0.728312</td>\n",
       "      <td>0.570017</td>\n",
       "    </tr>\n",
       "    <tr>\n",
       "      <th>5</th>\n",
       "      <td>vec_search_2_baseline</td>\n",
       "      <td>0.767792</td>\n",
       "      <td>0.562771</td>\n",
       "    </tr>\n",
       "    <tr>\n",
       "      <th>7</th>\n",
       "      <td>vec_search_3_baseline</td>\n",
       "      <td>0.758961</td>\n",
       "      <td>0.553801</td>\n",
       "    </tr>\n",
       "  </tbody>\n",
       "</table>\n",
       "</div>"
      ],
      "text/plain": [
       "                   index  hit_rate       mrr\n",
       "0   text_search_baseline  0.756364  0.605351\n",
       "1          text_search_1  0.709610  0.585229\n",
       "2          text_search_2  0.709610  0.585229\n",
       "3          text_search_3  0.709610  0.585229\n",
       "8           vec_search_3  0.770909  0.584442\n",
       "6           vec_search_2  0.766753  0.584190\n",
       "4           vec_search_1  0.728312  0.570017\n",
       "5  vec_search_2_baseline  0.767792  0.562771\n",
       "7  vec_search_3_baseline  0.758961  0.553801"
      ]
     },
     "execution_count": 46,
     "metadata": {},
     "output_type": "execute_result"
    }
   ],
   "source": [
    "df_eval.reset_index().sort_values(by=['mrr'], ascending=False)"
   ]
  },
  {
   "cell_type": "markdown",
   "id": "85d3d002-e023-40e5-a6e3-720f421ffa77",
   "metadata": {},
   "source": [
    "So far out of all the previous search methods, **vector-based search using 3 vectors** and **doc_text_vec with more weights** produced the best results for **Hit Rate**. \n",
    "\n",
    "However for **MRR**, **text-based search using 3 fields** of equal weights performed the best.\n",
    "\n",
    "This prompts for a need to consider hybrid search to see if the advantages of both methods could be optimised here."
   ]
  },
  {
   "cell_type": "markdown",
   "id": "c795e6cb-4bb2-4cce-a0dc-c5d8ad72d0aa",
   "metadata": {},
   "source": [
    "### Setup hybrid search"
   ]
  },
  {
   "cell_type": "markdown",
   "id": "db1a922e-3387-4b54-8d9e-aa45eea68b5c",
   "metadata": {},
   "source": [
    "Take the best vector search setup and text search setup from evaluation above and merge into a hybrid search.\n",
    "\n",
    "The parameter `boost` will be tuned to adjust the importance of text search in hybrid search. Defaults to 1."
   ]
  },
  {
   "cell_type": "code",
   "execution_count": 47,
   "id": "96f9dbf4-b6a3-4983-97d6-35f463cdb337",
   "metadata": {},
   "outputs": [],
   "source": [
    "def es_hybrid_search(question, question_vec, index_name, result_fields, boost=1):\n",
    "    keyword_query = {\"query\": question,\n",
    "                    \"fields\": [\"header\", \"subheader\", \"doc_text\"],\n",
    "                    \"type\": \"best_fields\",\n",
    "                    \"boost\": boost,\n",
    "                    }\n",
    "\n",
    "    vector_query = {\"query\": {\"match_all\": {}},\n",
    "                    \"script\": {\n",
    "                                \"source\": \"\"\"\n",
    "                                    0.2 * cosineSimilarity(params.query_vector, 'header_vec') + \n",
    "                                    0.2 * cosineSimilarity(params.query_vector, 'subheader_vec') + \n",
    "                                    0.6 * cosineSimilarity(params.query_vector, 'doc_text_vec') + 1\n",
    "                                \"\"\",\n",
    "                                \"params\": {\"query_vector\": question_vec}\n",
    "                            }\n",
    "                   }\n",
    "    \n",
    "    hybrid_query = {\n",
    "        \"bool\": {\n",
    "            \"must\": [{\"multi_match\": keyword_query},\n",
    "                     {\"script_score\": vector_query}\n",
    "                    ]\n",
    "            },\n",
    "        }\n",
    "\n",
    "    search_query = {\n",
    "        \"query\": hybrid_query,\n",
    "        \"size\": 5,\n",
    "        \"_source\": result_fields\n",
    "    }\n",
    "\n",
    "    es_results = es_client.search(\n",
    "        index=index_name,\n",
    "        body=search_query\n",
    "    )\n",
    "    \n",
    "    result_docs = []\n",
    "    \n",
    "    for hit in es_results['hits']['hits']:\n",
    "        result_docs.append(hit['_source'])\n",
    "\n",
    "    return result_docs"
   ]
  },
  {
   "cell_type": "code",
   "execution_count": 48,
   "id": "e03c73db-84f6-4670-b988-7766cef49994",
   "metadata": {},
   "outputs": [
    {
     "data": {
      "application/vnd.jupyter.widget-view+json": {
       "model_id": "9b15c2350259412cb15c88095d6b59ce",
       "version_major": 2,
       "version_minor": 0
      },
      "text/plain": [
       "  0%|          | 0/1925 [00:00<?, ?it/s]"
      ]
     },
     "metadata": {},
     "output_type": "display_data"
    }
   ],
   "source": [
    "relevance_total = []\n",
    "\n",
    "for q in tqdm(ground_truth):\n",
    "    doc_id = q['doc_id']\n",
    "    results = es_hybrid_search(q['question'], q['question_vec'], es_index_name, result_fields)\n",
    "    relevance = [d['doc_id'] == doc_id for d in results]\n",
    "    relevance_total.append(relevance)"
   ]
  },
  {
   "cell_type": "code",
   "execution_count": 49,
   "id": "ee7ce6b8-81df-41fc-84e5-0213748a2676",
   "metadata": {},
   "outputs": [],
   "source": [
    "hybrid_1_hit_rate = hit_rate(relevance_total)\n",
    "hybrid_1_mrr = mrr(relevance_total)\n",
    "evaluation_dict['hybrid_search_1'] = { 'hit_rate': hybrid_1_hit_rate,\n",
    "                                     'mrr': hybrid_1_mrr}"
   ]
  },
  {
   "cell_type": "code",
   "execution_count": 50,
   "id": "7b50a5a1-8ab7-4b0b-8be3-590602c81f40",
   "metadata": {},
   "outputs": [
    {
     "data": {
      "application/vnd.jupyter.widget-view+json": {
       "model_id": "4b8750c4e4174924b6a30b4806dd5824",
       "version_major": 2,
       "version_minor": 0
      },
      "text/plain": [
       "  0%|          | 0/1925 [00:00<?, ?it/s]"
      ]
     },
     "metadata": {},
     "output_type": "display_data"
    }
   ],
   "source": [
    "relevance_total = []\n",
    "\n",
    "for q in tqdm(ground_truth):\n",
    "    doc_id = q['doc_id']\n",
    "    results = es_hybrid_search(q['question'], q['question_vec'], es_index_name, result_fields, boost=0.5)\n",
    "    relevance = [d['doc_id'] == doc_id for d in results]\n",
    "    relevance_total.append(relevance)"
   ]
  },
  {
   "cell_type": "code",
   "execution_count": 51,
   "id": "952a5fc9-09a1-464d-9624-d133f3dbb567",
   "metadata": {},
   "outputs": [],
   "source": [
    "hybrid_2_hit_rate = hit_rate(relevance_total)\n",
    "hybrid_2_mrr = mrr(relevance_total)\n",
    "evaluation_dict['hybrid_search_2'] = { 'hit_rate': hybrid_2_hit_rate,\n",
    "                                     'mrr': hybrid_2_mrr}"
   ]
  },
  {
   "cell_type": "code",
   "execution_count": 52,
   "id": "e5bb4719-20e1-4126-a1f3-c68424c40a69",
   "metadata": {},
   "outputs": [
    {
     "data": {
      "application/vnd.jupyter.widget-view+json": {
       "model_id": "1b9a777cd25a4bacbf1d5e25cf17a9c0",
       "version_major": 2,
       "version_minor": 0
      },
      "text/plain": [
       "  0%|          | 0/1925 [00:00<?, ?it/s]"
      ]
     },
     "metadata": {},
     "output_type": "display_data"
    }
   ],
   "source": [
    "relevance_total = []\n",
    "\n",
    "for q in tqdm(ground_truth):\n",
    "    doc_id = q['doc_id']\n",
    "    results = es_hybrid_search(q['question'], q['question_vec'], es_index_name, result_fields, boost=2)\n",
    "    relevance = [d['doc_id'] == doc_id for d in results]\n",
    "    relevance_total.append(relevance)"
   ]
  },
  {
   "cell_type": "code",
   "execution_count": 53,
   "id": "0f3fdb0a-f8b6-4c5b-a88a-3b33f2819f77",
   "metadata": {},
   "outputs": [],
   "source": [
    "hybrid_3_hit_rate = hit_rate(relevance_total)\n",
    "hybrid_3_mrr = mrr(relevance_total)\n",
    "evaluation_dict['hybrid_search_3'] = { 'hit_rate': hybrid_3_hit_rate,\n",
    "                                     'mrr': hybrid_3_mrr}"
   ]
  },
  {
   "cell_type": "markdown",
   "id": "ed02e19a-f684-4366-852a-a3bf60969c24",
   "metadata": {},
   "source": [
    "### Evaluation Results 2"
   ]
  },
  {
   "cell_type": "code",
   "execution_count": 54,
   "id": "1c9a91a9-6e7e-4386-879a-0dfb7f92ab29",
   "metadata": {},
   "outputs": [
    {
     "data": {
      "text/html": [
       "<div>\n",
       "<style scoped>\n",
       "    .dataframe tbody tr th:only-of-type {\n",
       "        vertical-align: middle;\n",
       "    }\n",
       "\n",
       "    .dataframe tbody tr th {\n",
       "        vertical-align: top;\n",
       "    }\n",
       "\n",
       "    .dataframe thead th {\n",
       "        text-align: right;\n",
       "    }\n",
       "</style>\n",
       "<table border=\"1\" class=\"dataframe\">\n",
       "  <thead>\n",
       "    <tr style=\"text-align: right;\">\n",
       "      <th></th>\n",
       "      <th>index</th>\n",
       "      <th>hit_rate</th>\n",
       "      <th>mrr</th>\n",
       "    </tr>\n",
       "  </thead>\n",
       "  <tbody>\n",
       "    <tr>\n",
       "      <th>8</th>\n",
       "      <td>vec_search_3</td>\n",
       "      <td>0.770909</td>\n",
       "      <td>0.584442</td>\n",
       "    </tr>\n",
       "    <tr>\n",
       "      <th>10</th>\n",
       "      <td>hybrid_search_2</td>\n",
       "      <td>0.770390</td>\n",
       "      <td>0.616649</td>\n",
       "    </tr>\n",
       "    <tr>\n",
       "      <th>5</th>\n",
       "      <td>vec_search_2_baseline</td>\n",
       "      <td>0.767792</td>\n",
       "      <td>0.562771</td>\n",
       "    </tr>\n",
       "    <tr>\n",
       "      <th>6</th>\n",
       "      <td>vec_search_2</td>\n",
       "      <td>0.766753</td>\n",
       "      <td>0.584190</td>\n",
       "    </tr>\n",
       "    <tr>\n",
       "      <th>9</th>\n",
       "      <td>hybrid_search_1</td>\n",
       "      <td>0.764675</td>\n",
       "      <td>0.609342</td>\n",
       "    </tr>\n",
       "    <tr>\n",
       "      <th>11</th>\n",
       "      <td>hybrid_search_3</td>\n",
       "      <td>0.761558</td>\n",
       "      <td>0.605723</td>\n",
       "    </tr>\n",
       "    <tr>\n",
       "      <th>7</th>\n",
       "      <td>vec_search_3_baseline</td>\n",
       "      <td>0.758961</td>\n",
       "      <td>0.553801</td>\n",
       "    </tr>\n",
       "    <tr>\n",
       "      <th>0</th>\n",
       "      <td>text_search_baseline</td>\n",
       "      <td>0.756364</td>\n",
       "      <td>0.605351</td>\n",
       "    </tr>\n",
       "    <tr>\n",
       "      <th>4</th>\n",
       "      <td>vec_search_1</td>\n",
       "      <td>0.728312</td>\n",
       "      <td>0.570017</td>\n",
       "    </tr>\n",
       "    <tr>\n",
       "      <th>1</th>\n",
       "      <td>text_search_1</td>\n",
       "      <td>0.709610</td>\n",
       "      <td>0.585229</td>\n",
       "    </tr>\n",
       "    <tr>\n",
       "      <th>2</th>\n",
       "      <td>text_search_2</td>\n",
       "      <td>0.709610</td>\n",
       "      <td>0.585229</td>\n",
       "    </tr>\n",
       "    <tr>\n",
       "      <th>3</th>\n",
       "      <td>text_search_3</td>\n",
       "      <td>0.709610</td>\n",
       "      <td>0.585229</td>\n",
       "    </tr>\n",
       "  </tbody>\n",
       "</table>\n",
       "</div>"
      ],
      "text/plain": [
       "                    index  hit_rate       mrr\n",
       "8            vec_search_3  0.770909  0.584442\n",
       "10        hybrid_search_2  0.770390  0.616649\n",
       "5   vec_search_2_baseline  0.767792  0.562771\n",
       "6            vec_search_2  0.766753  0.584190\n",
       "9         hybrid_search_1  0.764675  0.609342\n",
       "11        hybrid_search_3  0.761558  0.605723\n",
       "7   vec_search_3_baseline  0.758961  0.553801\n",
       "0    text_search_baseline  0.756364  0.605351\n",
       "4            vec_search_1  0.728312  0.570017\n",
       "1           text_search_1  0.709610  0.585229\n",
       "2           text_search_2  0.709610  0.585229\n",
       "3           text_search_3  0.709610  0.585229"
      ]
     },
     "execution_count": 54,
     "metadata": {},
     "output_type": "execute_result"
    }
   ],
   "source": [
    "df_eval = pd.DataFrame(evaluation_dict).T\n",
    "df_eval.reset_index().sort_values(by=['hit_rate','mrr'], ascending=False)"
   ]
  },
  {
   "cell_type": "markdown",
   "id": "b7244641-ee7e-4291-af58-11f17c63c2ae",
   "metadata": {},
   "source": [
    "In **hybrid_search_2**, the `boost` was 0.5. Since decreasing the importance of text search in hybrid search produces not only **the best mrr** but also a **hit rate that is similar to vector search with 3 vector fields**, lower boost values will be tuned for further evaluation."
   ]
  },
  {
   "cell_type": "code",
   "execution_count": 55,
   "id": "b159abe2-f770-435f-a41b-1d36aa564484",
   "metadata": {},
   "outputs": [
    {
     "data": {
      "application/vnd.jupyter.widget-view+json": {
       "model_id": "6b150da0ba1e468990a9f72cfe9370ab",
       "version_major": 2,
       "version_minor": 0
      },
      "text/plain": [
       "  0%|          | 0/1925 [00:00<?, ?it/s]"
      ]
     },
     "metadata": {},
     "output_type": "display_data"
    }
   ],
   "source": [
    "relevance_total = []\n",
    "\n",
    "for q in tqdm(ground_truth):\n",
    "    doc_id = q['doc_id']\n",
    "    results = es_hybrid_search(q['question'], q['question_vec'], es_index_name, result_fields, boost=0.1)\n",
    "    relevance = [d['doc_id'] == doc_id for d in results]\n",
    "    relevance_total.append(relevance)"
   ]
  },
  {
   "cell_type": "code",
   "execution_count": 56,
   "id": "a8a798d4-182a-4e39-8d12-6e2a22276673",
   "metadata": {},
   "outputs": [],
   "source": [
    "hybrid_4_hit_rate = hit_rate(relevance_total)\n",
    "hybrid_4_mrr = mrr(relevance_total)\n",
    "evaluation_dict['hybrid_search_4'] = { 'hit_rate': hybrid_4_hit_rate,\n",
    "                                     'mrr': hybrid_4_mrr}"
   ]
  },
  {
   "cell_type": "code",
   "execution_count": 57,
   "id": "d99daf1d-f08c-42c9-aa5c-1a07fc7d77df",
   "metadata": {},
   "outputs": [
    {
     "data": {
      "application/vnd.jupyter.widget-view+json": {
       "model_id": "17fb3da8b0c44272a964781895dcd439",
       "version_major": 2,
       "version_minor": 0
      },
      "text/plain": [
       "  0%|          | 0/1925 [00:00<?, ?it/s]"
      ]
     },
     "metadata": {},
     "output_type": "display_data"
    }
   ],
   "source": [
    "relevance_total = []\n",
    "\n",
    "for q in tqdm(ground_truth):\n",
    "    doc_id = q['doc_id']\n",
    "    results = es_hybrid_search(q['question'], q['question_vec'], es_index_name, result_fields, boost=0.05)\n",
    "    relevance = [d['doc_id'] == doc_id for d in results]\n",
    "    relevance_total.append(relevance)"
   ]
  },
  {
   "cell_type": "code",
   "execution_count": 58,
   "id": "6675f023-6a2f-42c2-bddc-14b00722b15d",
   "metadata": {},
   "outputs": [],
   "source": [
    "hybrid_5_hit_rate = hit_rate(relevance_total)\n",
    "hybrid_5_mrr = mrr(relevance_total)\n",
    "evaluation_dict['hybrid_search_5'] = { 'hit_rate': hybrid_5_hit_rate,\n",
    "                                     'mrr': hybrid_5_mrr}"
   ]
  },
  {
   "cell_type": "code",
   "execution_count": 59,
   "id": "50a3d5f3-2142-423d-a67b-1a745bf350cf",
   "metadata": {},
   "outputs": [
    {
     "data": {
      "application/vnd.jupyter.widget-view+json": {
       "model_id": "e24047ac9fc643f2a441d27c2bb73e0f",
       "version_major": 2,
       "version_minor": 0
      },
      "text/plain": [
       "  0%|          | 0/1925 [00:00<?, ?it/s]"
      ]
     },
     "metadata": {},
     "output_type": "display_data"
    }
   ],
   "source": [
    "relevance_total = []\n",
    "\n",
    "for q in tqdm(ground_truth):\n",
    "    doc_id = q['doc_id']\n",
    "    results = es_hybrid_search(q['question'], q['question_vec'], es_index_name, result_fields, boost=0.01)\n",
    "    relevance = [d['doc_id'] == doc_id for d in results]\n",
    "    relevance_total.append(relevance)"
   ]
  },
  {
   "cell_type": "code",
   "execution_count": 60,
   "id": "00615b1a-33a8-49f7-acbe-6c3c4b583231",
   "metadata": {},
   "outputs": [],
   "source": [
    "hybrid_6_hit_rate = hit_rate(relevance_total)\n",
    "hybrid_6_mrr = mrr(relevance_total)\n",
    "evaluation_dict['hybrid_search_6'] = { 'hit_rate': hybrid_6_hit_rate,\n",
    "                                     'mrr': hybrid_6_mrr}"
   ]
  },
  {
   "cell_type": "markdown",
   "id": "616711a5-fd33-4949-bf07-fcc05da54cfa",
   "metadata": {},
   "source": [
    "### Evaluation Results 3"
   ]
  },
  {
   "cell_type": "code",
   "execution_count": 61,
   "id": "ceada601-305c-4d3b-9df5-817d181cdcda",
   "metadata": {},
   "outputs": [
    {
     "data": {
      "text/html": [
       "<div>\n",
       "<style scoped>\n",
       "    .dataframe tbody tr th:only-of-type {\n",
       "        vertical-align: middle;\n",
       "    }\n",
       "\n",
       "    .dataframe tbody tr th {\n",
       "        vertical-align: top;\n",
       "    }\n",
       "\n",
       "    .dataframe thead th {\n",
       "        text-align: right;\n",
       "    }\n",
       "</style>\n",
       "<table border=\"1\" class=\"dataframe\">\n",
       "  <thead>\n",
       "    <tr style=\"text-align: right;\">\n",
       "      <th></th>\n",
       "      <th>index</th>\n",
       "      <th>hit_rate</th>\n",
       "      <th>mrr</th>\n",
       "    </tr>\n",
       "  </thead>\n",
       "  <tbody>\n",
       "    <tr>\n",
       "      <th>13</th>\n",
       "      <td>hybrid_search_5</td>\n",
       "      <td>0.848312</td>\n",
       "      <td>0.679853</td>\n",
       "    </tr>\n",
       "    <tr>\n",
       "      <th>14</th>\n",
       "      <td>hybrid_search_6</td>\n",
       "      <td>0.837403</td>\n",
       "      <td>0.673688</td>\n",
       "    </tr>\n",
       "    <tr>\n",
       "      <th>12</th>\n",
       "      <td>hybrid_search_4</td>\n",
       "      <td>0.819740</td>\n",
       "      <td>0.654753</td>\n",
       "    </tr>\n",
       "    <tr>\n",
       "      <th>8</th>\n",
       "      <td>vec_search_3</td>\n",
       "      <td>0.770909</td>\n",
       "      <td>0.584442</td>\n",
       "    </tr>\n",
       "    <tr>\n",
       "      <th>10</th>\n",
       "      <td>hybrid_search_2</td>\n",
       "      <td>0.770390</td>\n",
       "      <td>0.616649</td>\n",
       "    </tr>\n",
       "    <tr>\n",
       "      <th>5</th>\n",
       "      <td>vec_search_2_baseline</td>\n",
       "      <td>0.767792</td>\n",
       "      <td>0.562771</td>\n",
       "    </tr>\n",
       "    <tr>\n",
       "      <th>6</th>\n",
       "      <td>vec_search_2</td>\n",
       "      <td>0.766753</td>\n",
       "      <td>0.584190</td>\n",
       "    </tr>\n",
       "    <tr>\n",
       "      <th>9</th>\n",
       "      <td>hybrid_search_1</td>\n",
       "      <td>0.764675</td>\n",
       "      <td>0.609342</td>\n",
       "    </tr>\n",
       "    <tr>\n",
       "      <th>11</th>\n",
       "      <td>hybrid_search_3</td>\n",
       "      <td>0.761558</td>\n",
       "      <td>0.605723</td>\n",
       "    </tr>\n",
       "    <tr>\n",
       "      <th>7</th>\n",
       "      <td>vec_search_3_baseline</td>\n",
       "      <td>0.758961</td>\n",
       "      <td>0.553801</td>\n",
       "    </tr>\n",
       "    <tr>\n",
       "      <th>0</th>\n",
       "      <td>text_search_baseline</td>\n",
       "      <td>0.756364</td>\n",
       "      <td>0.605351</td>\n",
       "    </tr>\n",
       "    <tr>\n",
       "      <th>4</th>\n",
       "      <td>vec_search_1</td>\n",
       "      <td>0.728312</td>\n",
       "      <td>0.570017</td>\n",
       "    </tr>\n",
       "    <tr>\n",
       "      <th>1</th>\n",
       "      <td>text_search_1</td>\n",
       "      <td>0.709610</td>\n",
       "      <td>0.585229</td>\n",
       "    </tr>\n",
       "    <tr>\n",
       "      <th>2</th>\n",
       "      <td>text_search_2</td>\n",
       "      <td>0.709610</td>\n",
       "      <td>0.585229</td>\n",
       "    </tr>\n",
       "    <tr>\n",
       "      <th>3</th>\n",
       "      <td>text_search_3</td>\n",
       "      <td>0.709610</td>\n",
       "      <td>0.585229</td>\n",
       "    </tr>\n",
       "  </tbody>\n",
       "</table>\n",
       "</div>"
      ],
      "text/plain": [
       "                    index  hit_rate       mrr\n",
       "13        hybrid_search_5  0.848312  0.679853\n",
       "14        hybrid_search_6  0.837403  0.673688\n",
       "12        hybrid_search_4  0.819740  0.654753\n",
       "8            vec_search_3  0.770909  0.584442\n",
       "10        hybrid_search_2  0.770390  0.616649\n",
       "5   vec_search_2_baseline  0.767792  0.562771\n",
       "6            vec_search_2  0.766753  0.584190\n",
       "9         hybrid_search_1  0.764675  0.609342\n",
       "11        hybrid_search_3  0.761558  0.605723\n",
       "7   vec_search_3_baseline  0.758961  0.553801\n",
       "0    text_search_baseline  0.756364  0.605351\n",
       "4            vec_search_1  0.728312  0.570017\n",
       "1           text_search_1  0.709610  0.585229\n",
       "2           text_search_2  0.709610  0.585229\n",
       "3           text_search_3  0.709610  0.585229"
      ]
     },
     "execution_count": 61,
     "metadata": {},
     "output_type": "execute_result"
    }
   ],
   "source": [
    "df_eval = pd.DataFrame(evaluation_dict).T\n",
    "df_eval.reset_index().sort_values(by=['hit_rate','mrr'], ascending=False)"
   ]
  },
  {
   "cell_type": "code",
   "execution_count": 62,
   "id": "6e0f662e-fc92-4898-af8f-b795ebff0bd2",
   "metadata": {},
   "outputs": [
    {
     "data": {
      "text/html": [
       "<div>\n",
       "<style scoped>\n",
       "    .dataframe tbody tr th:only-of-type {\n",
       "        vertical-align: middle;\n",
       "    }\n",
       "\n",
       "    .dataframe tbody tr th {\n",
       "        vertical-align: top;\n",
       "    }\n",
       "\n",
       "    .dataframe thead th {\n",
       "        text-align: right;\n",
       "    }\n",
       "</style>\n",
       "<table border=\"1\" class=\"dataframe\">\n",
       "  <thead>\n",
       "    <tr style=\"text-align: right;\">\n",
       "      <th></th>\n",
       "      <th>index</th>\n",
       "      <th>hit_rate</th>\n",
       "      <th>mrr</th>\n",
       "    </tr>\n",
       "  </thead>\n",
       "  <tbody>\n",
       "    <tr>\n",
       "      <th>13</th>\n",
       "      <td>hybrid_search_5</td>\n",
       "      <td>0.848312</td>\n",
       "      <td>0.679853</td>\n",
       "    </tr>\n",
       "    <tr>\n",
       "      <th>14</th>\n",
       "      <td>hybrid_search_6</td>\n",
       "      <td>0.837403</td>\n",
       "      <td>0.673688</td>\n",
       "    </tr>\n",
       "    <tr>\n",
       "      <th>12</th>\n",
       "      <td>hybrid_search_4</td>\n",
       "      <td>0.819740</td>\n",
       "      <td>0.654753</td>\n",
       "    </tr>\n",
       "    <tr>\n",
       "      <th>8</th>\n",
       "      <td>vec_search_3</td>\n",
       "      <td>0.770909</td>\n",
       "      <td>0.584442</td>\n",
       "    </tr>\n",
       "    <tr>\n",
       "      <th>10</th>\n",
       "      <td>hybrid_search_2</td>\n",
       "      <td>0.770390</td>\n",
       "      <td>0.616649</td>\n",
       "    </tr>\n",
       "    <tr>\n",
       "      <th>5</th>\n",
       "      <td>vec_search_2_baseline</td>\n",
       "      <td>0.767792</td>\n",
       "      <td>0.562771</td>\n",
       "    </tr>\n",
       "    <tr>\n",
       "      <th>6</th>\n",
       "      <td>vec_search_2</td>\n",
       "      <td>0.766753</td>\n",
       "      <td>0.584190</td>\n",
       "    </tr>\n",
       "    <tr>\n",
       "      <th>9</th>\n",
       "      <td>hybrid_search_1</td>\n",
       "      <td>0.764675</td>\n",
       "      <td>0.609342</td>\n",
       "    </tr>\n",
       "    <tr>\n",
       "      <th>11</th>\n",
       "      <td>hybrid_search_3</td>\n",
       "      <td>0.761558</td>\n",
       "      <td>0.605723</td>\n",
       "    </tr>\n",
       "    <tr>\n",
       "      <th>7</th>\n",
       "      <td>vec_search_3_baseline</td>\n",
       "      <td>0.758961</td>\n",
       "      <td>0.553801</td>\n",
       "    </tr>\n",
       "    <tr>\n",
       "      <th>0</th>\n",
       "      <td>text_search_baseline</td>\n",
       "      <td>0.756364</td>\n",
       "      <td>0.605351</td>\n",
       "    </tr>\n",
       "    <tr>\n",
       "      <th>4</th>\n",
       "      <td>vec_search_1</td>\n",
       "      <td>0.728312</td>\n",
       "      <td>0.570017</td>\n",
       "    </tr>\n",
       "    <tr>\n",
       "      <th>1</th>\n",
       "      <td>text_search_1</td>\n",
       "      <td>0.709610</td>\n",
       "      <td>0.585229</td>\n",
       "    </tr>\n",
       "    <tr>\n",
       "      <th>2</th>\n",
       "      <td>text_search_2</td>\n",
       "      <td>0.709610</td>\n",
       "      <td>0.585229</td>\n",
       "    </tr>\n",
       "    <tr>\n",
       "      <th>3</th>\n",
       "      <td>text_search_3</td>\n",
       "      <td>0.709610</td>\n",
       "      <td>0.585229</td>\n",
       "    </tr>\n",
       "  </tbody>\n",
       "</table>\n",
       "</div>"
      ],
      "text/plain": [
       "                    index  hit_rate       mrr\n",
       "13        hybrid_search_5  0.848312  0.679853\n",
       "14        hybrid_search_6  0.837403  0.673688\n",
       "12        hybrid_search_4  0.819740  0.654753\n",
       "8            vec_search_3  0.770909  0.584442\n",
       "10        hybrid_search_2  0.770390  0.616649\n",
       "5   vec_search_2_baseline  0.767792  0.562771\n",
       "6            vec_search_2  0.766753  0.584190\n",
       "9         hybrid_search_1  0.764675  0.609342\n",
       "11        hybrid_search_3  0.761558  0.605723\n",
       "7   vec_search_3_baseline  0.758961  0.553801\n",
       "0    text_search_baseline  0.756364  0.605351\n",
       "4            vec_search_1  0.728312  0.570017\n",
       "1           text_search_1  0.709610  0.585229\n",
       "2           text_search_2  0.709610  0.585229\n",
       "3           text_search_3  0.709610  0.585229"
      ]
     },
     "execution_count": 62,
     "metadata": {},
     "output_type": "execute_result"
    }
   ],
   "source": [
    "df_eval.reset_index().sort_values(by=['hit_rate'], ascending=False)"
   ]
  },
  {
   "cell_type": "code",
   "execution_count": 63,
   "id": "b9f0f879-0aa0-4902-83e2-b4515457266e",
   "metadata": {},
   "outputs": [
    {
     "data": {
      "text/html": [
       "<div>\n",
       "<style scoped>\n",
       "    .dataframe tbody tr th:only-of-type {\n",
       "        vertical-align: middle;\n",
       "    }\n",
       "\n",
       "    .dataframe tbody tr th {\n",
       "        vertical-align: top;\n",
       "    }\n",
       "\n",
       "    .dataframe thead th {\n",
       "        text-align: right;\n",
       "    }\n",
       "</style>\n",
       "<table border=\"1\" class=\"dataframe\">\n",
       "  <thead>\n",
       "    <tr style=\"text-align: right;\">\n",
       "      <th></th>\n",
       "      <th>index</th>\n",
       "      <th>hit_rate</th>\n",
       "      <th>mrr</th>\n",
       "    </tr>\n",
       "  </thead>\n",
       "  <tbody>\n",
       "    <tr>\n",
       "      <th>13</th>\n",
       "      <td>hybrid_search_5</td>\n",
       "      <td>0.848312</td>\n",
       "      <td>0.679853</td>\n",
       "    </tr>\n",
       "    <tr>\n",
       "      <th>14</th>\n",
       "      <td>hybrid_search_6</td>\n",
       "      <td>0.837403</td>\n",
       "      <td>0.673688</td>\n",
       "    </tr>\n",
       "    <tr>\n",
       "      <th>12</th>\n",
       "      <td>hybrid_search_4</td>\n",
       "      <td>0.819740</td>\n",
       "      <td>0.654753</td>\n",
       "    </tr>\n",
       "    <tr>\n",
       "      <th>10</th>\n",
       "      <td>hybrid_search_2</td>\n",
       "      <td>0.770390</td>\n",
       "      <td>0.616649</td>\n",
       "    </tr>\n",
       "    <tr>\n",
       "      <th>9</th>\n",
       "      <td>hybrid_search_1</td>\n",
       "      <td>0.764675</td>\n",
       "      <td>0.609342</td>\n",
       "    </tr>\n",
       "    <tr>\n",
       "      <th>11</th>\n",
       "      <td>hybrid_search_3</td>\n",
       "      <td>0.761558</td>\n",
       "      <td>0.605723</td>\n",
       "    </tr>\n",
       "    <tr>\n",
       "      <th>0</th>\n",
       "      <td>text_search_baseline</td>\n",
       "      <td>0.756364</td>\n",
       "      <td>0.605351</td>\n",
       "    </tr>\n",
       "    <tr>\n",
       "      <th>1</th>\n",
       "      <td>text_search_1</td>\n",
       "      <td>0.709610</td>\n",
       "      <td>0.585229</td>\n",
       "    </tr>\n",
       "    <tr>\n",
       "      <th>2</th>\n",
       "      <td>text_search_2</td>\n",
       "      <td>0.709610</td>\n",
       "      <td>0.585229</td>\n",
       "    </tr>\n",
       "    <tr>\n",
       "      <th>3</th>\n",
       "      <td>text_search_3</td>\n",
       "      <td>0.709610</td>\n",
       "      <td>0.585229</td>\n",
       "    </tr>\n",
       "    <tr>\n",
       "      <th>8</th>\n",
       "      <td>vec_search_3</td>\n",
       "      <td>0.770909</td>\n",
       "      <td>0.584442</td>\n",
       "    </tr>\n",
       "    <tr>\n",
       "      <th>6</th>\n",
       "      <td>vec_search_2</td>\n",
       "      <td>0.766753</td>\n",
       "      <td>0.584190</td>\n",
       "    </tr>\n",
       "    <tr>\n",
       "      <th>4</th>\n",
       "      <td>vec_search_1</td>\n",
       "      <td>0.728312</td>\n",
       "      <td>0.570017</td>\n",
       "    </tr>\n",
       "    <tr>\n",
       "      <th>5</th>\n",
       "      <td>vec_search_2_baseline</td>\n",
       "      <td>0.767792</td>\n",
       "      <td>0.562771</td>\n",
       "    </tr>\n",
       "    <tr>\n",
       "      <th>7</th>\n",
       "      <td>vec_search_3_baseline</td>\n",
       "      <td>0.758961</td>\n",
       "      <td>0.553801</td>\n",
       "    </tr>\n",
       "  </tbody>\n",
       "</table>\n",
       "</div>"
      ],
      "text/plain": [
       "                    index  hit_rate       mrr\n",
       "13        hybrid_search_5  0.848312  0.679853\n",
       "14        hybrid_search_6  0.837403  0.673688\n",
       "12        hybrid_search_4  0.819740  0.654753\n",
       "10        hybrid_search_2  0.770390  0.616649\n",
       "9         hybrid_search_1  0.764675  0.609342\n",
       "11        hybrid_search_3  0.761558  0.605723\n",
       "0    text_search_baseline  0.756364  0.605351\n",
       "1           text_search_1  0.709610  0.585229\n",
       "2           text_search_2  0.709610  0.585229\n",
       "3           text_search_3  0.709610  0.585229\n",
       "8            vec_search_3  0.770909  0.584442\n",
       "6            vec_search_2  0.766753  0.584190\n",
       "4            vec_search_1  0.728312  0.570017\n",
       "5   vec_search_2_baseline  0.767792  0.562771\n",
       "7   vec_search_3_baseline  0.758961  0.553801"
      ]
     },
     "execution_count": 63,
     "metadata": {},
     "output_type": "execute_result"
    }
   ],
   "source": [
    "df_eval.reset_index().sort_values(by=['mrr'], ascending=False)"
   ]
  },
  {
   "cell_type": "markdown",
   "id": "f02393ed-f984-459c-a626-4703f2a7fbe1",
   "metadata": {},
   "source": [
    "## Evaluation Results conclusion\n",
    "\n",
    "The best retrieval method for this document would be using **hybrid search**, consists of:\n",
    "* text-based search with fields `header`, `subheader`, `doc_text` and a `boost` of 0.05\n",
    "* vector-based search with fields `header_vec`, `subheader_vec`, `doc_text_vec`(3 times more importance)\n",
    "\n",
    "```python\n",
    "    keyword_query = {\"query\": question,\n",
    "                    \"fields\": [\"header\", \"subheader\", \"doc_text\"],\n",
    "                    \"type\": \"best_fields\",\n",
    "                    \"boost\": 0.05,\n",
    "                    }\n",
    "\n",
    "    vector_query = {\"query\": {\"match_all\": {}},\n",
    "                    \"script\": {\n",
    "                                \"source\": \"\"\"\n",
    "                                    0.2 * cosineSimilarity(params.query_vector, 'header_vec') + \n",
    "                                    0.2 * cosineSimilarity(params.query_vector, 'subheader_vec') + \n",
    "                                    0.6 * cosineSimilarity(params.query_vector, 'doc_text_vec') + 1\n",
    "                                \"\"\",\n",
    "                                \"params\": {\"query_vector\": question_vec}\n",
    "                            }\n",
    "                   }\n",
    "```"
   ]
  },
  {
   "cell_type": "code",
   "execution_count": null,
   "id": "bad8d197-1ee3-4ac4-9518-ad5529ce7bf0",
   "metadata": {},
   "outputs": [],
   "source": []
  }
 ],
 "metadata": {
  "kernelspec": {
   "display_name": "Python 3 (ipykernel)",
   "language": "python",
   "name": "python3"
  },
  "language_info": {
   "codemirror_mode": {
    "name": "ipython",
    "version": 3
   },
   "file_extension": ".py",
   "mimetype": "text/x-python",
   "name": "python",
   "nbconvert_exporter": "python",
   "pygments_lexer": "ipython3",
   "version": "3.12.3"
  }
 },
 "nbformat": 4,
 "nbformat_minor": 5
}
