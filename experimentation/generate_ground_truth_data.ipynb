{
 "cells": [
  {
   "cell_type": "markdown",
   "id": "bfd650b4-dedd-463c-9e39-d534fa35a5cf",
   "metadata": {},
   "source": [
    "# FRIENDLY WARNING\n",
    "## OpenAI API is being called here. Do not rerun if you're not planning to use any of your OpenAI credits!"
   ]
  },
  {
   "cell_type": "markdown",
   "id": "b7557eb3-f400-426c-b5bb-bcebc2ceae15",
   "metadata": {},
   "source": [
    "# Generate Ground Truth Data\n",
    "\n",
    "Using the chunked knowledge base `readme_notes_with_ids.json`, a set of ground truth data is generated using the following steps: \n",
    "\n",
    "* For each document, use LLM to produce 5 questions that are relevant to each document.\n",
    "* Save as ground truth data.\n",
    "* Generate embeddings for ground truth data and save them for future evaluations. \n",
    "\n",
    "This ground truth data is required to proceed with:\n",
    "* **Retrieval evaluation**: Evaluate the retrieval methods (text-based search, vector-based search, hybrid search) using the generated questions and evaluation metrics Hit Rate and Mean Reciprocal Rank to determine the best retrieval method for the final chatbot app.\n",
    "* **RAG evaluation**: Evaluate the LLM candidates' performance to determine the best model for the final chatbot app.  "
   ]
  },
  {
   "cell_type": "code",
   "execution_count": 1,
   "id": "0a90eff8-e9fb-40e9-8e3f-59b2270b7787",
   "metadata": {},
   "outputs": [],
   "source": [
    "from openai import OpenAI\n",
    "from tqdm.auto import tqdm\n",
    "import pickle\n",
    "import pandas as pd\n",
    "import json\n",
    "import os\n",
    "from dotenv import load_dotenv\n",
    "from sentence_transformers import SentenceTransformer"
   ]
  },
  {
   "cell_type": "markdown",
   "id": "8fe53e35-dc5f-44ef-8406-524def28a06c",
   "metadata": {},
   "source": [
    "### Load OpenAI API key from `.env`\n",
    "\n",
    "You will need setup a `.env` file with your own OpenAI API key to rerun the ground truth data generation. \n",
    "\n",
    "Sample `.env` file for this project:\n",
    "```\n",
    "OPENAI_API_KEY=your API key here\n",
    "```"
   ]
  },
  {
   "cell_type": "code",
   "execution_count": 2,
   "id": "fcb1f9bb-11c3-4c6a-9d8c-df41e55aa6d4",
   "metadata": {},
   "outputs": [],
   "source": [
    "load_dotenv()\n",
    "os.environ[\"OPENAI_API_KEY\"] = os.getenv(\"OPENAI_API_KEY\") "
   ]
  },
  {
   "cell_type": "markdown",
   "id": "9944dc9f-ad02-4466-8351-f840fea2bec4",
   "metadata": {},
   "source": [
    "### Load `readme_notes_with_ids.json`\n",
    "\n",
    "JSON file should contain 385 documents where each document is a chunked data on its own."
   ]
  },
  {
   "cell_type": "code",
   "execution_count": 3,
   "id": "10887f6e-4941-4ccd-b782-7f3a76ffa677",
   "metadata": {},
   "outputs": [],
   "source": [
    "folder = \"../data/\"\n",
    "file = \"readme_notes_with_ids.json\""
   ]
  },
  {
   "cell_type": "code",
   "execution_count": 4,
   "id": "c9be329b-30e4-4b94-afd0-43c4b5897810",
   "metadata": {},
   "outputs": [],
   "source": [
    "with open(f\"{folder}{file}\") as f:\n",
    "    documents = json.load(f)"
   ]
  },
  {
   "cell_type": "markdown",
   "id": "0e43b701-83bd-4339-bf36-965d5e1070f9",
   "metadata": {},
   "source": [
    "Cross-check number of documents and format to ensure documents are loaded successfully."
   ]
  },
  {
   "cell_type": "code",
   "execution_count": 5,
   "id": "8fa77317-5d3c-40ae-aee1-3e7903f0ae74",
   "metadata": {},
   "outputs": [
    {
     "data": {
      "text/plain": [
       "385"
      ]
     },
     "execution_count": 5,
     "metadata": {},
     "output_type": "execute_result"
    }
   ],
   "source": [
    "len(documents)"
   ]
  },
  {
   "cell_type": "code",
   "execution_count": 6,
   "id": "e842808b-6227-478c-befc-3caab6377ac8",
   "metadata": {},
   "outputs": [
    {
     "data": {
      "text/plain": [
       "[{'doc_id': '08e49f1028_1',\n",
       "  'header': ' Cloud Concepts: Describe cloud service types',\n",
       "  'subheader': ' Infrastructure as a service (IaaS)',\n",
       "  'document': ['Customer has maximum control of cloud resources.'],\n",
       "  'doc_text': 'Customer has maximum control of cloud resources.'},\n",
       " {'doc_id': '08e49f1028_2',\n",
       "  'header': ' Cloud Concepts: Describe cloud service types',\n",
       "  'subheader': ' Infrastructure as a service (IaaS)',\n",
       "  'document': ['Customer has largest share of responsibility in the shared responsibility model.'],\n",
       "  'doc_text': 'Customer has largest share of responsibility in the shared responsibility model.'},\n",
       " {'doc_id': '08e49f1028_3',\n",
       "  'header': ' Cloud Concepts: Describe cloud service types',\n",
       "  'subheader': ' Infrastructure as a service (IaaS)',\n",
       "  'document': ['Only the physical resources are controlled by cloud provider: Physical hosts, network and data center security.'],\n",
       "  'doc_text': 'Only the physical resources are controlled by cloud provider: Physical hosts, network and data center security.'}]"
      ]
     },
     "execution_count": 6,
     "metadata": {},
     "output_type": "execute_result"
    }
   ],
   "source": [
    "documents[:3]"
   ]
  },
  {
   "cell_type": "markdown",
   "id": "ffffaa6a-3873-42e9-8618-bf88826faa4b",
   "metadata": {},
   "source": [
    "### Formulate prompt to generate questions for ground truth data\n",
    "\n",
    "This prompt was pre-tested in ChatGPT to ensure the output matches my expectations, see here: [ChatGPT Test on AZ-900 ground truth data prompt](https://chatgpt.com/share/30e7c43c-e457-4b44-8b0e-1be08f6c4b71)."
   ]
  },
  {
   "cell_type": "code",
   "execution_count": 7,
   "id": "709c8b94-d872-4675-9090-5ce895903b9c",
   "metadata": {},
   "outputs": [],
   "source": [
    "prompt_template = \"\"\"\n",
    "You are currently studying for the Microsoft Azure Fundamentals (AZ-900) certification exam, and you're trying to better understand the concepts covered in the document provided. \n",
    "Based on this document, generate five questions that you might ask. The document should contain the answer to the questions.\n",
    "\n",
    "The document:\n",
    "\n",
    "Topic: {header}\n",
    "Sub topic: {subheader}\n",
    "Notes: {doc_text}\n",
    "\n",
    "Provide the 5 questions in parsable JSON without using code blocks. Here is an example for the 5 questions:\n",
    "\n",
    "[\"question1\", \"question2\", ..., \"question5\"]\n",
    "\"\"\".strip()"
   ]
  },
  {
   "cell_type": "markdown",
   "id": "5bcc642e-e900-400b-96d6-41cdcf1db64c",
   "metadata": {},
   "source": [
    "Test prompt template formatting with a random document"
   ]
  },
  {
   "cell_type": "code",
   "execution_count": 8,
   "id": "52110ea5-af84-4344-9255-6009be233195",
   "metadata": {},
   "outputs": [
    {
     "data": {
      "text/plain": [
       "{'doc_id': '08e49f1028_3',\n",
       " 'header': ' Cloud Concepts: Describe cloud service types',\n",
       " 'subheader': ' Infrastructure as a service (IaaS)',\n",
       " 'document': ['Only the physical resources are controlled by cloud provider: Physical hosts, network and data center security.'],\n",
       " 'doc_text': 'Only the physical resources are controlled by cloud provider: Physical hosts, network and data center security.'}"
      ]
     },
     "execution_count": 8,
     "metadata": {},
     "output_type": "execute_result"
    }
   ],
   "source": [
    "documents[2]"
   ]
  },
  {
   "cell_type": "code",
   "execution_count": 9,
   "id": "ea0ac180-fa1f-42d3-a3ca-faf6cc9ffa25",
   "metadata": {},
   "outputs": [
    {
     "name": "stdout",
     "output_type": "stream",
     "text": [
      "You are currently studying for the Microsoft Azure Fundamentals (AZ-900) certification exam, and you're trying to better understand the concepts covered in the document provided. \n",
      "Based on this document, generate five questions that you might ask. The document should contain the answer to the questions.\n",
      "\n",
      "The document:\n",
      "\n",
      "Topic:  Cloud Concepts: Describe cloud service types\n",
      "Sub topic:  Infrastructure as a service (IaaS)\n",
      "Notes: Only the physical resources are controlled by cloud provider: Physical hosts, network and data center security.\n",
      "\n",
      "Provide the 5 questions in parsable JSON without using code blocks. Here is an example for the 5 questions:\n",
      "\n",
      "[\"question1\", \"question2\", ..., \"question5\"]\n"
     ]
    }
   ],
   "source": [
    "print(prompt_template.format(**documents[2]))"
   ]
  },
  {
   "cell_type": "markdown",
   "id": "bdff6387-18bd-4c25-a6a4-24bf6838fafc",
   "metadata": {},
   "source": [
    "### Setup LLM for ground truth data\n",
    "Here's what's needed:\n",
    "\n",
    "* A prompt that generates questions based on ground truth data\n",
    "* An LLM that takes this prompt and generates a response that contains the questions\n"
   ]
  },
  {
   "cell_type": "code",
   "execution_count": 10,
   "id": "c7ced2e6-d259-47e1-9256-fc0dd663a53a",
   "metadata": {},
   "outputs": [],
   "source": [
    "client = OpenAI()\n",
    "\n",
    "def generate_questions(doc, model='gpt-4o-mini'):\n",
    "    prompt = prompt_template.format(**doc)\n",
    "\n",
    "    response = client.chat.completions.create(\n",
    "        model=model,\n",
    "        messages=[{\"role\": \"user\", \"content\": prompt}]\n",
    "    )\n",
    "\n",
    "    json_response = response.choices[0].message.content\n",
    "    return json_response"
   ]
  },
  {
   "cell_type": "markdown",
   "id": "1013ebbf-dfd9-49d2-af5b-5a9ca77227b9",
   "metadata": {},
   "source": [
    "### Test run for questions generation\n",
    "Before executing call on all documents:\n",
    "* Test one document's questions generation with OpenAI\n",
    "* Test JSON parsing on the generated questions. It should be in the format `{document_id : list of 5 questions}`"
   ]
  },
  {
   "cell_type": "code",
   "execution_count": 11,
   "id": "4a163833-be56-4101-859b-df9f70b71985",
   "metadata": {},
   "outputs": [],
   "source": [
    "test_response = generate_questions(documents[2])"
   ]
  },
  {
   "cell_type": "code",
   "execution_count": 12,
   "id": "74141a20-6e36-458b-b71c-5f4dd75a83bc",
   "metadata": {},
   "outputs": [
    {
     "data": {
      "text/plain": [
       "'[\\n    \"What does IaaS stand for in cloud service types?\",\\n    \"What physical resources are managed by the cloud provider in IaaS?\",\\n    \"In IaaS, who is responsible for data center security?\",\\n    \"Which elements are included in the management scope of IaaS by the cloud provider?\",\\n    \"What level of control do users have in an IaaS model compared to other cloud service types?\"\\n]'"
      ]
     },
     "execution_count": 12,
     "metadata": {},
     "output_type": "execute_result"
    }
   ],
   "source": [
    "test_response"
   ]
  },
  {
   "cell_type": "code",
   "execution_count": 13,
   "id": "cdedcf86-f073-41ca-bb72-da7521328af6",
   "metadata": {},
   "outputs": [],
   "source": [
    "test_results = {}\n",
    "test_id = documents[2]['doc_id']\n",
    "test_results[test_id] = test_response\n",
    "\n",
    "test_parsed_results = {}\n",
    "for id, json_questions in test_results.items():\n",
    "    test_parsed_results[id] = json.loads(json_questions)"
   ]
  },
  {
   "cell_type": "code",
   "execution_count": 14,
   "id": "a1739b62-df7c-4b41-b5b7-fcd3c73cc965",
   "metadata": {},
   "outputs": [
    {
     "data": {
      "text/plain": [
       "{'08e49f1028_3': ['What does IaaS stand for in cloud service types?',\n",
       "  'What physical resources are managed by the cloud provider in IaaS?',\n",
       "  'In IaaS, who is responsible for data center security?',\n",
       "  'Which elements are included in the management scope of IaaS by the cloud provider?',\n",
       "  'What level of control do users have in an IaaS model compared to other cloud service types?']}"
      ]
     },
     "execution_count": 14,
     "metadata": {},
     "output_type": "execute_result"
    }
   ],
   "source": [
    "test_parsed_results"
   ]
  },
  {
   "cell_type": "markdown",
   "id": "c32a49f8-1ddf-4645-90ec-f21a809bfa87",
   "metadata": {},
   "source": [
    "### Generate questions for all documents\n",
    "The subsequent code blocks are executed once the test run results are satisfactory.\n",
    "* Save document id and the 5 generated questions as a key-value pair (5 questions in a list) in results dictionary.\n",
    "* Skip generation if the document id exists in results dictionary, to handle code block rerun scenarios."
   ]
  },
  {
   "cell_type": "code",
   "execution_count": 15,
   "id": "962afadf-58f9-4498-a0e5-44171d279cce",
   "metadata": {},
   "outputs": [],
   "source": [
    "results = {}"
   ]
  },
  {
   "cell_type": "code",
   "execution_count": 16,
   "id": "2e910a92-9cfb-47fa-88eb-9a0ff9db79f0",
   "metadata": {},
   "outputs": [
    {
     "data": {
      "application/vnd.jupyter.widget-view+json": {
       "model_id": "5c4170d3796c46f3935fd7ed16b66620",
       "version_major": 2,
       "version_minor": 0
      },
      "text/plain": [
       "  0%|          | 0/385 [00:00<?, ?it/s]"
      ]
     },
     "metadata": {},
     "output_type": "display_data"
    }
   ],
   "source": [
    "for doc in tqdm(documents): \n",
    "    doc_id = doc['doc_id']\n",
    "    if doc_id in results:\n",
    "        continue\n",
    "\n",
    "    questions = generate_questions(doc)\n",
    "    results[doc_id] = questions"
   ]
  },
  {
   "cell_type": "markdown",
   "id": "8720c965-f627-4f43-ac64-07d026077e61",
   "metadata": {},
   "source": [
    "* Cross check results to make sure each document has own set of questions.\n",
    "* Backup results into `results_backup.json` in case of parsing errors in the following step."
   ]
  },
  {
   "cell_type": "code",
   "execution_count": 17,
   "id": "91d5247c-0fca-4add-9833-beeeb35b36ef",
   "metadata": {},
   "outputs": [
    {
     "data": {
      "text/plain": [
       "385"
      ]
     },
     "execution_count": 17,
     "metadata": {},
     "output_type": "execute_result"
    }
   ],
   "source": [
    "len(results.items())"
   ]
  },
  {
   "cell_type": "code",
   "execution_count": 18,
   "id": "cdf7d55e-ae03-4b90-b613-4d95c2a7719d",
   "metadata": {},
   "outputs": [],
   "source": [
    "results_file = \"results_backup.json\"\n",
    "with open(f\"{folder}{results_file}\", 'w') as w:\n",
    "    json.dump(results, w)"
   ]
  },
  {
   "cell_type": "markdown",
   "id": "30649689-3ca8-423a-9990-3ac513b12848",
   "metadata": {},
   "source": [
    "### Parse results as ground-truth data\n",
    "\n",
    "The results together with the original documents will be parsed into ground truth data. Each ground truth data row will look like this:\n",
    "\n",
    "| doc_id | question |\n",
    "|--------|--------|\n",
    "|...xyz...| 1st question|\n",
    "|...xyz...| 2nd question|\n",
    "|...xyz...| 3rd question|\n",
    "|...xyz...| 4th question|\n",
    "|...xyz...| 5th question|\n",
    "\n",
    "Hence, for $n$ documents, there will be $5n$ questions in the ground truth data."
   ]
  },
  {
   "cell_type": "code",
   "execution_count": 19,
   "id": "38118074-8165-490f-9b98-8c279ce67893",
   "metadata": {},
   "outputs": [],
   "source": [
    "parsed_result = {}\n",
    "\n",
    "for doc_id, json_questions in results.items():\n",
    "    parsed_result[doc_id] = json.loads(json_questions)"
   ]
  },
  {
   "cell_type": "code",
   "execution_count": 20,
   "id": "907542ff-1ec3-40ee-8703-ee2242f2fbc1",
   "metadata": {},
   "outputs": [
    {
     "data": {
      "text/plain": [
       "385"
      ]
     },
     "execution_count": 20,
     "metadata": {},
     "output_type": "execute_result"
    }
   ],
   "source": [
    "len(parsed_result)"
   ]
  },
  {
   "cell_type": "code",
   "execution_count": 21,
   "id": "77c3e03a-2c5f-45bc-80d6-126563741ce2",
   "metadata": {},
   "outputs": [],
   "source": [
    "ground_truth_data = []\n",
    "\n",
    "for doc_id, questions in parsed_result.items():\n",
    "    for q in questions:\n",
    "        ground_truth_data.append((doc_id, q))"
   ]
  },
  {
   "cell_type": "code",
   "execution_count": 22,
   "id": "07041ce6-ebb6-49ad-ab28-135ab37ec2a4",
   "metadata": {},
   "outputs": [
    {
     "data": {
      "text/plain": [
       "1925"
      ]
     },
     "execution_count": 22,
     "metadata": {},
     "output_type": "execute_result"
    }
   ],
   "source": [
    "len(ground_truth_data)"
   ]
  },
  {
   "cell_type": "markdown",
   "id": "f2737904-329e-4de5-80bc-3e164d79e617",
   "metadata": {},
   "source": [
    "Inspecting 1st 10 rows of ground truth data, there should be 10 different questions belonging to 2 unique document ids."
   ]
  },
  {
   "cell_type": "code",
   "execution_count": 23,
   "id": "a95ca2a4-25e0-4053-8f62-5882496eaa06",
   "metadata": {},
   "outputs": [
    {
     "data": {
      "text/plain": [
       "[('08e49f1028_1',\n",
       "  'What is the primary characteristic of Infrastructure as a Service (IaaS)?'),\n",
       " ('08e49f1028_1',\n",
       "  'How much control does a customer have over cloud resources in IaaS?'),\n",
       " ('08e49f1028_1',\n",
       "  'What type of cloud service provides the maximum control to customers?'),\n",
       " ('08e49f1028_1',\n",
       "  \"In the context of IaaS, what does 'customer control' refer to?\"),\n",
       " ('08e49f1028_1',\n",
       "  'Which cloud service model allows users to manage their own infrastructure resources?'),\n",
       " ('08e49f1028_2',\n",
       "  'What is the largest share of responsibility for customers in the shared responsibility model?'),\n",
       " ('08e49f1028_2', 'What does IaaS stand for in cloud service types?'),\n",
       " ('08e49f1028_2',\n",
       "  'In the shared responsibility model, how much responsibility does the customer have?'),\n",
       " ('08e49f1028_2',\n",
       "  'Which cloud service model places the largest responsibility on the customer?'),\n",
       " ('08e49f1028_2',\n",
       "  'What are customers responsible for in an Infrastructure as a Service (IaaS) model?')]"
      ]
     },
     "execution_count": 23,
     "metadata": {},
     "output_type": "execute_result"
    }
   ],
   "source": [
    "ground_truth_data[:10]"
   ]
  },
  {
   "cell_type": "code",
   "execution_count": 24,
   "id": "c7a7cd60-f03d-4abe-be89-8c8fc3e876cc",
   "metadata": {},
   "outputs": [],
   "source": [
    "df_ground_truth = pd.DataFrame(ground_truth_data, columns=['doc_id', 'question'])"
   ]
  },
  {
   "cell_type": "markdown",
   "id": "4d70ba59-802e-4909-9eea-65e075b80c6e",
   "metadata": {},
   "source": [
    "## Generate embeddings for questions\n",
    "\n",
    "Generate embeddings now with the same embedding model `sentence-transformers/all-MiniLM-L12-v2` used in data ingestion pipeline. See `/ingestion/embed.ipynb`"
   ]
  },
  {
   "cell_type": "code",
   "execution_count": 25,
   "id": "9c0e675d-fd2b-4cfe-8ce5-e974f1997653",
   "metadata": {},
   "outputs": [],
   "source": [
    "questions = df_ground_truth['question'].tolist()"
   ]
  },
  {
   "cell_type": "code",
   "execution_count": 26,
   "id": "5aa8d0ce-c8b2-4a97-a68b-1ae2cabb80e4",
   "metadata": {},
   "outputs": [
    {
     "data": {
      "text/plain": [
       "1925"
      ]
     },
     "execution_count": 26,
     "metadata": {},
     "output_type": "execute_result"
    }
   ],
   "source": [
    "len(questions)"
   ]
  },
  {
   "cell_type": "code",
   "execution_count": 27,
   "id": "1bd6bd52-65ef-4158-8484-cd8b844f84b0",
   "metadata": {},
   "outputs": [
    {
     "name": "stderr",
     "output_type": "stream",
     "text": [
      "/Users/viviensiew/.local/share/virtualenvs/LLM-project-84bUGCVP/lib/python3.12/site-packages/transformers/tokenization_utils_base.py:1601: FutureWarning: `clean_up_tokenization_spaces` was not set. It will be set to `True` by default. This behavior will be depracted in transformers v4.45, and will be then set to `False` by default. For more details check this issue: https://github.com/huggingface/transformers/issues/31884\n",
      "  warnings.warn(\n"
     ]
    }
   ],
   "source": [
    "model_name = 'sentence-transformers/all-MiniLM-L12-v2'\n",
    "model = SentenceTransformer(model_name)"
   ]
  },
  {
   "cell_type": "code",
   "execution_count": 28,
   "id": "ef337e28-7324-4106-bdc8-161dab7e8b1b",
   "metadata": {},
   "outputs": [
    {
     "data": {
      "application/vnd.jupyter.widget-view+json": {
       "model_id": "c8cbb495e0284b3ab15ad5628c99452b",
       "version_major": 2,
       "version_minor": 0
      },
      "text/plain": [
       "  0%|          | 0/1925 [00:00<?, ?it/s]"
      ]
     },
     "metadata": {},
     "output_type": "display_data"
    }
   ],
   "source": [
    "questions_vec = []\n",
    "for q in tqdm(questions):\n",
    "    questions_vec.append(model.encode(q))"
   ]
  },
  {
   "cell_type": "code",
   "execution_count": 29,
   "id": "725add7f-e0f1-41d1-8db8-967ee16825ec",
   "metadata": {},
   "outputs": [],
   "source": [
    "df_ground_truth['question_vec'] = pd.Series(questions_vec)"
   ]
  },
  {
   "cell_type": "code",
   "execution_count": 30,
   "id": "a638e000-6fbe-471d-b878-86db7093d53d",
   "metadata": {},
   "outputs": [
    {
     "data": {
      "text/html": [
       "<div>\n",
       "<style scoped>\n",
       "    .dataframe tbody tr th:only-of-type {\n",
       "        vertical-align: middle;\n",
       "    }\n",
       "\n",
       "    .dataframe tbody tr th {\n",
       "        vertical-align: top;\n",
       "    }\n",
       "\n",
       "    .dataframe thead th {\n",
       "        text-align: right;\n",
       "    }\n",
       "</style>\n",
       "<table border=\"1\" class=\"dataframe\">\n",
       "  <thead>\n",
       "    <tr style=\"text-align: right;\">\n",
       "      <th></th>\n",
       "      <th>doc_id</th>\n",
       "      <th>question</th>\n",
       "      <th>question_vec</th>\n",
       "    </tr>\n",
       "  </thead>\n",
       "  <tbody>\n",
       "    <tr>\n",
       "      <th>0</th>\n",
       "      <td>08e49f1028_1</td>\n",
       "      <td>What is the primary characteristic of Infrastr...</td>\n",
       "      <td>[-0.0061842897, -0.026708089, -0.009343912, -0...</td>\n",
       "    </tr>\n",
       "    <tr>\n",
       "      <th>1</th>\n",
       "      <td>08e49f1028_1</td>\n",
       "      <td>How much control does a customer have over clo...</td>\n",
       "      <td>[0.06669134, -0.040444482, -0.10285918, 0.0190...</td>\n",
       "    </tr>\n",
       "    <tr>\n",
       "      <th>2</th>\n",
       "      <td>08e49f1028_1</td>\n",
       "      <td>What type of cloud service provides the maximu...</td>\n",
       "      <td>[0.054696202, -0.057140283, -0.03228103, 0.005...</td>\n",
       "    </tr>\n",
       "    <tr>\n",
       "      <th>3</th>\n",
       "      <td>08e49f1028_1</td>\n",
       "      <td>In the context of IaaS, what does 'customer co...</td>\n",
       "      <td>[-0.03537042, -0.004027559, -0.078389645, 0.03...</td>\n",
       "    </tr>\n",
       "    <tr>\n",
       "      <th>4</th>\n",
       "      <td>08e49f1028_1</td>\n",
       "      <td>Which cloud service model allows users to mana...</td>\n",
       "      <td>[0.049779054, -0.10544806, -0.04841407, -0.025...</td>\n",
       "    </tr>\n",
       "  </tbody>\n",
       "</table>\n",
       "</div>"
      ],
      "text/plain": [
       "         doc_id                                           question  \\\n",
       "0  08e49f1028_1  What is the primary characteristic of Infrastr...   \n",
       "1  08e49f1028_1  How much control does a customer have over clo...   \n",
       "2  08e49f1028_1  What type of cloud service provides the maximu...   \n",
       "3  08e49f1028_1  In the context of IaaS, what does 'customer co...   \n",
       "4  08e49f1028_1  Which cloud service model allows users to mana...   \n",
       "\n",
       "                                        question_vec  \n",
       "0  [-0.0061842897, -0.026708089, -0.009343912, -0...  \n",
       "1  [0.06669134, -0.040444482, -0.10285918, 0.0190...  \n",
       "2  [0.054696202, -0.057140283, -0.03228103, 0.005...  \n",
       "3  [-0.03537042, -0.004027559, -0.078389645, 0.03...  \n",
       "4  [0.049779054, -0.10544806, -0.04841407, -0.025...  "
      ]
     },
     "execution_count": 30,
     "metadata": {},
     "output_type": "execute_result"
    }
   ],
   "source": [
    "df_ground_truth.head()"
   ]
  },
  {
   "cell_type": "markdown",
   "id": "93f737e8-c01d-4f38-b22e-2ec1ad01bac7",
   "metadata": {},
   "source": [
    "### Save ground truth data as Pickle file"
   ]
  },
  {
   "cell_type": "code",
   "execution_count": 31,
   "id": "66545b71-a224-46c6-a21a-6110e59fd008",
   "metadata": {},
   "outputs": [],
   "source": [
    "ground_truth_file = 'ground-truth-data.pkl'"
   ]
  },
  {
   "cell_type": "code",
   "execution_count": 32,
   "id": "fd6fdef7-c666-478c-826e-8206aa4160e5",
   "metadata": {},
   "outputs": [],
   "source": [
    "df_ground_truth.to_pickle(f'{folder}{ground_truth_file}')"
   ]
  }
 ],
 "metadata": {
  "kernelspec": {
   "display_name": "Python 3 (ipykernel)",
   "language": "python",
   "name": "python3"
  },
  "language_info": {
   "codemirror_mode": {
    "name": "ipython",
    "version": 3
   },
   "file_extension": ".py",
   "mimetype": "text/x-python",
   "name": "python",
   "nbconvert_exporter": "python",
   "pygments_lexer": "ipython3",
   "version": "3.12.3"
  }
 },
 "nbformat": 4,
 "nbformat_minor": 5
}
