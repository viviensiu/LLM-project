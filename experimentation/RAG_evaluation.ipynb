{
 "cells": [
  {
   "cell_type": "markdown",
   "id": "30e69652-66f7-498d-8c60-16d94e973cdd",
   "metadata": {},
   "source": [
    "# FRIENDLY WARNING\n",
    "## OpenAI API is being called here. Do not rerun if you're not planning to use any of your OpenAI credits!"
   ]
  },
  {
   "cell_type": "markdown",
   "id": "c1d44a7d-7280-4dcc-b7ae-035321959ca2",
   "metadata": {},
   "source": [
    "# RAG Evaluation\n",
    "\n",
    "This notebook aims to evaluate the LLM models' performance in the RAG process to decide on the best LLM model to be used for this project. \n",
    "\n",
    "There would be 3 criterias of evaluation:\n",
    "* **Quality evaluation** using cosine similarity to evaluate how similar the responses are compared to ground truth data. \n",
    "* **Latency evaluation** to look into the speed (turnaround time) of LLM responses.\n",
    "* **Tokens usage and cost evaluation** to look into the cost efficiency of each model.\n",
    "\n",
    "Due to cost and time constraints, only 2 LLM models would be evaluated:\n",
    "* GPT-4o-mini\n",
    "* GPT 3.5-turbo"
   ]
  },
  {
   "cell_type": "markdown",
   "id": "09579908-e517-49b9-a5a2-c84cce7743c9",
   "metadata": {},
   "source": [
    "## Process\n",
    "\n",
    "* Setup RAG flow.\n",
    "* For each question in ground truth data, generate a response from GPT-4o-mini and GPT 3.5-turbo separately.\n",
    "* Save the responses, latency and tokens used from each LLM model.\n",
    "* Compute cosine similarity for each pair of ground truth response-LLM response for each LLM model.\n",
    "* For each evaluation criteria (quality, latency and cost), perform statistical analysis on the observations.\n",
    "* Conclude the best model for this project."
   ]
  },
  {
   "cell_type": "markdown",
   "id": "a59b63a7-2c7f-49ac-a9c1-8864d9485c44",
   "metadata": {},
   "source": [
    "## Setup RAG \n",
    "\n",
    "**Retrieval**\n",
    "* Setup Elasticsearch Index with data.\n",
    "* Elasticsearch retrieval using hybrid search to retrieve relevant context from index above.\n",
    "\n",
    "**Augment**\n",
    "* Setup LLM prompt.\n",
    "* Augment the prompt using retrieved context from Elasticsearch.\n",
    "\n",
    "**Generation**\n",
    "* Setup the LLM object (OpenAI, Open source).\n",
    "* LLM object generates response using augmented prompt."
   ]
  },
  {
   "cell_type": "code",
   "execution_count": 1,
   "id": "ff6343c1-3f41-4317-a278-1721fc870441",
   "metadata": {},
   "outputs": [],
   "source": [
    "import pickle\n",
    "import pandas as pd\n",
    "import json\n",
    "import os\n",
    "import time\n",
    "import seaborn as sns\n",
    "import matplotlib.pyplot as plt\n",
    "import numpy as np\n",
    "\n",
    "from itertools import cycle\n",
    "from openai import OpenAI\n",
    "from tqdm.auto import tqdm\n",
    "from dotenv import load_dotenv\n",
    "from sentence_transformers import SentenceTransformer\n",
    "from elasticsearch import Elasticsearch"
   ]
  },
  {
   "cell_type": "markdown",
   "id": "accacb35-8762-40bf-9c3c-319ca4b77c51",
   "metadata": {},
   "source": [
    "### Setup Retrieval: Setup Elasticsearch Index with data\n",
    "\n",
    "Reindexing data in case anyone is running this notebook standalone (not following the project flow)"
   ]
  },
  {
   "cell_type": "code",
   "execution_count": 2,
   "id": "f81c83ad-f966-4668-94bc-0e42568f4ce6",
   "metadata": {},
   "outputs": [],
   "source": [
    "folder = \"../data/\"\n",
    "documents_file = \"az900_notes_with_vectors.pkl\""
   ]
  },
  {
   "cell_type": "code",
   "execution_count": 3,
   "id": "0eaa7814-22ef-4234-9a06-079205a4c875",
   "metadata": {},
   "outputs": [],
   "source": [
    "df = pd.read_pickle(f\"{folder}{documents_file}\").set_index(\"doc_id\")"
   ]
  },
  {
   "cell_type": "code",
   "execution_count": 4,
   "id": "27d98dbc-8cbb-435b-ad8e-675ffef0b98d",
   "metadata": {},
   "outputs": [
    {
     "name": "stderr",
     "output_type": "stream",
     "text": [
      "/Users/viviensiew/.local/share/virtualenvs/LLM-project-84bUGCVP/lib/python3.12/site-packages/transformers/tokenization_utils_base.py:1601: FutureWarning: `clean_up_tokenization_spaces` was not set. It will be set to `True` by default. This behavior will be depracted in transformers v4.45, and will be then set to `False` by default. For more details check this issue: https://github.com/huggingface/transformers/issues/31884\n",
      "  warnings.warn(\n"
     ]
    }
   ],
   "source": [
    "model_name = 'sentence-transformers/all-MiniLM-L12-v2'\n",
    "embed_model = SentenceTransformer(model_name)\n",
    "vec_dim = embed_model.get_sentence_embedding_dimension()"
   ]
  },
  {
   "cell_type": "code",
   "execution_count": 5,
   "id": "b27040d3-9a45-4bb5-a18e-7da9740a43ba",
   "metadata": {},
   "outputs": [],
   "source": [
    "def infer_es_mapping(df, vec_dim):\n",
    "    '''\n",
    "    Accepts a pandas dataframe and vector embedding dimension and generates elasticsearch index mapping properties dynamically.\n",
    "    Index is keyword type.\n",
    "    Fields end with \"_vec\" are dense vector types, while others are text types.\n",
    "    '''\n",
    "    similarity = 'cosine'    \n",
    "    es_mapping = {}\n",
    "\n",
    "    if type(df.index) == pd.Index :\n",
    "        es_mapping[df.index.name] = {'type': 'keyword'}\n",
    "        \n",
    "    # for col, dtype in df.dtypes.iteritems():\n",
    "    for col in df.columns:\n",
    "        if col.endswith(\"_vec\"):\n",
    "            es_mapping[col] = {'type': 'dense_vector', 'dims': vec_dim, 'index': True, 'similarity':similarity}\n",
    "        else:\n",
    "            es_mapping[col] = {'type': 'text'}\n",
    "    return es_mapping\n",
    "\n",
    "es_mapping_properties = infer_es_mapping(df, vec_dim)"
   ]
  },
  {
   "cell_type": "code",
   "execution_count": 6,
   "id": "b64b8573-340f-45f6-883d-e2b3563750c9",
   "metadata": {},
   "outputs": [],
   "source": [
    "es_client = Elasticsearch('http://localhost:9200') \n",
    "\n",
    "def create_es_index(es_mapping_properties, index_name):\n",
    "    index_settings = {\n",
    "        \"settings\": {\n",
    "            \"number_of_shards\": 1,\n",
    "            \"number_of_replicas\": 0\n",
    "        },\n",
    "        \"mappings\": {\n",
    "            \"properties\": es_mapping_properties\n",
    "        }\n",
    "    }\n",
    "\n",
    "    es_client.indices.delete(index=index_name, ignore_unavailable=True)\n",
    "    es_client.indices.create(index=index_name, body=index_settings)\n",
    "\n",
    "es_index_name = \"az900_course_notes\"\n",
    "create_es_index(es_mapping_properties, es_index_name)"
   ]
  },
  {
   "cell_type": "code",
   "execution_count": 7,
   "id": "7feac06a-2a39-4add-a097-93bafb07f0ff",
   "metadata": {},
   "outputs": [
    {
     "data": {
      "application/vnd.jupyter.widget-view+json": {
       "model_id": "e3d7b54d8c8b443b8748caa1d73687d5",
       "version_major": 2,
       "version_minor": 0
      },
      "text/plain": [
       "  0%|          | 0/385 [00:00<?, ?it/s]"
      ]
     },
     "metadata": {},
     "output_type": "display_data"
    }
   ],
   "source": [
    "documents = pd.read_pickle(f\"{folder}{documents_file}\").to_dict(orient=\"records\")\n",
    "for doc in tqdm(documents):\n",
    "    es_client.index(index=es_index_name, document=doc)"
   ]
  },
  {
   "cell_type": "markdown",
   "id": "4587ac16-ff58-4835-8f65-197d52ee4217",
   "metadata": {},
   "source": [
    "### Setup Elasticsearch retrieval using hybrid search\n",
    "\n",
    "To retrieve relevant context. "
   ]
  },
  {
   "cell_type": "code",
   "execution_count": 8,
   "id": "4c1aef1a-adbf-46ad-8b43-51fb3e806e7c",
   "metadata": {},
   "outputs": [],
   "source": [
    "def retrieve(question, question_vec, index_name=es_index_name, boost=0.05):\n",
    "    keyword_query = {\"query\": question,\n",
    "                    \"fields\": [\"header\", \"subheader\", \"doc_text\"],\n",
    "                    \"type\": \"best_fields\",\n",
    "                    \"boost\": boost,\n",
    "                    }\n",
    "\n",
    "    vector_query = {\"query\": {\"match_all\": {}},\n",
    "                    \"script\": {\n",
    "                                \"source\": \"\"\"\n",
    "                                    0.2 * cosineSimilarity(params.query_vector, 'header_vec') + \n",
    "                                    0.2 * cosineSimilarity(params.query_vector, 'subheader_vec') + \n",
    "                                    0.6 * cosineSimilarity(params.query_vector, 'doc_text_vec') + 1\n",
    "                                \"\"\",\n",
    "                                \"params\": {\"query_vector\": question_vec}\n",
    "                            }\n",
    "                   }\n",
    "    \n",
    "    hybrid_query = {\n",
    "        \"bool\": {\n",
    "            \"must\": [{\"multi_match\": keyword_query},\n",
    "                     {\"script_score\": vector_query}\n",
    "                    ]\n",
    "            },\n",
    "        }\n",
    "\n",
    "    search_query = {\n",
    "        \"query\": hybrid_query,\n",
    "        \"size\": 5,\n",
    "        \"_source\": ['doc_id', 'header', 'subheader', 'document', 'doc_text']\n",
    "    }\n",
    "\n",
    "    es_results = es_client.search(\n",
    "        index=index_name,\n",
    "        body=search_query\n",
    "    )\n",
    "    \n",
    "    result_docs = []\n",
    "    \n",
    "    for hit in es_results['hits']['hits']:\n",
    "        result_docs.append(hit['_source'])\n",
    "\n",
    "    return result_docs"
   ]
  },
  {
   "cell_type": "markdown",
   "id": "bcb1721e-f37d-48ca-ad02-872bf3005691",
   "metadata": {},
   "source": [
    "### Setup Augment \n",
    "\n",
    "Create LLM prompt template to be augmented with retrieved context from Elasticsearch."
   ]
  },
  {
   "cell_type": "code",
   "execution_count": 9,
   "id": "15110f2d-62e5-474c-8340-515e906a25b6",
   "metadata": {},
   "outputs": [],
   "source": [
    "def augment(question, search_results):\n",
    "    '''\n",
    "    Accepts a question and search results\n",
    "    Returns a prompt augmented with question and context generated from search results\n",
    "    '''\n",
    "    prompt_template = \"\"\"\n",
    "You're a friendly course instructor helping students to understand topics in the Azure Fundamentals AZ-900 course. Answer the QUESTION based on the CONTEXT in a user-friendly way.\n",
    "Use only the information from the CONTEXT to answer the QUESTION. \n",
    "\n",
    "QUESTION: {question}\n",
    "\n",
    "CONTEXT: \n",
    "{context}\n",
    "\"\"\".strip()\n",
    "\n",
    "    context = \"\"\n",
    "    \n",
    "    for doc in search_results:\n",
    "        context = context + f\"Topic: {doc['header']}\\nSub-topic: {doc['subheader']}\\nNotes: {doc['doc_text']}\\n\\n\"\n",
    "    \n",
    "    prompt = prompt_template.format(question=question, context=context).strip()\n",
    "    return prompt"
   ]
  },
  {
   "cell_type": "markdown",
   "id": "3e203a2a-3b07-428d-b209-d86b13612955",
   "metadata": {},
   "source": [
    "### Setup Generate using OpenAI client\n",
    "\n",
    "You will need setup a `.env` file with your own OpenAI API key to rerun RAG evaluation. \n",
    "\n",
    "Sample `.env` file for this project:\n",
    "```\n",
    "OPENAI_API_KEY=your API key here\n",
    "```"
   ]
  },
  {
   "cell_type": "code",
   "execution_count": 10,
   "id": "cf80764e-0865-4aa4-960b-7799aab07710",
   "metadata": {},
   "outputs": [],
   "source": [
    "load_dotenv()\n",
    "os.environ[\"OPENAI_API_KEY\"] = os.getenv(\"OPENAI_API_KEY\") "
   ]
  },
  {
   "cell_type": "code",
   "execution_count": 11,
   "id": "f9405177-8426-4a31-8043-c46664dbdae9",
   "metadata": {},
   "outputs": [],
   "source": [
    "client = OpenAI()\n",
    "\n",
    "def generate(prompt, model='gpt-4o-mini'):\n",
    "    '''\n",
    "    Accepts a prompt and (optional) an OpenAI chat API model of choice\n",
    "    Returns an LLM response, tokens usage info, and total time for generating response.\n",
    "    '''\n",
    "    start_time = time.time()\n",
    "    response = client.chat.completions.create(\n",
    "        model=model,\n",
    "        messages=[{\"role\": \"user\", \"content\": prompt}]\n",
    "    )\n",
    "    latency = time.time() - start_time\n",
    "    return response.choices[0].message.content, response.usage, latency"
   ]
  },
  {
   "cell_type": "markdown",
   "id": "62a66821-0c67-417b-9e83-036adab5101c",
   "metadata": {},
   "source": [
    "### Setup RAG flow"
   ]
  },
  {
   "cell_type": "code",
   "execution_count": 12,
   "id": "50a62364-c212-4c84-bc93-dc43ee173907",
   "metadata": {},
   "outputs": [],
   "source": [
    "def rag(query, model):\n",
    "    search_results = retrieve(query['question'], query['question_vec'])\n",
    "    # for doc in search_results:\n",
    "    #     print(doc)\n",
    "    prompt = augment(query['question'], search_results)\n",
    "    response, usage, latency = generate(prompt, model)\n",
    "    return response, usage, latency"
   ]
  },
  {
   "cell_type": "markdown",
   "id": "4906a97a-23e6-494b-a92c-2f2576d95f2d",
   "metadata": {},
   "source": [
    "### Load ground truth data\n",
    "\n",
    "Generate unique sequence to identify the 5 questions per document."
   ]
  },
  {
   "cell_type": "code",
   "execution_count": 13,
   "id": "936c1c48-5536-4100-93c1-678ba37b77ee",
   "metadata": {},
   "outputs": [],
   "source": [
    "ground_truth_file = \"ground-truth-data.pkl\"\n",
    "df_truth = pd.read_pickle(f\"{folder}{ground_truth_file}\")"
   ]
  },
  {
   "cell_type": "code",
   "execution_count": 14,
   "id": "75331f2d-2d24-41aa-a8e5-d86546605da2",
   "metadata": {},
   "outputs": [
    {
     "data": {
      "text/html": [
       "<div>\n",
       "<style scoped>\n",
       "    .dataframe tbody tr th:only-of-type {\n",
       "        vertical-align: middle;\n",
       "    }\n",
       "\n",
       "    .dataframe tbody tr th {\n",
       "        vertical-align: top;\n",
       "    }\n",
       "\n",
       "    .dataframe thead th {\n",
       "        text-align: right;\n",
       "    }\n",
       "</style>\n",
       "<table border=\"1\" class=\"dataframe\">\n",
       "  <thead>\n",
       "    <tr style=\"text-align: right;\">\n",
       "      <th></th>\n",
       "      <th>doc_id</th>\n",
       "      <th>question</th>\n",
       "      <th>question_vec</th>\n",
       "      <th>idx</th>\n",
       "    </tr>\n",
       "  </thead>\n",
       "  <tbody>\n",
       "    <tr>\n",
       "      <th>0</th>\n",
       "      <td>08e49f1028_1</td>\n",
       "      <td>What is the primary characteristic of Infrastr...</td>\n",
       "      <td>[-0.0061842897, -0.026708089, -0.009343912, -0...</td>\n",
       "      <td>08e49f1028_1_1</td>\n",
       "    </tr>\n",
       "    <tr>\n",
       "      <th>1</th>\n",
       "      <td>08e49f1028_1</td>\n",
       "      <td>How much control does a customer have over clo...</td>\n",
       "      <td>[0.06669134, -0.040444482, -0.10285918, 0.0190...</td>\n",
       "      <td>08e49f1028_1_2</td>\n",
       "    </tr>\n",
       "    <tr>\n",
       "      <th>2</th>\n",
       "      <td>08e49f1028_1</td>\n",
       "      <td>What type of cloud service provides the maximu...</td>\n",
       "      <td>[0.054696202, -0.057140283, -0.03228103, 0.005...</td>\n",
       "      <td>08e49f1028_1_3</td>\n",
       "    </tr>\n",
       "    <tr>\n",
       "      <th>3</th>\n",
       "      <td>08e49f1028_1</td>\n",
       "      <td>In the context of IaaS, what does 'customer co...</td>\n",
       "      <td>[-0.03537042, -0.004027559, -0.078389645, 0.03...</td>\n",
       "      <td>08e49f1028_1_4</td>\n",
       "    </tr>\n",
       "    <tr>\n",
       "      <th>4</th>\n",
       "      <td>08e49f1028_1</td>\n",
       "      <td>Which cloud service model allows users to mana...</td>\n",
       "      <td>[0.049779054, -0.10544806, -0.04841407, -0.025...</td>\n",
       "      <td>08e49f1028_1_5</td>\n",
       "    </tr>\n",
       "    <tr>\n",
       "      <th>...</th>\n",
       "      <td>...</td>\n",
       "      <td>...</td>\n",
       "      <td>...</td>\n",
       "      <td>...</td>\n",
       "    </tr>\n",
       "    <tr>\n",
       "      <th>1920</th>\n",
       "      <td>a407052ee6_26</td>\n",
       "      <td>What features and tools can be used for govern...</td>\n",
       "      <td>[0.05051794, 0.001501831, -0.0082640555, -0.00...</td>\n",
       "      <td>a407052ee6_26_1</td>\n",
       "    </tr>\n",
       "    <tr>\n",
       "      <th>1921</th>\n",
       "      <td>a407052ee6_26</td>\n",
       "      <td>How can Azure tools help keep resources in com...</td>\n",
       "      <td>[-0.010703981, 0.03538625, -0.056508645, 0.004...</td>\n",
       "      <td>a407052ee6_26_2</td>\n",
       "    </tr>\n",
       "    <tr>\n",
       "      <th>1922</th>\n",
       "      <td>a407052ee6_26</td>\n",
       "      <td>What role does governance play in managing an ...</td>\n",
       "      <td>[0.05046291, 0.040069252, 0.008615176, -0.0438...</td>\n",
       "      <td>a407052ee6_26_3</td>\n",
       "    </tr>\n",
       "    <tr>\n",
       "      <th>1923</th>\n",
       "      <td>a407052ee6_26</td>\n",
       "      <td>Which regulatory requirements can be addressed...</td>\n",
       "      <td>[0.0348005, 0.05349125, -0.025269153, -0.04674...</td>\n",
       "      <td>a407052ee6_26_4</td>\n",
       "    </tr>\n",
       "    <tr>\n",
       "      <th>1924</th>\n",
       "      <td>a407052ee6_26</td>\n",
       "      <td>Can you name some specific tools that assist i...</td>\n",
       "      <td>[-0.014536401, 0.014272042, -0.08379118, 0.039...</td>\n",
       "      <td>a407052ee6_26_5</td>\n",
       "    </tr>\n",
       "  </tbody>\n",
       "</table>\n",
       "<p>1925 rows × 4 columns</p>\n",
       "</div>"
      ],
      "text/plain": [
       "             doc_id                                           question  \\\n",
       "0      08e49f1028_1  What is the primary characteristic of Infrastr...   \n",
       "1      08e49f1028_1  How much control does a customer have over clo...   \n",
       "2      08e49f1028_1  What type of cloud service provides the maximu...   \n",
       "3      08e49f1028_1  In the context of IaaS, what does 'customer co...   \n",
       "4      08e49f1028_1  Which cloud service model allows users to mana...   \n",
       "...             ...                                                ...   \n",
       "1920  a407052ee6_26  What features and tools can be used for govern...   \n",
       "1921  a407052ee6_26  How can Azure tools help keep resources in com...   \n",
       "1922  a407052ee6_26  What role does governance play in managing an ...   \n",
       "1923  a407052ee6_26  Which regulatory requirements can be addressed...   \n",
       "1924  a407052ee6_26  Can you name some specific tools that assist i...   \n",
       "\n",
       "                                           question_vec              idx  \n",
       "0     [-0.0061842897, -0.026708089, -0.009343912, -0...   08e49f1028_1_1  \n",
       "1     [0.06669134, -0.040444482, -0.10285918, 0.0190...   08e49f1028_1_2  \n",
       "2     [0.054696202, -0.057140283, -0.03228103, 0.005...   08e49f1028_1_3  \n",
       "3     [-0.03537042, -0.004027559, -0.078389645, 0.03...   08e49f1028_1_4  \n",
       "4     [0.049779054, -0.10544806, -0.04841407, -0.025...   08e49f1028_1_5  \n",
       "...                                                 ...              ...  \n",
       "1920  [0.05051794, 0.001501831, -0.0082640555, -0.00...  a407052ee6_26_1  \n",
       "1921  [-0.010703981, 0.03538625, -0.056508645, 0.004...  a407052ee6_26_2  \n",
       "1922  [0.05046291, 0.040069252, 0.008615176, -0.0438...  a407052ee6_26_3  \n",
       "1923  [0.0348005, 0.05349125, -0.025269153, -0.04674...  a407052ee6_26_4  \n",
       "1924  [-0.014536401, 0.014272042, -0.08379118, 0.039...  a407052ee6_26_5  \n",
       "\n",
       "[1925 rows x 4 columns]"
      ]
     },
     "execution_count": 14,
     "metadata": {},
     "output_type": "execute_result"
    }
   ],
   "source": [
    "# Unique sequence: doc_id append with running number from 1 to 5, since each doc has 5 questions.\n",
    "df_truth[\"idx\"] = [f\"{doc_id}_{i}\" for i,doc_id in zip(cycle([1,2,3,4,5]), df_truth[\"doc_id\"].tolist())]\n",
    "df_truth"
   ]
  },
  {
   "cell_type": "code",
   "execution_count": 15,
   "id": "8f815b7b-c881-4fba-9695-d77795b68917",
   "metadata": {},
   "outputs": [],
   "source": [
    "ground_truth = df_truth.to_dict(orient=\"records\")"
   ]
  },
  {
   "cell_type": "markdown",
   "id": "a1ae4408-5f7f-4918-b130-8db0e97697b8",
   "metadata": {},
   "source": [
    "**Test rag flow with a single ground truth record**"
   ]
  },
  {
   "cell_type": "code",
   "execution_count": 16,
   "id": "a1d413ab-4f34-4481-80da-dc6e5c65d152",
   "metadata": {},
   "outputs": [
    {
     "data": {
      "text/plain": [
       "CompletionUsage(completion_tokens=181, prompt_tokens=448, total_tokens=629)"
      ]
     },
     "execution_count": 16,
     "metadata": {},
     "output_type": "execute_result"
    }
   ],
   "source": [
    "test_record = ground_truth[18]\n",
    "test_response, test_usage, test_latency = rag(test_record, model='gpt-4o-mini')\n",
    "test_usage"
   ]
  },
  {
   "cell_type": "code",
   "execution_count": 17,
   "id": "5127ad08-56e8-4ed7-88d3-5f7f75c782f0",
   "metadata": {},
   "outputs": [
    {
     "name": "stdout",
     "output_type": "stream",
     "text": [
      "Prompt tokens used: 448,\n",
      "Response tokens: 181,\n",
      "Latency: 2.272 seconds.\n",
      "QUESTION: How does IaaS differ from other cloud service models in terms of customer responsibility?\n",
      "RESPONSE: In the context of the Azure Fundamentals AZ-900 course, IaaS (Infrastructure as a Service) differs from other cloud service models like PaaS (Platform as a Service) and SaaS (Software as a Service) mainly in terms of customer responsibility. \n",
      "\n",
      "With IaaS, the customer has the largest share of responsibility in the shared responsibility model. This means that when you choose IaaS, you are responsible for managing the operating systems, network controls, applications, and identity and infrastructure. On the other hand, with PaaS and SaaS, the service provider (like Microsoft) takes on more responsibility for managing these aspects, while the customer's role is reduced.\n",
      "\n",
      "In summary, if you opt for IaaS, you take on more of the management and control of the cloud resources, unlike PaaS and SaaS where the provider handles a significant portion of that responsibility.\n"
     ]
    }
   ],
   "source": [
    "print(f\"Prompt tokens used: {test_usage.prompt_tokens},\\nResponse tokens: {test_usage.completion_tokens},\\nLatency: {test_latency:.3f} seconds.\")\n",
    "print(f\"QUESTION: {test_record['question']}\")\n",
    "print(f\"RESPONSE: {test_response}\")"
   ]
  },
  {
   "cell_type": "markdown",
   "id": "2c4e7221-4796-4bc8-91e1-00b32a5666cf",
   "metadata": {},
   "source": [
    "### Execute RAG\n",
    "\n",
    "Execute RAG and save the LLM responses for evaluation step"
   ]
  },
  {
   "cell_type": "code",
   "execution_count": 21,
   "id": "a6df3e8d-ddaf-445f-9518-2aeffa5665a3",
   "metadata": {},
   "outputs": [
    {
     "data": {
      "application/vnd.jupyter.widget-view+json": {
       "model_id": "e8c4b69d035f4ea59c3e97df74a60882",
       "version_major": 2,
       "version_minor": 0
      },
      "text/plain": [
       "  0%|          | 0/385 [00:00<?, ?it/s]"
      ]
     },
     "metadata": {},
     "output_type": "display_data"
    }
   ],
   "source": [
    "original_doc = {}\n",
    "for d in tqdm(documents):\n",
    "    original_doc[d[\"doc_id\"]] = {\"header\": d[\"header\"],\n",
    "                                \"subheader\": d[\"subheader\"],\n",
    "                                \"doc_text\": d['doc_text']}"
   ]
  },
  {
   "cell_type": "code",
   "execution_count": 25,
   "id": "c7b94cd7-31d2-4823-8959-12eb49fc5b0a",
   "metadata": {},
   "outputs": [],
   "source": [
    "responses = {}"
   ]
  },
  {
   "cell_type": "code",
   "execution_count": 27,
   "id": "4ed428a8-6a6b-45e5-8726-4baf395abab6",
   "metadata": {},
   "outputs": [
    {
     "data": {
      "application/vnd.jupyter.widget-view+json": {
       "model_id": "d9c31fd8296e45d499a3fec163e5a3c4",
       "version_major": 2,
       "version_minor": 0
      },
      "text/plain": [
       "  0%|          | 0/1925 [00:00<?, ?it/s]"
      ]
     },
     "metadata": {},
     "output_type": "display_data"
    }
   ],
   "source": [
    "for doc in tqdm(ground_truth):\n",
    "    if doc[\"idx\"] in responses:\n",
    "        continue\n",
    "    response_4o, usage_4o, latency_4o = rag(doc, model='gpt-4o-mini')\n",
    "    response_35, usage_35, latency_35 = rag(doc, model='gpt-3.5-turbo')\n",
    "    \n",
    "    responses[doc[\"idx\"]] = {\n",
    "        \"doc_id\": doc[\"doc_id\"],\n",
    "        \"question\": doc[\"question\"],\n",
    "        \"doc_text\": original_doc[doc[\"doc_id\"]][\"doc_text\"],\n",
    "        \"response_4o\": response_4o,\n",
    "        \"usage_4o\": usage_4o,\n",
    "        \"latency_4o\": latency_4o,\n",
    "        \"response_35\": response_35,\n",
    "        \"usage_35\": usage_35,\n",
    "        \"latency_35\": latency_35,\n",
    "    }\n",
    "    "
   ]
  },
  {
   "cell_type": "markdown",
   "id": "88e71d51-6fdf-46f2-ace4-8d6181866ee7",
   "metadata": {},
   "source": [
    "### Backup RAG responses \n",
    "\n",
    "Save a copy of the generated responses, latency and token info."
   ]
  },
  {
   "cell_type": "code",
   "execution_count": 35,
   "id": "b675fb4f-ba6f-486f-9749-514a3635c65e",
   "metadata": {},
   "outputs": [],
   "source": [
    "answers = []\n",
    "\n",
    "for k,v in responses.items():\n",
    "    rcd = {\n",
    "        \"idx\": k,\n",
    "        \"doc_id\": v[\"doc_id\"],\n",
    "        \"question\": v[\"question\"],\n",
    "        \"doc_text\": v[\"doc_text\"],\n",
    "        \"response_4o\": v[\"response_4o\"],\n",
    "        \"prompt_tokens_4o\": v[\"usage_4o\"].prompt_tokens,\n",
    "        \"completion_tokens_4o\": v[\"usage_4o\"].completion_tokens,\n",
    "        \"latency_4o\": v[\"latency_4o\"],\n",
    "        \"response_35\": v[\"response_35\"],\n",
    "        \"prompt_tokens_35\": v[\"usage_35\"].prompt_tokens,\n",
    "        \"completion_tokens_35\": v[\"usage_35\"].completion_tokens,\n",
    "        \"latency_35\": v[\"latency_35\"],\n",
    "    }\n",
    "    answers.append(rcd)"
   ]
  },
  {
   "cell_type": "code",
   "execution_count": 37,
   "id": "5ea03690-914c-4e14-849c-5e6dd632675c",
   "metadata": {},
   "outputs": [],
   "source": [
    "df_responses = pd.DataFrame(answers)"
   ]
  },
  {
   "cell_type": "code",
   "execution_count": 39,
   "id": "83920680-13b2-4c35-a6be-c8306dadd15b",
   "metadata": {},
   "outputs": [
    {
     "data": {
      "text/html": [
       "<div>\n",
       "<style scoped>\n",
       "    .dataframe tbody tr th:only-of-type {\n",
       "        vertical-align: middle;\n",
       "    }\n",
       "\n",
       "    .dataframe tbody tr th {\n",
       "        vertical-align: top;\n",
       "    }\n",
       "\n",
       "    .dataframe thead th {\n",
       "        text-align: right;\n",
       "    }\n",
       "</style>\n",
       "<table border=\"1\" class=\"dataframe\">\n",
       "  <thead>\n",
       "    <tr style=\"text-align: right;\">\n",
       "      <th></th>\n",
       "      <th>idx</th>\n",
       "      <th>doc_id</th>\n",
       "      <th>question</th>\n",
       "      <th>doc_text</th>\n",
       "      <th>response_4o</th>\n",
       "      <th>prompt_tokens_4o</th>\n",
       "      <th>completion_tokens_4o</th>\n",
       "      <th>latency_4o</th>\n",
       "      <th>response_35</th>\n",
       "      <th>prompt_tokens_35</th>\n",
       "      <th>completion_tokens_35</th>\n",
       "      <th>latency_35</th>\n",
       "    </tr>\n",
       "  </thead>\n",
       "  <tbody>\n",
       "    <tr>\n",
       "      <th>0</th>\n",
       "      <td>08e49f1028_1_1</td>\n",
       "      <td>08e49f1028_1</td>\n",
       "      <td>What is the primary characteristic of Infrastr...</td>\n",
       "      <td>Customer has maximum control of cloud resources.</td>\n",
       "      <td>The primary characteristic of Infrastructure a...</td>\n",
       "      <td>352</td>\n",
       "      <td>96</td>\n",
       "      <td>1.221932</td>\n",
       "      <td>The primary characteristic of Infrastructure a...</td>\n",
       "      <td>341</td>\n",
       "      <td>63</td>\n",
       "      <td>1.415287</td>\n",
       "    </tr>\n",
       "    <tr>\n",
       "      <th>1</th>\n",
       "      <td>08e49f1028_1_2</td>\n",
       "      <td>08e49f1028_1</td>\n",
       "      <td>How much control does a customer have over clo...</td>\n",
       "      <td>Customer has maximum control of cloud resources.</td>\n",
       "      <td>In an Infrastructure as a Service (IaaS) model...</td>\n",
       "      <td>435</td>\n",
       "      <td>102</td>\n",
       "      <td>2.132323</td>\n",
       "      <td>In Infrastructure as a Service (IaaS), a custo...</td>\n",
       "      <td>425</td>\n",
       "      <td>38</td>\n",
       "      <td>1.006800</td>\n",
       "    </tr>\n",
       "    <tr>\n",
       "      <th>2</th>\n",
       "      <td>08e49f1028_1_3</td>\n",
       "      <td>08e49f1028_1</td>\n",
       "      <td>What type of cloud service provides the maximu...</td>\n",
       "      <td>Customer has maximum control of cloud resources.</td>\n",
       "      <td>The type of cloud service that provides the ma...</td>\n",
       "      <td>387</td>\n",
       "      <td>64</td>\n",
       "      <td>0.902814</td>\n",
       "      <td>Infrastructure as a Service (IaaS) provides th...</td>\n",
       "      <td>382</td>\n",
       "      <td>18</td>\n",
       "      <td>0.800158</td>\n",
       "    </tr>\n",
       "    <tr>\n",
       "      <th>3</th>\n",
       "      <td>08e49f1028_1_4</td>\n",
       "      <td>08e49f1028_1</td>\n",
       "      <td>In the context of IaaS, what does 'customer co...</td>\n",
       "      <td>Customer has maximum control of cloud resources.</td>\n",
       "      <td>In the context of IaaS (Infrastructure as a Se...</td>\n",
       "      <td>400</td>\n",
       "      <td>109</td>\n",
       "      <td>1.929542</td>\n",
       "      <td>'Customer control' in the context of IaaS refe...</td>\n",
       "      <td>385</td>\n",
       "      <td>39</td>\n",
       "      <td>1.005422</td>\n",
       "    </tr>\n",
       "    <tr>\n",
       "      <th>4</th>\n",
       "      <td>08e49f1028_1_5</td>\n",
       "      <td>08e49f1028_1</td>\n",
       "      <td>Which cloud service model allows users to mana...</td>\n",
       "      <td>Customer has maximum control of cloud resources.</td>\n",
       "      <td>The cloud service model that allows users to m...</td>\n",
       "      <td>463</td>\n",
       "      <td>64</td>\n",
       "      <td>1.006383</td>\n",
       "      <td>The cloud service model that allows users to m...</td>\n",
       "      <td>462</td>\n",
       "      <td>51</td>\n",
       "      <td>1.111021</td>\n",
       "    </tr>\n",
       "  </tbody>\n",
       "</table>\n",
       "</div>"
      ],
      "text/plain": [
       "              idx        doc_id  \\\n",
       "0  08e49f1028_1_1  08e49f1028_1   \n",
       "1  08e49f1028_1_2  08e49f1028_1   \n",
       "2  08e49f1028_1_3  08e49f1028_1   \n",
       "3  08e49f1028_1_4  08e49f1028_1   \n",
       "4  08e49f1028_1_5  08e49f1028_1   \n",
       "\n",
       "                                            question  \\\n",
       "0  What is the primary characteristic of Infrastr...   \n",
       "1  How much control does a customer have over clo...   \n",
       "2  What type of cloud service provides the maximu...   \n",
       "3  In the context of IaaS, what does 'customer co...   \n",
       "4  Which cloud service model allows users to mana...   \n",
       "\n",
       "                                           doc_text  \\\n",
       "0  Customer has maximum control of cloud resources.   \n",
       "1  Customer has maximum control of cloud resources.   \n",
       "2  Customer has maximum control of cloud resources.   \n",
       "3  Customer has maximum control of cloud resources.   \n",
       "4  Customer has maximum control of cloud resources.   \n",
       "\n",
       "                                         response_4o  prompt_tokens_4o  \\\n",
       "0  The primary characteristic of Infrastructure a...               352   \n",
       "1  In an Infrastructure as a Service (IaaS) model...               435   \n",
       "2  The type of cloud service that provides the ma...               387   \n",
       "3  In the context of IaaS (Infrastructure as a Se...               400   \n",
       "4  The cloud service model that allows users to m...               463   \n",
       "\n",
       "   completion_tokens_4o  latency_4o  \\\n",
       "0                    96    1.221932   \n",
       "1                   102    2.132323   \n",
       "2                    64    0.902814   \n",
       "3                   109    1.929542   \n",
       "4                    64    1.006383   \n",
       "\n",
       "                                         response_35  prompt_tokens_35  \\\n",
       "0  The primary characteristic of Infrastructure a...               341   \n",
       "1  In Infrastructure as a Service (IaaS), a custo...               425   \n",
       "2  Infrastructure as a Service (IaaS) provides th...               382   \n",
       "3  'Customer control' in the context of IaaS refe...               385   \n",
       "4  The cloud service model that allows users to m...               462   \n",
       "\n",
       "   completion_tokens_35  latency_35  \n",
       "0                    63    1.415287  \n",
       "1                    38    1.006800  \n",
       "2                    18    0.800158  \n",
       "3                    39    1.005422  \n",
       "4                    51    1.111021  "
      ]
     },
     "execution_count": 39,
     "metadata": {},
     "output_type": "execute_result"
    }
   ],
   "source": [
    "df_responses.head()"
   ]
  },
  {
   "cell_type": "code",
   "execution_count": 41,
   "id": "345251fa-7bbc-443f-945a-a76a6a5a82cb",
   "metadata": {},
   "outputs": [],
   "source": [
    "responses_file = \"RAG_evaluation.pkl\"\n",
    "df_responses.to_pickle(f\"{folder}{responses_file}\")"
   ]
  },
  {
   "cell_type": "markdown",
   "id": "fd83c6fb-c147-4324-bd96-026bab742196",
   "metadata": {},
   "source": [
    "## Setup evaluation\n",
    "\n",
    "* Cosine similarity on all data.\n",
    "* LLM-as-a-judge on 20\\% of randomly sampled data."
   ]
  },
  {
   "cell_type": "markdown",
   "id": "01e68111-6e8c-45cc-b3b5-11dd18bc2e25",
   "metadata": {},
   "source": [
    "### Cosine similarity evaluation\n",
    "\n",
    "We use cosine similarity to measure how similar are the LLM responses to the ground truth information for each question.\n",
    "* First compute the cosine similarity between ground truth text vector and the responses from GPT-4o-mini and GPT-3.5-turbo separately.\n",
    "* Evaluate the responses quality of GPT-4o-mini and GPT-3.5-turbo by looking at their cosine similarity statistics. "
   ]
  },
  {
   "cell_type": "code",
   "execution_count": 42,
   "id": "7ccf65ff-4d56-4d83-8971-4744a1802c19",
   "metadata": {},
   "outputs": [],
   "source": [
    "def compute_cosine_similarity(answer_llm, answer_orig):\n",
    "    \n",
    "    v_llm = embed_model.encode(answer_llm)\n",
    "    v_orig = embed_model.encode(answer_orig)\n",
    "    \n",
    "    return v_llm.dot(v_orig)"
   ]
  },
  {
   "cell_type": "code",
   "execution_count": 43,
   "id": "aee87081-2f12-4f4d-b821-15e9cfb6c52b",
   "metadata": {},
   "outputs": [
    {
     "data": {
      "application/vnd.jupyter.widget-view+json": {
       "model_id": "f1b2c7552fce469291126acffb24326e",
       "version_major": 2,
       "version_minor": 0
      },
      "text/plain": [
       "  0%|          | 0/1925 [00:00<?, ?it/s]"
      ]
     },
     "metadata": {},
     "output_type": "display_data"
    }
   ],
   "source": [
    "similarity_4o = []\n",
    "similarity_35 = []\n",
    "\n",
    "for answer in tqdm(answers):\n",
    "    sim_4o = compute_cosine_similarity(answer[\"response_4o\"], answer[\"doc_text\"])\n",
    "    similarity_4o.append(sim_4o)\n",
    "    sim_35 = compute_cosine_similarity(answer[\"response_35\"], answer[\"doc_text\"])\n",
    "    similarity_35.append(sim_35)"
   ]
  },
  {
   "cell_type": "code",
   "execution_count": 44,
   "id": "fe65e722-d219-4684-b32f-b10167e29c7f",
   "metadata": {},
   "outputs": [],
   "source": [
    "df_responses[\"cosine_4o\"] = similarity_4o\n",
    "df_responses[\"cosine_35\"] = similarity_35"
   ]
  },
  {
   "cell_type": "markdown",
   "id": "a60ddc89-f204-4446-afe5-6c4fef98499a",
   "metadata": {},
   "source": [
    "### Statistics of cosine similarity "
   ]
  },
  {
   "cell_type": "code",
   "execution_count": 47,
   "id": "c9cb6530-b127-4f2e-9477-39cb257afd05",
   "metadata": {},
   "outputs": [
    {
     "data": {
      "text/html": [
       "<div>\n",
       "<style scoped>\n",
       "    .dataframe tbody tr th:only-of-type {\n",
       "        vertical-align: middle;\n",
       "    }\n",
       "\n",
       "    .dataframe tbody tr th {\n",
       "        vertical-align: top;\n",
       "    }\n",
       "\n",
       "    .dataframe thead th {\n",
       "        text-align: right;\n",
       "    }\n",
       "</style>\n",
       "<table border=\"1\" class=\"dataframe\">\n",
       "  <thead>\n",
       "    <tr style=\"text-align: right;\">\n",
       "      <th></th>\n",
       "      <th>cosine_4o</th>\n",
       "      <th>cosine_35</th>\n",
       "    </tr>\n",
       "  </thead>\n",
       "  <tbody>\n",
       "    <tr>\n",
       "      <th>count</th>\n",
       "      <td>1925.000000</td>\n",
       "      <td>1925.000000</td>\n",
       "    </tr>\n",
       "    <tr>\n",
       "      <th>mean</th>\n",
       "      <td>0.669936</td>\n",
       "      <td>0.671432</td>\n",
       "    </tr>\n",
       "    <tr>\n",
       "      <th>std</th>\n",
       "      <td>0.182144</td>\n",
       "      <td>0.185636</td>\n",
       "    </tr>\n",
       "    <tr>\n",
       "      <th>min</th>\n",
       "      <td>-0.023384</td>\n",
       "      <td>-0.024003</td>\n",
       "    </tr>\n",
       "    <tr>\n",
       "      <th>25%</th>\n",
       "      <td>0.575839</td>\n",
       "      <td>0.570880</td>\n",
       "    </tr>\n",
       "    <tr>\n",
       "      <th>50%</th>\n",
       "      <td>0.704709</td>\n",
       "      <td>0.701098</td>\n",
       "    </tr>\n",
       "    <tr>\n",
       "      <th>75%</th>\n",
       "      <td>0.808311</td>\n",
       "      <td>0.810210</td>\n",
       "    </tr>\n",
       "    <tr>\n",
       "      <th>max</th>\n",
       "      <td>0.987723</td>\n",
       "      <td>0.992235</td>\n",
       "    </tr>\n",
       "  </tbody>\n",
       "</table>\n",
       "</div>"
      ],
      "text/plain": [
       "         cosine_4o    cosine_35\n",
       "count  1925.000000  1925.000000\n",
       "mean      0.669936     0.671432\n",
       "std       0.182144     0.185636\n",
       "min      -0.023384    -0.024003\n",
       "25%       0.575839     0.570880\n",
       "50%       0.704709     0.701098\n",
       "75%       0.808311     0.810210\n",
       "max       0.987723     0.992235"
      ]
     },
     "execution_count": 47,
     "metadata": {},
     "output_type": "execute_result"
    }
   ],
   "source": [
    "df_responses[[\"cosine_4o\", \"cosine_35\"]].describe()"
   ]
  },
  {
   "cell_type": "markdown",
   "id": "0fbfc355-61f9-4392-baa6-5047be4391de",
   "metadata": {},
   "source": [
    "### Cosine Similarity evaluation based on statistical analysis\n",
    "\n",
    "* The values of cosine similarity ranges from -1 to 1, where values closer to -1 indicates higher dissimilarity and values closer to 1 indicates higher similarity.\n",
    "* Hence, responses with cosine similarity closer to 1 indicate better response quality.\n",
    "\n",
    "With this in mind,\n",
    "* On average, GPT-3.5-turbo is slightly more similar to the ground truth info than GPT-4o-mini (0.671432 v.s. 0.669936)\n",
    "* However, looking at the 50\\% percentile, GPT-4o-mini's top 50\\% responses scored at least 0.704709 compared to GPT-3.5-turbo lower similarity value at 0.701098.\n",
    "* The best response from GPT-3.5-turbo scored 0.992235 while GPT-4o-mini scored 0.987723.\n",
    "\n",
    "Therefore based on the statistics alone, **there is no clear winner** of which LLM is the better LLM for this use case."
   ]
  },
  {
   "cell_type": "code",
   "execution_count": 54,
   "id": "b4d3f420-0187-4749-8ca8-5795e499c689",
   "metadata": {},
   "outputs": [
    {
     "name": "stderr",
     "output_type": "stream",
     "text": [
      "/var/folders/k5/_r7c2p9n4l7c8mj8yt2hzxgr0000gn/T/ipykernel_1797/2611738501.py:1: UserWarning: \n",
      "\n",
      "`distplot` is a deprecated function and will be removed in seaborn v0.14.0.\n",
      "\n",
      "Please adapt your code to use either `displot` (a figure-level function with\n",
      "similar flexibility) or `histplot` (an axes-level function for histograms).\n",
      "\n",
      "For a guide to updating your code to use the new functions, please see\n",
      "https://gist.github.com/mwaskom/de44147ed2974457ad6372750bbe5751\n",
      "\n",
      "  sns.distplot(df_responses['cosine_4o'], label='GPT-4o-mini')\n",
      "/var/folders/k5/_r7c2p9n4l7c8mj8yt2hzxgr0000gn/T/ipykernel_1797/2611738501.py:2: UserWarning: \n",
      "\n",
      "`distplot` is a deprecated function and will be removed in seaborn v0.14.0.\n",
      "\n",
      "Please adapt your code to use either `displot` (a figure-level function with\n",
      "similar flexibility) or `histplot` (an axes-level function for histograms).\n",
      "\n",
      "For a guide to updating your code to use the new functions, please see\n",
      "https://gist.github.com/mwaskom/de44147ed2974457ad6372750bbe5751\n",
      "\n",
      "  sns.distplot(df_responses['cosine_35'], label='GPT-3.5-turbo')\n"
     ]
    },
    {
     "data": {
      "image/png": "[encoded data removed]",
      "text/plain": [
       "<Figure size 640x480 with 1 Axes>"
      ]
     },
     "metadata": {},
     "output_type": "display_data"
    }
   ],
   "source": [
    "sns.distplot(df_responses['cosine_4o'], label='GPT-4o-mini')\n",
    "sns.distplot(df_responses['cosine_35'], label='GPT-3.5-turbo')\n",
    "plt.title(\"Cosine similarity distribution comparison\")\n",
    "plt.xlabel(\"Cosine Similarity\")\n",
    "plt.legend()\n",
    "plt.show()"
   ]
  },
  {
   "cell_type": "markdown",
   "id": "2fc78956-d1c3-4b23-ae54-61fbbceb9767",
   "metadata": {},
   "source": [
    "Backup responses with cosine similarity computation"
   ]
  },
  {
   "cell_type": "code",
   "execution_count": 52,
   "id": "3cd43d4e-4e48-4c5c-8d0a-f838432a57f5",
   "metadata": {},
   "outputs": [],
   "source": [
    "df_responses.to_pickle(f\"{folder}{responses_file}\")"
   ]
  },
  {
   "cell_type": "markdown",
   "id": "2deb4ba9-8da0-41f5-a3e6-b249e4a8c776",
   "metadata": {},
   "source": [
    "### Latency evaluation\n",
    "\n",
    "Latency describes the time it takes for an LLM to generate a response back. Ideally a lower latency is preferred as this indicates faster performance and turnaround to the users."
   ]
  },
  {
   "cell_type": "code",
   "execution_count": 53,
   "id": "f3509418-63af-4360-a4b5-95749f4a690b",
   "metadata": {},
   "outputs": [
    {
     "data": {
      "text/html": [
       "<div>\n",
       "<style scoped>\n",
       "    .dataframe tbody tr th:only-of-type {\n",
       "        vertical-align: middle;\n",
       "    }\n",
       "\n",
       "    .dataframe tbody tr th {\n",
       "        vertical-align: top;\n",
       "    }\n",
       "\n",
       "    .dataframe thead th {\n",
       "        text-align: right;\n",
       "    }\n",
       "</style>\n",
       "<table border=\"1\" class=\"dataframe\">\n",
       "  <thead>\n",
       "    <tr style=\"text-align: right;\">\n",
       "      <th></th>\n",
       "      <th>latency_4o</th>\n",
       "      <th>latency_35</th>\n",
       "    </tr>\n",
       "  </thead>\n",
       "  <tbody>\n",
       "    <tr>\n",
       "      <th>count</th>\n",
       "      <td>1925.000000</td>\n",
       "      <td>1925.000000</td>\n",
       "    </tr>\n",
       "    <tr>\n",
       "      <th>mean</th>\n",
       "      <td>1.781027</td>\n",
       "      <td>1.265978</td>\n",
       "    </tr>\n",
       "    <tr>\n",
       "      <th>std</th>\n",
       "      <td>1.403048</td>\n",
       "      <td>0.491002</td>\n",
       "    </tr>\n",
       "    <tr>\n",
       "      <th>min</th>\n",
       "      <td>0.506272</td>\n",
       "      <td>0.469113</td>\n",
       "    </tr>\n",
       "    <tr>\n",
       "      <th>25%</th>\n",
       "      <td>1.090739</td>\n",
       "      <td>0.932937</td>\n",
       "    </tr>\n",
       "    <tr>\n",
       "      <th>50%</th>\n",
       "      <td>1.485518</td>\n",
       "      <td>1.197740</td>\n",
       "    </tr>\n",
       "    <tr>\n",
       "      <th>75%</th>\n",
       "      <td>2.052013</td>\n",
       "      <td>1.492924</td>\n",
       "    </tr>\n",
       "    <tr>\n",
       "      <th>max</th>\n",
       "      <td>33.871729</td>\n",
       "      <td>5.834809</td>\n",
       "    </tr>\n",
       "  </tbody>\n",
       "</table>\n",
       "</div>"
      ],
      "text/plain": [
       "        latency_4o   latency_35\n",
       "count  1925.000000  1925.000000\n",
       "mean      1.781027     1.265978\n",
       "std       1.403048     0.491002\n",
       "min       0.506272     0.469113\n",
       "25%       1.090739     0.932937\n",
       "50%       1.485518     1.197740\n",
       "75%       2.052013     1.492924\n",
       "max      33.871729     5.834809"
      ]
     },
     "execution_count": 53,
     "metadata": {},
     "output_type": "execute_result"
    }
   ],
   "source": [
    "df_responses[[\"latency_4o\", \"latency_35\"]].describe()"
   ]
  },
  {
   "cell_type": "markdown",
   "id": "09a1e315-bdd9-466f-85fd-32e6afae8497",
   "metadata": {},
   "source": [
    "### Latency evaluation based on statistical analysis\n",
    "\n",
    "With lower latency to look for in mind,\n",
    "* Overall, **GPT-3.5-turbo has a lower latency** than GPT-4o-mini.\n",
    "* On average, GPT-3.5-turbo is slightly faster than GPT-4o-mini (1.265978 seconds v.s. 1.781027 seconds)\n",
    "* In addition, looking at the standard deviation, GPT-3.5-turbo's latency is less varied, giving an impression of a more stable prediction in terms of response time range.\n",
    "* When it comes to outliers, one of GPT-4o-mini's responses recorded a high latency of 33.871729 seconds, giving an impression of potentially erratic response time.\n",
    "\n",
    "Therefore based on the statistics alone, **GPT-3.5-turbo is the clear winner** here."
   ]
  },
  {
   "cell_type": "code",
   "execution_count": 56,
   "id": "0a184aee-5b77-4079-af2a-66d2fc63aafd",
   "metadata": {},
   "outputs": [
    {
     "name": "stderr",
     "output_type": "stream",
     "text": [
      "/var/folders/k5/_r7c2p9n4l7c8mj8yt2hzxgr0000gn/T/ipykernel_1797/4062356435.py:1: UserWarning: \n",
      "\n",
      "`distplot` is a deprecated function and will be removed in seaborn v0.14.0.\n",
      "\n",
      "Please adapt your code to use either `displot` (a figure-level function with\n",
      "similar flexibility) or `histplot` (an axes-level function for histograms).\n",
      "\n",
      "For a guide to updating your code to use the new functions, please see\n",
      "https://gist.github.com/mwaskom/de44147ed2974457ad6372750bbe5751\n",
      "\n",
      "  sns.distplot(df_responses['latency_4o'], label='GPT-4o-mini')\n",
      "/var/folders/k5/_r7c2p9n4l7c8mj8yt2hzxgr0000gn/T/ipykernel_1797/4062356435.py:2: UserWarning: \n",
      "\n",
      "`distplot` is a deprecated function and will be removed in seaborn v0.14.0.\n",
      "\n",
      "Please adapt your code to use either `displot` (a figure-level function with\n",
      "similar flexibility) or `histplot` (an axes-level function for histograms).\n",
      "\n",
      "For a guide to updating your code to use the new functions, please see\n",
      "https://gist.github.com/mwaskom/de44147ed2974457ad6372750bbe5751\n",
      "\n",
      "  sns.distplot(df_responses['latency_35'], label='GPT-3.5-turbo')\n"
     ]
    },
    {
     "data": {
      "image/png": "[encoded data removed]",
      "text/plain": [
       "<Figure size 640x480 with 1 Axes>"
      ]
     },
     "metadata": {},
     "output_type": "display_data"
    }
   ],
   "source": [
    "sns.distplot(df_responses['latency_4o'], label='GPT-4o-mini')\n",
    "sns.distplot(df_responses['latency_35'], label='GPT-3.5-turbo')\n",
    "plt.title(\"RAG LLM latency\")\n",
    "plt.xlabel(\"Latency in seconds\")\n",
    "plt.legend()\n",
    "plt.show()"
   ]
  },
  {
   "cell_type": "markdown",
   "id": "153339fe-be7a-4e45-89fb-8f924e4a1f43",
   "metadata": {},
   "source": [
    "### Tokens usage evaluation\n",
    "\n",
    "Tokens usage affect the overall costs of an LLM and its ROI (Return on investment) in some use cases. \n",
    "\n",
    "However, bear in mind that the LLM provider charges are different and can have a greater bearing on costs compared to tokens usage:\n",
    "| LLM model | Input | Output |\n",
    "|-----------|-------|--------|\n",
    "| GPT-3.5-turbo| \\$0.50 / 1M tokens | \\$1.50 / 1M tokens |\n",
    "| GPT-4o-mini | \\$0.150 / 1M tokens | \\$0.600 / 1M tokens |"
   ]
  },
  {
   "cell_type": "code",
   "execution_count": 59,
   "id": "199c2bcb-5b98-497e-886c-92bcf1091393",
   "metadata": {},
   "outputs": [
    {
     "data": {
      "text/html": [
       "<div>\n",
       "<style scoped>\n",
       "    .dataframe tbody tr th:only-of-type {\n",
       "        vertical-align: middle;\n",
       "    }\n",
       "\n",
       "    .dataframe tbody tr th {\n",
       "        vertical-align: top;\n",
       "    }\n",
       "\n",
       "    .dataframe thead th {\n",
       "        text-align: right;\n",
       "    }\n",
       "</style>\n",
       "<table border=\"1\" class=\"dataframe\">\n",
       "  <thead>\n",
       "    <tr style=\"text-align: right;\">\n",
       "      <th></th>\n",
       "      <th>prompt_tokens_4o</th>\n",
       "      <th>prompt_tokens_35</th>\n",
       "    </tr>\n",
       "  </thead>\n",
       "  <tbody>\n",
       "    <tr>\n",
       "      <th>count</th>\n",
       "      <td>1925.000000</td>\n",
       "      <td>1925.000000</td>\n",
       "    </tr>\n",
       "    <tr>\n",
       "      <th>mean</th>\n",
       "      <td>509.268052</td>\n",
       "      <td>512.423896</td>\n",
       "    </tr>\n",
       "    <tr>\n",
       "      <th>std</th>\n",
       "      <td>136.614169</td>\n",
       "      <td>137.694070</td>\n",
       "    </tr>\n",
       "    <tr>\n",
       "      <th>min</th>\n",
       "      <td>261.000000</td>\n",
       "      <td>259.000000</td>\n",
       "    </tr>\n",
       "    <tr>\n",
       "      <th>25%</th>\n",
       "      <td>409.000000</td>\n",
       "      <td>411.000000</td>\n",
       "    </tr>\n",
       "    <tr>\n",
       "      <th>50%</th>\n",
       "      <td>479.000000</td>\n",
       "      <td>482.000000</td>\n",
       "    </tr>\n",
       "    <tr>\n",
       "      <th>75%</th>\n",
       "      <td>589.000000</td>\n",
       "      <td>592.000000</td>\n",
       "    </tr>\n",
       "    <tr>\n",
       "      <th>max</th>\n",
       "      <td>1075.000000</td>\n",
       "      <td>1081.000000</td>\n",
       "    </tr>\n",
       "  </tbody>\n",
       "</table>\n",
       "</div>"
      ],
      "text/plain": [
       "       prompt_tokens_4o  prompt_tokens_35\n",
       "count       1925.000000       1925.000000\n",
       "mean         509.268052        512.423896\n",
       "std          136.614169        137.694070\n",
       "min          261.000000        259.000000\n",
       "25%          409.000000        411.000000\n",
       "50%          479.000000        482.000000\n",
       "75%          589.000000        592.000000\n",
       "max         1075.000000       1081.000000"
      ]
     },
     "execution_count": 59,
     "metadata": {},
     "output_type": "execute_result"
    }
   ],
   "source": [
    "df_responses[[\"prompt_tokens_4o\", \"prompt_tokens_35\"]].describe()"
   ]
  },
  {
   "cell_type": "code",
   "execution_count": 60,
   "id": "f65a2bf4-b8c1-49bd-8560-928c92d68335",
   "metadata": {},
   "outputs": [
    {
     "data": {
      "text/html": [
       "<div>\n",
       "<style scoped>\n",
       "    .dataframe tbody tr th:only-of-type {\n",
       "        vertical-align: middle;\n",
       "    }\n",
       "\n",
       "    .dataframe tbody tr th {\n",
       "        vertical-align: top;\n",
       "    }\n",
       "\n",
       "    .dataframe thead th {\n",
       "        text-align: right;\n",
       "    }\n",
       "</style>\n",
       "<table border=\"1\" class=\"dataframe\">\n",
       "  <thead>\n",
       "    <tr style=\"text-align: right;\">\n",
       "      <th></th>\n",
       "      <th>completion_tokens_4o</th>\n",
       "      <th>completion_tokens_35</th>\n",
       "    </tr>\n",
       "  </thead>\n",
       "  <tbody>\n",
       "    <tr>\n",
       "      <th>count</th>\n",
       "      <td>1925.000000</td>\n",
       "      <td>1925.000000</td>\n",
       "    </tr>\n",
       "    <tr>\n",
       "      <th>mean</th>\n",
       "      <td>122.144935</td>\n",
       "      <td>54.723636</td>\n",
       "    </tr>\n",
       "    <tr>\n",
       "      <th>std</th>\n",
       "      <td>64.308252</td>\n",
       "      <td>27.995591</td>\n",
       "    </tr>\n",
       "    <tr>\n",
       "      <th>min</th>\n",
       "      <td>15.000000</td>\n",
       "      <td>7.000000</td>\n",
       "    </tr>\n",
       "    <tr>\n",
       "      <th>25%</th>\n",
       "      <td>73.000000</td>\n",
       "      <td>34.000000</td>\n",
       "    </tr>\n",
       "    <tr>\n",
       "      <th>50%</th>\n",
       "      <td>107.000000</td>\n",
       "      <td>52.000000</td>\n",
       "    </tr>\n",
       "    <tr>\n",
       "      <th>75%</th>\n",
       "      <td>160.000000</td>\n",
       "      <td>71.000000</td>\n",
       "    </tr>\n",
       "    <tr>\n",
       "      <th>max</th>\n",
       "      <td>420.000000</td>\n",
       "      <td>214.000000</td>\n",
       "    </tr>\n",
       "  </tbody>\n",
       "</table>\n",
       "</div>"
      ],
      "text/plain": [
       "       completion_tokens_4o  completion_tokens_35\n",
       "count           1925.000000           1925.000000\n",
       "mean             122.144935             54.723636\n",
       "std               64.308252             27.995591\n",
       "min               15.000000              7.000000\n",
       "25%               73.000000             34.000000\n",
       "50%              107.000000             52.000000\n",
       "75%              160.000000             71.000000\n",
       "max              420.000000            214.000000"
      ]
     },
     "execution_count": 60,
     "metadata": {},
     "output_type": "execute_result"
    }
   ],
   "source": [
    "df_responses[[\"completion_tokens_4o\", \"completion_tokens_35\"]].describe()"
   ]
  },
  {
   "cell_type": "markdown",
   "id": "1140ab94-3cad-4b87-9158-2f427ab5dacb",
   "metadata": {},
   "source": [
    "### Tokens usage evaluation based on statistical analysis\n",
    "\n",
    "The prompt tokens largely depend on how the prompts and contexts are being formatted before sending to LLM. Hence the prompt tokens statictics are closely similar since both GPT-4o-mini and GPT-3.5-turbo receives same augmented prompts.\n",
    "\n",
    "However for completion tokens which are based on LLM response, it's worth to note that:\n",
    "* **GPT-4o-mini clearly uses more tokens compared to GPT-3.5-turbo**, a little more than double the number of tokens to be exact.\n",
    "\n",
    "Costs wise, GPT-4o-mini costs 60\\% less than GPT-3.5-turbo for completion tokens and 70\\% less than GPT-3.5-turbo for prompt tokens.\n",
    "\n",
    "These are the cost for the RAG execution on ground truth data:\n",
    "* GPT-4o-mini: \\$0.28\n",
    "* GPT-3.5-turbo: \\$0.64\n",
    "\n",
    "Hence, in terms of cost effectiveness, **GPT-4o-mini is clearly the winner**."
   ]
  },
  {
   "cell_type": "markdown",
   "id": "01ecae0a-231d-4df5-ab8a-24fa5c595a37",
   "metadata": {},
   "source": [
    "## Conclusion\n",
    "\n",
    "* The **responses' quality** from GPT-3.5-turbo and GPT-4o-mini are **similar**.\n",
    "* In terms of **response speed**, **GPT-3.5-turbo** is slightly faster by $\\approx 0.5$ seconds on average compared to GPT-4o-mini.\n",
    "* **Cost-wise**, **GPT-4o-mini** is more than 50\\% less than GPT-3.5-turbo.\n",
    "\n",
    "Ultimately the decision on the best LLM model for this project depends largely on the use case.\n",
    "\n",
    "As this project is to build an **Azure Foundation study buddy**, hence it needs to consider that:\n",
    "* This application is more for short-term usage since users would only study this course for a few months.\n",
    "* Most people look for cost-effective study solutions whenever possible and would be less willing to spend twice as much if a slightly slower but cheaper solution is available.\n",
    "\n",
    "Hence, the final decision for the **best model** would be **GPT-4o-mini**. "
   ]
  }
 ],
 "metadata": {
  "kernelspec": {
   "display_name": "Python 3 (ipykernel)",
   "language": "python",
   "name": "python3"
  },
  "language_info": {
   "codemirror_mode": {
    "name": "ipython",
    "version": 3
   },
   "file_extension": ".py",
   "mimetype": "text/x-python",
   "name": "python",
   "nbconvert_exporter": "python",
   "pygments_lexer": "ipython3",
   "version": "3.12.3"
  }
 },
 "nbformat": 4,
 "nbformat_minor": 5
}
