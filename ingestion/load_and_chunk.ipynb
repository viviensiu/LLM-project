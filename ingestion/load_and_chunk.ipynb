{
 "cells": [
  {
   "cell_type": "markdown",
   "id": "31e53deb-8a78-4242-83b5-e79895c1f339",
   "metadata": {},
   "source": [
    "# Load and Chunk \n",
    "\n",
    "This notebook focuses on the project data ingestion pipeline: loading and chunking. Here is the pipeline flow:\n",
    "\n",
    "1) **Load**: Load raw data from README files.\n",
    "2) **Chunk**: Data is chunked at bullet points' level.\n",
    "3) **Tokenize**: No tokenization is done for this dataset.\n",
    "4) **Embed**: Data is embedded using Sentence Transformer."
   ]
  },
  {
   "cell_type": "code",
   "execution_count": 1,
   "id": "54a896d8-707c-417f-aaf7-04591702a948",
   "metadata": {},
   "outputs": [],
   "source": [
    "import re\n",
    "import pandas as pd\n",
    "import os\n",
    "import hashlib\n",
    "import json\n",
    "from tqdm.auto import tqdm"
   ]
  },
  {
   "cell_type": "markdown",
   "id": "9e7ce705-5029-41f1-8e50-16c424a92079",
   "metadata": {},
   "source": [
    "### Load all README files in data folder"
   ]
  },
  {
   "cell_type": "code",
   "execution_count": 2,
   "id": "a2edade1-45a6-49e3-8035-8bbe219eadf0",
   "metadata": {},
   "outputs": [
    {
     "data": {
      "text/plain": [
       "['module_1_3.md',\n",
       " 'module_2_4.md',\n",
       " 'module_3_1.md',\n",
       " 'module_2_1.md',\n",
       " 'module_1_2.md',\n",
       " 'module_3_4.md',\n",
       " 'module_2_2.md',\n",
       " 'module_3_3.md',\n",
       " 'module_1_1.md',\n",
       " 'module_2_3.md',\n",
       " 'module_3_2.md']"
      ]
     },
     "execution_count": 2,
     "metadata": {},
     "output_type": "execute_result"
    }
   ],
   "source": [
    "folder = '../data/'\n",
    "readme_files = [f for f in os.listdir(folder) if f.endswith(\".md\")]\n",
    "readme_files"
   ]
  },
  {
   "cell_type": "markdown",
   "id": "74a7941d-dd67-4dd1-b84c-42517b557127",
   "metadata": {},
   "source": [
    "### Process README files \n",
    "* Chunk data by bullet points. All sub bullet points are appended to the main bullet point.\n",
    "* Create unique document id for each document."
   ]
  },
  {
   "cell_type": "code",
   "execution_count": 3,
   "id": "300c2347-dec2-4bbc-ae8a-188c26368ecf",
   "metadata": {},
   "outputs": [],
   "source": [
    "def remove_bullets(s):\n",
    "    '''\n",
    "    Returns a string with leading bullets (* or -) and leading/trailing whitespaces removed.\n",
    "    '''\n",
    "    return re.sub(r'^\\s{0,5}[\\-\\*]', '', s).strip()"
   ]
  },
  {
   "cell_type": "code",
   "execution_count": 4,
   "id": "630b821d-95fa-4f7d-b5f4-5fee0c4d85be",
   "metadata": {},
   "outputs": [],
   "source": [
    "def new_doc(header, subheader, documents, doc_id):\n",
    "    '''\n",
    "    Returns a document in JSON format \n",
    "    '''\n",
    "    doc = { 'doc_id': doc_id,\n",
    "            'header': header,\n",
    "            'subheader': subheader,\n",
    "            'document': documents,\n",
    "            'doc_text': '\\n'.join(documents)}\n",
    "    return doc"
   ]
  },
  {
   "cell_type": "code",
   "execution_count": 5,
   "id": "c7f006dc-dbd8-4623-a291-89e096f5de04",
   "metadata": {},
   "outputs": [],
   "source": [
    "def get_doc_id(string):\n",
    "    '''\n",
    "    Returns the md5 hash of a given string.\n",
    "    '''\n",
    "    return hashlib.md5(string.encode()).hexdigest()[:10]"
   ]
  },
  {
   "cell_type": "code",
   "execution_count": 6,
   "id": "69cbd61f-d1ba-4c0f-97df-368102b24949",
   "metadata": {},
   "outputs": [],
   "source": [
    "def extract_document(filename):\n",
    "    '''\n",
    "    Extracts the header (starts with ##), subheader (starts with ###), and documents in README file.\n",
    "    Returns a list of documents, where each document is in JSON format.\n",
    "    \n",
    "    JSON format looks like this: {'doc_id': doc_id,\n",
    "                                 'header': header,\n",
    "                                 'subheader': subheader,\n",
    "                                 'documents': list of bullet points\n",
    "                                 }\n",
    "    Each document is a list of a bullet point and if any, its sub bullet points as well.\n",
    "    A header + subheader pair can have one or more documents.\n",
    "    \n",
    "    Parameters\n",
    "    ----------\n",
    "    filename: String\n",
    "            file name of README file.\n",
    "    '''\n",
    "    header = \"\"\n",
    "    subheader = \"\"\n",
    "    docs = []\n",
    "    documents = []\n",
    "\n",
    "    doc_id = get_doc_id(filename)\n",
    "    path = folder + filename\n",
    "    \n",
    "    with open(path) as f:\n",
    "        seq = 0\n",
    "        \n",
    "        for line in f:\n",
    "            if line.strip(): \n",
    "                # get header\n",
    "                if line.startswith(\"## \"):\n",
    "                    header = line.replace(\"##\", \"\").rstrip()\n",
    "\n",
    "                # get subheader\n",
    "                elif line.startswith(\"###\"):\n",
    "                    # Append previous doc to documents if exists \n",
    "                    if docs:\n",
    "                        seq += 1\n",
    "                        doc = new_doc(header, subheader, docs, f'{doc_id}_{seq}')\n",
    "                        documents.append(doc)\n",
    "                    # clear doc\n",
    "                    docs = []                    \n",
    "                    subheader = line.replace(\"###\", \"\").rstrip()\n",
    "                \n",
    "                # Initialise new doc when it's a row of bullet point   \n",
    "                elif line.startswith(\"* \") or line.startswith(\"- \"):\n",
    "                    # Append previous doc to documents if exists\n",
    "                    if docs:\n",
    "                        seq += 1\n",
    "                        doc = new_doc(header, subheader, docs, f'{doc_id}_{seq}')\n",
    "                        documents.append(doc)\n",
    "                    # initialise a new doc and append bullet point to doc\n",
    "                    docs = []            \n",
    "                    docs.append(remove_bullets(line))\n",
    "                    \n",
    "                # Append sub bullet points to doc\n",
    "                elif line.startswith(\"    * \") or line.startswith(\"    - \"):\n",
    "                    docs.append(remove_bullets(line))\n",
    "                \n",
    "                # Bypass image links\n",
    "                elif line.startswith(\"!\"):\n",
    "                    pass\n",
    "                    \n",
    "                # Append plain text to doc\n",
    "                else:\n",
    "                    docs.append(line)\n",
    "        # Append last doc in file to documents \n",
    "        seq += 1\n",
    "        doc = new_doc(header, subheader, docs, f'{doc_id}_{seq}')\n",
    "        documents.append(doc)\n",
    "        return documents\n",
    "            \n",
    "            "
   ]
  },
  {
   "cell_type": "code",
   "execution_count": 7,
   "id": "9a6fd07b-e974-40d4-8e71-9d9223ab7dbd",
   "metadata": {},
   "outputs": [
    {
     "data": {
      "application/vnd.jupyter.widget-view+json": {
       "model_id": "1caffd81fa7847529ab4f04dd5a0847a",
       "version_major": 2,
       "version_minor": 0
      },
      "text/plain": [
       "  0%|          | 0/11 [00:00<?, ?it/s]"
      ]
     },
     "metadata": {},
     "output_type": "display_data"
    }
   ],
   "source": [
    "master_document = []\n",
    "for r in tqdm(readme_files):\n",
    "    master_document += extract_document(folder+r)"
   ]
  },
  {
   "cell_type": "code",
   "execution_count": 8,
   "id": "9ac2cd3e-ac4e-4147-a04a-08003241c744",
   "metadata": {},
   "outputs": [
    {
     "data": {
      "text/plain": [
       "385"
      ]
     },
     "execution_count": 8,
     "metadata": {},
     "output_type": "execute_result"
    }
   ],
   "source": [
    "len(master_document)"
   ]
  },
  {
   "cell_type": "code",
   "execution_count": 9,
   "id": "12ccc634-a5c5-4c56-bbe2-88fd8d5e944a",
   "metadata": {},
   "outputs": [],
   "source": [
    "df = pd.json_normalize(master_document)"
   ]
  },
  {
   "cell_type": "code",
   "execution_count": 10,
   "id": "e115fe34-18fc-4e42-8698-fd5d7359b5c8",
   "metadata": {},
   "outputs": [
    {
     "data": {
      "text/html": [
       "<div>\n",
       "<style scoped>\n",
       "    .dataframe tbody tr th:only-of-type {\n",
       "        vertical-align: middle;\n",
       "    }\n",
       "\n",
       "    .dataframe tbody tr th {\n",
       "        vertical-align: top;\n",
       "    }\n",
       "\n",
       "    .dataframe thead th {\n",
       "        text-align: right;\n",
       "    }\n",
       "</style>\n",
       "<table border=\"1\" class=\"dataframe\">\n",
       "  <thead>\n",
       "    <tr style=\"text-align: right;\">\n",
       "      <th></th>\n",
       "      <th>doc_id</th>\n",
       "      <th>header</th>\n",
       "      <th>subheader</th>\n",
       "      <th>document</th>\n",
       "      <th>doc_text</th>\n",
       "    </tr>\n",
       "  </thead>\n",
       "  <tbody>\n",
       "    <tr>\n",
       "      <th>0</th>\n",
       "      <td>08e49f1028_1</td>\n",
       "      <td>Cloud Concepts: Describe cloud service types</td>\n",
       "      <td>Infrastructure as a service (IaaS)</td>\n",
       "      <td>[Customer has maximum control of cloud resourc...</td>\n",
       "      <td>Customer has maximum control of cloud resources.</td>\n",
       "    </tr>\n",
       "    <tr>\n",
       "      <th>1</th>\n",
       "      <td>08e49f1028_2</td>\n",
       "      <td>Cloud Concepts: Describe cloud service types</td>\n",
       "      <td>Infrastructure as a service (IaaS)</td>\n",
       "      <td>[Customer has largest share of responsibility ...</td>\n",
       "      <td>Customer has largest share of responsibility i...</td>\n",
       "    </tr>\n",
       "    <tr>\n",
       "      <th>2</th>\n",
       "      <td>08e49f1028_3</td>\n",
       "      <td>Cloud Concepts: Describe cloud service types</td>\n",
       "      <td>Infrastructure as a service (IaaS)</td>\n",
       "      <td>[Only the physical resources are controlled by...</td>\n",
       "      <td>Only the physical resources are controlled by ...</td>\n",
       "    </tr>\n",
       "    <tr>\n",
       "      <th>3</th>\n",
       "      <td>08e49f1028_4</td>\n",
       "      <td>Cloud Concepts: Describe cloud service types</td>\n",
       "      <td>Infrastructure as a service (IaaS)</td>\n",
       "      <td>[Customer is responsible for installation and ...</td>\n",
       "      <td>Customer is responsible for installation and c...</td>\n",
       "    </tr>\n",
       "    <tr>\n",
       "      <th>4</th>\n",
       "      <td>08e49f1028_5</td>\n",
       "      <td>Cloud Concepts: Describe cloud service types</td>\n",
       "      <td>Infrastructure as a service (IaaS)</td>\n",
       "      <td>[**Scenarios to use IaaS**:, Lift-and-shift mi...</td>\n",
       "      <td>**Scenarios to use IaaS**:\\nLift-and-shift mig...</td>\n",
       "    </tr>\n",
       "    <tr>\n",
       "      <th>...</th>\n",
       "      <td>...</td>\n",
       "      <td>...</td>\n",
       "      <td>...</td>\n",
       "      <td>...</td>\n",
       "      <td>...</td>\n",
       "    </tr>\n",
       "    <tr>\n",
       "      <th>380</th>\n",
       "      <td>a407052ee6_22</td>\n",
       "      <td>Microsoft Azure Fundamentals: Describe Azure ...</td>\n",
       "      <td>Microsoft Service Trust Portal</td>\n",
       "      <td>[Contains details about Microsoft's implementa...</td>\n",
       "      <td>Contains details about Microsoft's implementat...</td>\n",
       "    </tr>\n",
       "    <tr>\n",
       "      <th>381</th>\n",
       "      <td>a407052ee6_23</td>\n",
       "      <td>Microsoft Azure Fundamentals: Describe Azure ...</td>\n",
       "      <td>Microsoft Service Trust Portal</td>\n",
       "      <td>[To access some of the resources within, you m...</td>\n",
       "      <td>To access some of the resources within, you mu...</td>\n",
       "    </tr>\n",
       "    <tr>\n",
       "      <th>382</th>\n",
       "      <td>a407052ee6_24</td>\n",
       "      <td>Microsoft Azure Fundamentals: Describe Azure ...</td>\n",
       "      <td>Microsoft Service Trust Portal</td>\n",
       "      <td>[The [Service Trust Portal](https://servicetru...</td>\n",
       "      <td>The [Service Trust Portal](https://servicetrus...</td>\n",
       "    </tr>\n",
       "    <tr>\n",
       "      <th>383</th>\n",
       "      <td>a407052ee6_25</td>\n",
       "      <td>Microsoft Azure Fundamentals: Describe Azure ...</td>\n",
       "      <td>Microsoft Service Trust Portal</td>\n",
       "      <td>[**NOTE**: Service Trust Portal reports and do...</td>\n",
       "      <td>**NOTE**: Service Trust Portal reports and doc...</td>\n",
       "    </tr>\n",
       "    <tr>\n",
       "      <th>384</th>\n",
       "      <td>a407052ee6_26</td>\n",
       "      <td>Microsoft Azure Fundamentals: Describe Azure ...</td>\n",
       "      <td>Summary</td>\n",
       "      <td>[In this module, you learned about some of the...</td>\n",
       "      <td>In this module, you learned about some of the ...</td>\n",
       "    </tr>\n",
       "  </tbody>\n",
       "</table>\n",
       "<p>385 rows × 5 columns</p>\n",
       "</div>"
      ],
      "text/plain": [
       "            doc_id                                             header  \\\n",
       "0     08e49f1028_1       Cloud Concepts: Describe cloud service types   \n",
       "1     08e49f1028_2       Cloud Concepts: Describe cloud service types   \n",
       "2     08e49f1028_3       Cloud Concepts: Describe cloud service types   \n",
       "3     08e49f1028_4       Cloud Concepts: Describe cloud service types   \n",
       "4     08e49f1028_5       Cloud Concepts: Describe cloud service types   \n",
       "..             ...                                                ...   \n",
       "380  a407052ee6_22   Microsoft Azure Fundamentals: Describe Azure ...   \n",
       "381  a407052ee6_23   Microsoft Azure Fundamentals: Describe Azure ...   \n",
       "382  a407052ee6_24   Microsoft Azure Fundamentals: Describe Azure ...   \n",
       "383  a407052ee6_25   Microsoft Azure Fundamentals: Describe Azure ...   \n",
       "384  a407052ee6_26   Microsoft Azure Fundamentals: Describe Azure ...   \n",
       "\n",
       "                               subheader  \\\n",
       "0     Infrastructure as a service (IaaS)   \n",
       "1     Infrastructure as a service (IaaS)   \n",
       "2     Infrastructure as a service (IaaS)   \n",
       "3     Infrastructure as a service (IaaS)   \n",
       "4     Infrastructure as a service (IaaS)   \n",
       "..                                   ...   \n",
       "380       Microsoft Service Trust Portal   \n",
       "381       Microsoft Service Trust Portal   \n",
       "382       Microsoft Service Trust Portal   \n",
       "383       Microsoft Service Trust Portal   \n",
       "384                              Summary   \n",
       "\n",
       "                                              document  \\\n",
       "0    [Customer has maximum control of cloud resourc...   \n",
       "1    [Customer has largest share of responsibility ...   \n",
       "2    [Only the physical resources are controlled by...   \n",
       "3    [Customer is responsible for installation and ...   \n",
       "4    [**Scenarios to use IaaS**:, Lift-and-shift mi...   \n",
       "..                                                 ...   \n",
       "380  [Contains details about Microsoft's implementa...   \n",
       "381  [To access some of the resources within, you m...   \n",
       "382  [The [Service Trust Portal](https://servicetru...   \n",
       "383  [**NOTE**: Service Trust Portal reports and do...   \n",
       "384  [In this module, you learned about some of the...   \n",
       "\n",
       "                                              doc_text  \n",
       "0     Customer has maximum control of cloud resources.  \n",
       "1    Customer has largest share of responsibility i...  \n",
       "2    Only the physical resources are controlled by ...  \n",
       "3    Customer is responsible for installation and c...  \n",
       "4    **Scenarios to use IaaS**:\\nLift-and-shift mig...  \n",
       "..                                                 ...  \n",
       "380  Contains details about Microsoft's implementat...  \n",
       "381  To access some of the resources within, you mu...  \n",
       "382  The [Service Trust Portal](https://servicetrus...  \n",
       "383  **NOTE**: Service Trust Portal reports and doc...  \n",
       "384  In this module, you learned about some of the ...  \n",
       "\n",
       "[385 rows x 5 columns]"
      ]
     },
     "execution_count": 10,
     "metadata": {},
     "output_type": "execute_result"
    }
   ],
   "source": [
    "df"
   ]
  },
  {
   "cell_type": "code",
   "execution_count": 11,
   "id": "213bdf0c-01b5-4c26-9dae-f25e1b551192",
   "metadata": {},
   "outputs": [
    {
     "data": {
      "text/plain": [
       "385"
      ]
     },
     "execution_count": 11,
     "metadata": {},
     "output_type": "execute_result"
    }
   ],
   "source": [
    "df.doc_id.nunique()"
   ]
  },
  {
   "cell_type": "code",
   "execution_count": 12,
   "id": "1ac27bdd-f90c-42e9-9da9-a814c346e159",
   "metadata": {},
   "outputs": [
    {
     "name": "stdout",
     "output_type": "stream",
     "text": [
      "<class 'pandas.core.frame.DataFrame'>\n",
      "RangeIndex: 385 entries, 0 to 384\n",
      "Data columns (total 5 columns):\n",
      " #   Column     Non-Null Count  Dtype \n",
      "---  ------     --------------  ----- \n",
      " 0   doc_id     385 non-null    object\n",
      " 1   header     385 non-null    object\n",
      " 2   subheader  385 non-null    object\n",
      " 3   document   385 non-null    object\n",
      " 4   doc_text   385 non-null    object\n",
      "dtypes: object(5)\n",
      "memory usage: 15.2+ KB\n"
     ]
    }
   ],
   "source": [
    "df.info()"
   ]
  },
  {
   "cell_type": "markdown",
   "id": "d56668b5-f5b1-4559-bd04-1212132bdb38",
   "metadata": {},
   "source": [
    "### Export to JSON file"
   ]
  },
  {
   "cell_type": "code",
   "execution_count": 13,
   "id": "8b2407a2-b6c6-4628-896b-b1c8f721e790",
   "metadata": {},
   "outputs": [],
   "source": [
    "output_file = \"readme_notes_with_ids.json\""
   ]
  },
  {
   "cell_type": "code",
   "execution_count": 14,
   "id": "64b1934f-99db-44e2-9725-dcf704fb8c78",
   "metadata": {},
   "outputs": [],
   "source": [
    "with open(f'{folder}{output_file}', 'w') as w:\n",
    "    json.dump(master_document, w)"
   ]
  },
  {
   "cell_type": "code",
   "execution_count": null,
   "id": "b2ca0c8b-4ab9-4835-99a1-950e67791c0f",
   "metadata": {},
   "outputs": [],
   "source": []
  }
 ],
 "metadata": {
  "kernelspec": {
   "display_name": "Python 3 (ipykernel)",
   "language": "python",
   "name": "python3"
  },
  "language_info": {
   "codemirror_mode": {
    "name": "ipython",
    "version": 3
   },
   "file_extension": ".py",
   "mimetype": "text/x-python",
   "name": "python",
   "nbconvert_exporter": "python",
   "pygments_lexer": "ipython3",
   "version": "3.12.3"
  }
 },
 "nbformat": 4,
 "nbformat_minor": 5
}
