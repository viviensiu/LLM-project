{
 "cells": [
  {
   "cell_type": "markdown",
   "id": "3b67e413-b27e-433e-b8ba-89a9b24a101f",
   "metadata": {},
   "source": [
    "# Embed\n",
    "This notebook focuses on the project data ingestion pipeline: Embedding. Here is the pipeline flow:\n",
    "\n",
    "1) **Load**: Load raw data from README files.\n",
    "2) **Chunk**: Data is chunked at bullet points' level.\n",
    "3) <s>**Tokenize**: No tokenization is done for this dataset.</s>\n",
    "4) **Embed**: Data is embedded using Sentence Transformer.\n",
    "5) **Export**: Data is indexed into Elastic Search index."
   ]
  },
  {
   "cell_type": "code",
   "execution_count": 1,
   "id": "76e2aa5d-df51-403e-9445-67345672d508",
   "metadata": {},
   "outputs": [],
   "source": [
    "from sentence_transformers import SentenceTransformer\n",
    "import pandas as pd\n",
    "import json\n",
    "import os\n",
    "from tqdm.auto import tqdm"
   ]
  },
  {
   "cell_type": "code",
   "execution_count": 2,
   "id": "aa1c52b3-19f6-413d-b01b-a3eedfd7b09f",
   "metadata": {},
   "outputs": [],
   "source": [
    "folder = '../data/'\n",
    "json_file = f\"{folder}readme_notes_with_ids.json\"\n",
    "\n",
    "with open(json_file) as f:\n",
    "    docs = json.loads(f.readline())"
   ]
  },
  {
   "cell_type": "code",
   "execution_count": 3,
   "id": "05d0c0e7-73e3-42d7-a780-7a9123f317a6",
   "metadata": {},
   "outputs": [
    {
     "name": "stderr",
     "output_type": "stream",
     "text": [
      "/Users/viviensiew/.local/share/virtualenvs/LLM-project-84bUGCVP/lib/python3.12/site-packages/transformers/tokenization_utils_base.py:1601: FutureWarning: `clean_up_tokenization_spaces` was not set. It will be set to `True` by default. This behavior will be depracted in transformers v4.45, and will be then set to `False` by default. For more details check this issue: https://github.com/huggingface/transformers/issues/31884\n",
      "  warnings.warn(\n"
     ]
    }
   ],
   "source": [
    "model_name = 'sentence-transformers/all-MiniLM-L12-v2'\n",
    "model = SentenceTransformer(model_name)"
   ]
  },
  {
   "cell_type": "code",
   "execution_count": 4,
   "id": "12c57c53-0961-4655-96ab-eb63eeebc62c",
   "metadata": {},
   "outputs": [
    {
     "data": {
      "application/vnd.jupyter.widget-view+json": {
       "model_id": "633a67af20ed4fc18f3120fbe96bbd23",
       "version_major": 2,
       "version_minor": 0
      },
      "text/plain": [
       "  0%|          | 0/385 [00:00<?, ?it/s]"
      ]
     },
     "metadata": {},
     "output_type": "display_data"
    }
   ],
   "source": [
    "for doc in tqdm(docs):\n",
    "    doc['header_vec'] = model.encode(doc['header'])\n",
    "    doc['subheader_vec'] = model.encode(doc['subheader'])\n",
    "    doc['doc_text_vec'] = model.encode(doc['doc_text'])"
   ]
  },
  {
   "cell_type": "code",
   "execution_count": 5,
   "id": "74e17c68-eb64-4b4c-98c7-b231fd51e2bf",
   "metadata": {},
   "outputs": [],
   "source": [
    "df = pd.json_normalize(docs)"
   ]
  },
  {
   "cell_type": "code",
   "execution_count": 6,
   "id": "75c8618b-e4d3-40df-858e-600b9ac7f383",
   "metadata": {},
   "outputs": [
    {
     "data": {
      "text/html": [
       "<div>\n",
       "<style scoped>\n",
       "    .dataframe tbody tr th:only-of-type {\n",
       "        vertical-align: middle;\n",
       "    }\n",
       "\n",
       "    .dataframe tbody tr th {\n",
       "        vertical-align: top;\n",
       "    }\n",
       "\n",
       "    .dataframe thead th {\n",
       "        text-align: right;\n",
       "    }\n",
       "</style>\n",
       "<table border=\"1\" class=\"dataframe\">\n",
       "  <thead>\n",
       "    <tr style=\"text-align: right;\">\n",
       "      <th></th>\n",
       "      <th>doc_id</th>\n",
       "      <th>header</th>\n",
       "      <th>subheader</th>\n",
       "      <th>document</th>\n",
       "      <th>doc_text</th>\n",
       "      <th>header_vec</th>\n",
       "      <th>subheader_vec</th>\n",
       "      <th>doc_text_vec</th>\n",
       "    </tr>\n",
       "  </thead>\n",
       "  <tbody>\n",
       "    <tr>\n",
       "      <th>0</th>\n",
       "      <td>08e49f1028_1</td>\n",
       "      <td>Cloud Concepts: Describe cloud service types</td>\n",
       "      <td>Infrastructure as a service (IaaS)</td>\n",
       "      <td>[Customer has maximum control of cloud resourc...</td>\n",
       "      <td>Customer has maximum control of cloud resources.</td>\n",
       "      <td>[0.09377581, -0.09716232, -0.029859366, -0.000...</td>\n",
       "      <td>[-0.028358031, -0.050796855, 0.0057167998, -0....</td>\n",
       "      <td>[0.075708605, -0.053222008, -0.05039908, 0.006...</td>\n",
       "    </tr>\n",
       "    <tr>\n",
       "      <th>1</th>\n",
       "      <td>08e49f1028_2</td>\n",
       "      <td>Cloud Concepts: Describe cloud service types</td>\n",
       "      <td>Infrastructure as a service (IaaS)</td>\n",
       "      <td>[Customer has largest share of responsibility ...</td>\n",
       "      <td>Customer has largest share of responsibility i...</td>\n",
       "      <td>[0.09377581, -0.09716232, -0.029859366, -0.000...</td>\n",
       "      <td>[-0.028358031, -0.050796855, 0.0057167998, -0....</td>\n",
       "      <td>[-0.007555988, -0.020715015, -0.017336251, -0....</td>\n",
       "    </tr>\n",
       "    <tr>\n",
       "      <th>2</th>\n",
       "      <td>08e49f1028_3</td>\n",
       "      <td>Cloud Concepts: Describe cloud service types</td>\n",
       "      <td>Infrastructure as a service (IaaS)</td>\n",
       "      <td>[Only the physical resources are controlled by...</td>\n",
       "      <td>Only the physical resources are controlled by ...</td>\n",
       "      <td>[0.09377581, -0.09716232, -0.029859366, -0.000...</td>\n",
       "      <td>[-0.028358031, -0.050796855, 0.0057167998, -0....</td>\n",
       "      <td>[0.1366964, 0.025903566, -0.085381664, 0.00066...</td>\n",
       "    </tr>\n",
       "    <tr>\n",
       "      <th>3</th>\n",
       "      <td>08e49f1028_4</td>\n",
       "      <td>Cloud Concepts: Describe cloud service types</td>\n",
       "      <td>Infrastructure as a service (IaaS)</td>\n",
       "      <td>[Customer is responsible for installation and ...</td>\n",
       "      <td>Customer is responsible for installation and c...</td>\n",
       "      <td>[0.09377581, -0.09716232, -0.029859366, -0.000...</td>\n",
       "      <td>[-0.028358031, -0.050796855, 0.0057167998, -0....</td>\n",
       "      <td>[-0.10961027, 0.025502004, 0.089653715, 0.0039...</td>\n",
       "    </tr>\n",
       "    <tr>\n",
       "      <th>4</th>\n",
       "      <td>08e49f1028_5</td>\n",
       "      <td>Cloud Concepts: Describe cloud service types</td>\n",
       "      <td>Infrastructure as a service (IaaS)</td>\n",
       "      <td>[**Scenarios to use IaaS**:, Lift-and-shift mi...</td>\n",
       "      <td>**Scenarios to use IaaS**:\\nLift-and-shift mig...</td>\n",
       "      <td>[0.09377581, -0.09716232, -0.029859366, -0.000...</td>\n",
       "      <td>[-0.028358031, -0.050796855, 0.0057167998, -0....</td>\n",
       "      <td>[0.0007722905, -0.059340313, -0.028729936, 0.0...</td>\n",
       "    </tr>\n",
       "  </tbody>\n",
       "</table>\n",
       "</div>"
      ],
      "text/plain": [
       "         doc_id                                         header  \\\n",
       "0  08e49f1028_1   Cloud Concepts: Describe cloud service types   \n",
       "1  08e49f1028_2   Cloud Concepts: Describe cloud service types   \n",
       "2  08e49f1028_3   Cloud Concepts: Describe cloud service types   \n",
       "3  08e49f1028_4   Cloud Concepts: Describe cloud service types   \n",
       "4  08e49f1028_5   Cloud Concepts: Describe cloud service types   \n",
       "\n",
       "                             subheader  \\\n",
       "0   Infrastructure as a service (IaaS)   \n",
       "1   Infrastructure as a service (IaaS)   \n",
       "2   Infrastructure as a service (IaaS)   \n",
       "3   Infrastructure as a service (IaaS)   \n",
       "4   Infrastructure as a service (IaaS)   \n",
       "\n",
       "                                            document  \\\n",
       "0  [Customer has maximum control of cloud resourc...   \n",
       "1  [Customer has largest share of responsibility ...   \n",
       "2  [Only the physical resources are controlled by...   \n",
       "3  [Customer is responsible for installation and ...   \n",
       "4  [**Scenarios to use IaaS**:, Lift-and-shift mi...   \n",
       "\n",
       "                                            doc_text  \\\n",
       "0   Customer has maximum control of cloud resources.   \n",
       "1  Customer has largest share of responsibility i...   \n",
       "2  Only the physical resources are controlled by ...   \n",
       "3  Customer is responsible for installation and c...   \n",
       "4  **Scenarios to use IaaS**:\\nLift-and-shift mig...   \n",
       "\n",
       "                                          header_vec  \\\n",
       "0  [0.09377581, -0.09716232, -0.029859366, -0.000...   \n",
       "1  [0.09377581, -0.09716232, -0.029859366, -0.000...   \n",
       "2  [0.09377581, -0.09716232, -0.029859366, -0.000...   \n",
       "3  [0.09377581, -0.09716232, -0.029859366, -0.000...   \n",
       "4  [0.09377581, -0.09716232, -0.029859366, -0.000...   \n",
       "\n",
       "                                       subheader_vec  \\\n",
       "0  [-0.028358031, -0.050796855, 0.0057167998, -0....   \n",
       "1  [-0.028358031, -0.050796855, 0.0057167998, -0....   \n",
       "2  [-0.028358031, -0.050796855, 0.0057167998, -0....   \n",
       "3  [-0.028358031, -0.050796855, 0.0057167998, -0....   \n",
       "4  [-0.028358031, -0.050796855, 0.0057167998, -0....   \n",
       "\n",
       "                                        doc_text_vec  \n",
       "0  [0.075708605, -0.053222008, -0.05039908, 0.006...  \n",
       "1  [-0.007555988, -0.020715015, -0.017336251, -0....  \n",
       "2  [0.1366964, 0.025903566, -0.085381664, 0.00066...  \n",
       "3  [-0.10961027, 0.025502004, 0.089653715, 0.0039...  \n",
       "4  [0.0007722905, -0.059340313, -0.028729936, 0.0...  "
      ]
     },
     "execution_count": 6,
     "metadata": {},
     "output_type": "execute_result"
    }
   ],
   "source": [
    "df.head()"
   ]
  },
  {
   "cell_type": "code",
   "execution_count": 9,
   "id": "6d4ab23c-753b-4726-9e39-56741b199881",
   "metadata": {},
   "outputs": [],
   "source": [
    "output_pkl = 'az900_notes_with_vectors.pkl'\n",
    "df.to_pickle(f\"{folder}{output_pkl}\")"
   ]
  },
  {
   "cell_type": "code",
   "execution_count": null,
   "id": "4c9b39db-81d1-43a4-b933-6505555abfc5",
   "metadata": {},
   "outputs": [],
   "source": []
  }
 ],
 "metadata": {
  "kernelspec": {
   "display_name": "Python 3 (ipykernel)",
   "language": "python",
   "name": "python3"
  },
  "language_info": {
   "codemirror_mode": {
    "name": "ipython",
    "version": 3
   },
   "file_extension": ".py",
   "mimetype": "text/x-python",
   "name": "python",
   "nbconvert_exporter": "python",
   "pygments_lexer": "ipython3",
   "version": "3.12.3"
  }
 },
 "nbformat": 4,
 "nbformat_minor": 5
}
